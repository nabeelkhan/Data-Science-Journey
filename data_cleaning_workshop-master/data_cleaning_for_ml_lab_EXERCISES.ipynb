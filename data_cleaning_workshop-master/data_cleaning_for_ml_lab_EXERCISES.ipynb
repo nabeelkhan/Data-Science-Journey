{
 "cells": [
  {
   "cell_type": "markdown",
   "metadata": {},
   "source": [
    "# Data Cleaning for Machine Learning Lab w/ Template"
   ]
  },
  {
   "cell_type": "markdown",
   "metadata": {},
   "source": [
    "[Full Project Checklist Here](https://docs.google.com/spreadsheets/d/1y4EdxeAliOQw9CDHx0_brjmk-LUb3gfX52zLGSqLg_g/edit?usp=sharing)"
   ]
  },
  {
   "cell_type": "markdown",
   "metadata": {},
   "source": [
    "In this notebook, we will be cleaning, exploring, preprocessing, and modeling [Airbnb listing data](http://insideairbnb.com/get-the-data.html) from Boston and Cambridge.\n",
    "\n",
    "The purpose of this notebook is to \n",
    "1. practice data cleaning for ML and \n",
    "2. show how to effectively use this template to bring some structure to your ML projects."
   ]
  },
  {
   "cell_type": "markdown",
   "metadata": {},
   "source": [
    "### Instructions"
   ]
  },
  {
   "cell_type": "markdown",
   "metadata": {},
   "source": [
    "1. Edit all cells that say \"TO DO\""
   ]
  },
  {
   "cell_type": "code",
   "execution_count": null,
   "metadata": {},
   "outputs": [],
   "source": [
    "## TO DO: Add 1 + 1"
   ]
  },
  {
   "cell_type": "markdown",
   "metadata": {},
   "source": [
    "2. Read, but do not edit, cells that say \"DO NOT CHANGE\""
   ]
  },
  {
   "cell_type": "code",
   "execution_count": 87,
   "metadata": {},
   "outputs": [
    {
     "data": {
      "text/plain": [
       "True"
      ]
     },
     "execution_count": 87,
     "metadata": {},
     "output_type": "execute_result"
    }
   ],
   "source": [
    "## DO NOT CHANGE:\n",
    "10%2==0"
   ]
  },
  {
   "cell_type": "markdown",
   "metadata": {},
   "source": [
    "## Prerequisite: Business and Data Understanding\n",
    "\n",
    "Before doing any data cleaning or exploration, do the best you can to identify your goals, questions, and purpose of this analysis. Additionally, try to get your hands on a Data Dictionary or schema if you can. You, ideally, will be able to answer questions like this...\n",
    "\n",
    "- Business Questions:\n",
    "    - What's the goal of this analysis?\n",
    "    - What're some questions I want to answer?\n",
    "    - Do I need machine learning?\n",
    "- Data Questions:\n",
    "    - How many features should I expect?\n",
    "    - How much text, categorical, or image data to I have? All of these need to be turned into numbers somehow.\n",
    "    - Do I already have the datasets that I need?\n",
    "\n",
    "Honestly, taking 1-2 hours to answer these can go a long way.\n",
    "\n",
    "> **One of the worst feelings you can get in these situations is feeling overwhelmed and lost while trying to understand a big and messy dataset. You're doing yourself a favor by studying the data before you dive in.**"
   ]
  },
  {
   "cell_type": "markdown",
   "metadata": {},
   "source": [
    "---\n",
    "\n",
    "### Let's Get Started...\n",
    "\n",
    "---"
   ]
  },
  {
   "cell_type": "markdown",
   "metadata": {},
   "source": [
    "## Table of Contents <a class='anchor' id='toc'></a>\n",
    "\n",
    "#### I. [Import Data & Libraries](#idl)\n",
    "#### II. [Exploratory Data Analysis](#eda)\n",
    "#### III. [Train/Test Split](#tts)\n",
    "#### IV. [Prepare for ML](#pfm)\n",
    "#### V. [Pick your Models](#pym)\n",
    "#### VI. [Model Selection](#ms)\n",
    "#### VII. [Model Tuning](#mt)\n",
    "#### VIII. [Pick the Best Model](#pbm)\n",
    "\n"
   ]
  },
  {
   "cell_type": "markdown",
   "metadata": {},
   "source": [
    "## I. Import Data & Libraries <a class=\"anchor\" id=\"idl\"></a>"
   ]
  },
  {
   "cell_type": "markdown",
   "metadata": {},
   "source": [
    "### Import Libraries"
   ]
  },
  {
   "cell_type": "code",
   "execution_count": null,
   "metadata": {},
   "outputs": [],
   "source": [
    "## DO NOT CHANGE\n",
    "\n",
    "# Data manipulation\n",
    "import pandas as pd\n",
    "import numpy as np\n",
    "\n",
    "# More Data Preprocessing & Machine Learning\n",
    "from sklearn.model_selection import train_test_split\n",
    "from sklearn.preprocessing import MultiLabelBinarizer, OneHotEncoder, StandardScaler\n",
    "from sklearn.impute import SimpleImputer\n",
    "\n",
    "# Data Viz\n",
    "import seaborn as sns\n",
    "import matplotlib.pyplot as plt\n",
    "%matplotlib inline"
   ]
  },
  {
   "cell_type": "markdown",
   "metadata": {},
   "source": [
    "### Downloading/Importing Data"
   ]
  },
  {
   "cell_type": "code",
   "execution_count": null,
   "metadata": {},
   "outputs": [],
   "source": [
    "## DO NOT CHANGE\n",
    "boston_url = \"https://github.com/pdeguzman96/data_cleaning_workshop/blob/master/boston.csv?raw=true\"\n",
    "cambridge_url = \"https://github.com/pdeguzman96/data_cleaning_workshop/blob/master/cambridge.csv?raw=true\""
   ]
  },
  {
   "cell_type": "code",
   "execution_count": null,
   "metadata": {},
   "outputs": [],
   "source": [
    "## TO DO: import the data using the links above (Hint: pd.read_csv may be helpful)\n",
    "\n",
    "## if you have the csv files saved into your directory (which you should if you downloaded the whole Github repo)\n",
    "    ## Just replace the urls with the filepath\n",
    "boston_df = \n",
    "cambridge_df = "
   ]
  },
  {
   "cell_type": "code",
   "execution_count": null,
   "metadata": {
    "scrolled": false
   },
   "outputs": [],
   "source": [
    "## DO NOT CHANGE\n",
    "## TO DO: Skim through all the columns. There are a lot of columns that we don't need right now.\n",
    "pd.options.display.max_rows = boston_df.shape[1]\n",
    "boston_df.head(2).T"
   ]
  },
  {
   "cell_type": "markdown",
   "metadata": {},
   "source": [
    "Dropping columns that we're not going to use for this notebook."
   ]
  },
  {
   "cell_type": "code",
   "execution_count": null,
   "metadata": {},
   "outputs": [],
   "source": [
    "## DO NOT CHANGE\n",
    "## These are urls, irrelevant dates, text data, names, zipcode, repetitive information, columns with 1 value\n",
    "\n",
    "drop = ['listing_url', 'scrape_id', 'last_scraped', 'summary', 'space', 'description', 'neighborhood_overview',\n",
    "        'notes', 'transit', 'access', 'interaction', 'house_rules', 'thumbnail_url', 'medium_url', 'picture_url',\n",
    "        'xl_picture_url', 'host_id', 'host_url', 'host_about', 'host_thumbnail_url', 'host_picture_url',\n",
    "        'calendar_updated', 'calendar_last_scraped', 'license', 'name', 'host_name', 'zipcode', 'id','city', 'state',\n",
    "        'market','jurisdiction_names', 'host_location', 'street', 'experiences_offered','country_code','country',\n",
    "        'has_availability','is_business_travel_ready', 'host_neighbourhood','neighbourhood_cleansed','smart_location',\n",
    "        'neighbourhood']"
   ]
  },
  {
   "cell_type": "code",
   "execution_count": null,
   "metadata": {},
   "outputs": [],
   "source": [
    "## TO DO: drop the columns above from boston_df and cambridge_df"
   ]
  },
  {
   "cell_type": "code",
   "execution_count": null,
   "metadata": {},
   "outputs": [],
   "source": [
    "## TO DO: concatenate the dataframes together (hint: pd.concat using axis=0 and ignore_index=True). Store in df\n",
    "df = "
   ]
  },
  {
   "cell_type": "markdown",
   "metadata": {},
   "source": [
    "## II. Exploratory Data Analysis<a class=\"anchor\" id=\"eda\"></a>\n",
    "**[Back to top](#toc)**\n",
    "\n",
    "This section is where you're going to really try to get a feel of what you're dealing with. You'll be doing lots of cleaning and visualizing before you're ready for ML.\n",
    "\n",
    "This usually the most time consuming section before you get to a simple working ML algorithm."
   ]
  },
  {
   "cell_type": "markdown",
   "metadata": {},
   "source": [
    "### A. Duplicate Value Check\n",
    "\n",
    "We don't need/want any rows that are purely identical to one another."
   ]
  },
  {
   "cell_type": "code",
   "execution_count": null,
   "metadata": {},
   "outputs": [],
   "source": [
    "## TO DO: drop any duplicate rows"
   ]
  },
  {
   "cell_type": "markdown",
   "metadata": {},
   "source": [
    "Were there any duplicates?"
   ]
  },
  {
   "cell_type": "markdown",
   "metadata": {},
   "source": [
    "### B. Separate Data Types"
   ]
  },
  {
   "cell_type": "markdown",
   "metadata": {},
   "source": [
    "Generally, there are 5-6 types of data you will run into.\n",
    "\n",
    "1. Numerical\n",
    "2. Categorical\n",
    "3. Date/Time\n",
    "4. Text\n",
    "5. Image\n",
    "6. Sound\n",
    "\n",
    "We don't have any Image or Sound data, and we removed Text data to make this simple and easier, so we're going to have to deal with Numerical, Categorical, and Date/Time."
   ]
  },
  {
   "cell_type": "markdown",
   "metadata": {},
   "source": [
    "**Let's start with separating our data apart into Numerical and Categorical.**"
   ]
  },
  {
   "cell_type": "code",
   "execution_count": null,
   "metadata": {},
   "outputs": [],
   "source": [
    "## TO DO: create a dataframe of only categorical variables (Hint: df.select_dtypes(['object', 'bool']))\n",
    "cat_df =\n",
    "\n",
    "## TO DO: create a dataframe of only numerical variables (Hint: data types \"int\" or \"float\")\n",
    "num_df ="
   ]
  },
  {
   "cell_type": "markdown",
   "metadata": {},
   "source": [
    "---\n",
    "So now we need to account for all of the following possible data types...\n",
    "\n",
    "1. Numerical *(1.3, -2.345, 6,423.1)*\n",
    "2. Categorical\n",
    "    - Binary *(True/False, 0/1, Heads/Tails)*\n",
    "    - Ordinal *(Low, Medium, High)*\n",
    "    - Nominal *(Red, Blue, Purple)*\n",
    "3. Date/Time \n",
    "\n",
    "---\n",
    "\n",
    "> As you take an inventory of your data, use this next section to look through your data to **identify anything you have to fix** in order for your data to be **ready for EDA**."
   ]
  },
  {
   "cell_type": "markdown",
   "metadata": {},
   "source": [
    "#### Skim through the Numerical data"
   ]
  },
  {
   "cell_type": "code",
   "execution_count": null,
   "metadata": {},
   "outputs": [],
   "source": [
    "# Glance at the numerical data\n",
    "num_df.head().T"
   ]
  },
  {
   "cell_type": "markdown",
   "metadata": {},
   "source": [
    "The numerical features should look OK. Nothing obvious that we have to fix other than missing values, which we will deal with later."
   ]
  },
  {
   "cell_type": "markdown",
   "metadata": {},
   "source": [
    "#### Skim through the Catgorical Data\n",
    "\n",
    "Most (if not, all) problems will come from this subset."
   ]
  },
  {
   "cell_type": "code",
   "execution_count": null,
   "metadata": {},
   "outputs": [],
   "source": [
    "# Skim the output to look for things to fix\n",
    "cat_df.head().T"
   ]
  },
  {
   "cell_type": "markdown",
   "metadata": {},
   "source": [
    "**We have a lot of work to do for these categorical columns.**\n",
    "\n",
    "**Here's what we're going to take care of below...**\n",
    "1. Numerical data stored as Categorial (strings)\n",
    "    - Convert some of these to numerical columns (i.e. `price` features and `host_response_rate`)\n",
    "2. Binary data needs to be binarized into 1's and 0's\n",
    "    - We can Binarize the Binary/Boolean columns (such as `requires_license`)\n",
    "3. Ordinal (should generally be encoded to retain their information (e.g. {1,2,3} to encode {low, med, high})\n",
    "    - The only ordinal-looking column I see is `host_response_time`, but let's treat it as nominal for simplicity\n",
    "4. Nominal data to be unpacked, then later one hot encoded\n",
    "    - `host_verifications` and `amenities` have multiple items that need to be extrapolated into their own columns\n",
    "    - All other categorical columns, like `neighborhood`, `cancellation_policy`, `property_type` should be one hot encoded.\n",
    "5. Date/Time features need to be engineered\n",
    "    - Using these dates we can engineer features from the dates columns. We'll do this later"
   ]
  },
  {
   "cell_type": "markdown",
   "metadata": {},
   "source": [
    "### C. Initial Data Cleaning (for exploration)\n",
    "\n",
    "Before we're ready to perform some EDA (Exploratory Data Analysis), we should address the points stated above."
   ]
  },
  {
   "cell_type": "markdown",
   "metadata": {},
   "source": [
    "#### Convert Numerical Features to Numerical Data Types (if they were typed as objects instead of numbers)"
   ]
  },
  {
   "cell_type": "code",
   "execution_count": null,
   "metadata": {},
   "outputs": [],
   "source": [
    "## DO NOT CHANGE\n",
    "\n",
    "# Getting all the features that should be numerical, but are typed as objects (strings)\n",
    "cat_to_num = ['host_response_rate', 'price', 'weekly_price',\n",
    "              'monthly_price', 'security_deposit', 'cleaning_fee', 'extra_people']\n",
    "\n",
    "# Keeping changes in a temporary copied DataFrame\n",
    "# Setting deep=True creates a \"deepcopy\", which guarantees that you're creating a new object\n",
    "    # Sometimes when you copy an object into a new variable, this new variable just points back to the copied object\n",
    "    # This can have unintended consequences - if you edit one variable, you also might edit the other\n",
    "cat_to_num_df = cat_df[cat_to_num].copy(deep=True)"
   ]
  },
  {
   "cell_type": "code",
   "execution_count": null,
   "metadata": {},
   "outputs": [],
   "source": [
    "## TO DO: Take a peek at the data in cat_to_num_df using head(), What do you see?"
   ]
  },
  {
   "cell_type": "code",
   "execution_count": null,
   "metadata": {},
   "outputs": [],
   "source": [
    "## TO DO: remove the percent sign, then convert to a number (Hint: str.replace() & astype() will be useful)\n",
    "## Overwrite the old values with the updated values in 'host_response_rate'\n"
   ]
  },
  {
   "cell_type": "markdown",
   "metadata": {},
   "source": [
    "For the rest of the columns regarding price, remove the \"$\" and \",\" then convert to float."
   ]
  },
  {
   "cell_type": "code",
   "execution_count": null,
   "metadata": {},
   "outputs": [],
   "source": [
    "## DO NOT CHANGE\n",
    "price_cols = ['price', 'weekly_price','monthly_price', 'security_deposit', 'cleaning_fee', 'extra_people']"
   ]
  },
  {
   "cell_type": "code",
   "execution_count": null,
   "metadata": {},
   "outputs": [],
   "source": [
    "## TO DO: For each of the price columns, remove commas and dollar signs, then convert it to float\n",
    "for col in price_cols:"
   ]
  },
  {
   "cell_type": "code",
   "execution_count": null,
   "metadata": {},
   "outputs": [],
   "source": [
    "## TO DO: Append the new cat_to_num_df data to the num_df DataFrame using pd.concat and axis=1\n",
    "num_df ="
   ]
  },
  {
   "cell_type": "code",
   "execution_count": null,
   "metadata": {},
   "outputs": [],
   "source": [
    "## TO DO: Drop the old columns from the cat_df DataFrame using the appropriate axis\n",
    "cat_df = "
   ]
  },
  {
   "cell_type": "markdown",
   "metadata": {},
   "source": [
    "#### Convert Binary Columns to Boolean (Not necessary for exploration, but we have to do this later anyway)"
   ]
  },
  {
   "cell_type": "code",
   "execution_count": null,
   "metadata": {},
   "outputs": [],
   "source": [
    "bi_cols = []\n",
    "\n",
    "## TO DO: Loop through each column and store all columns with only 2 values in the bi_cols list\n",
    "## Hint: the nunique() method will be helpful\n",
    "\n",
    "for col in cat_df.columns:\n",
    "        \n",
    "## TO DO: Take a peek at first few rows of the columns in bi_cols. What do you see?"
   ]
  },
  {
   "cell_type": "code",
   "execution_count": null,
   "metadata": {},
   "outputs": [],
   "source": [
    "## TO DO: Convert all binary columns to 1's and 0's. (Hint: the .map() method with a dictionary is helpful and fast)\n",
    "## Make sure you overwrite the old columns with these new ones in cat_df"
   ]
  },
  {
   "cell_type": "code",
   "execution_count": null,
   "metadata": {},
   "outputs": [],
   "source": [
    "## TO DO: Take a peak at the bi_cols in cat_df using head to see if everything looks okay"
   ]
  },
  {
   "cell_type": "markdown",
   "metadata": {},
   "source": [
    "#### Nominal (Extrapolating Multiple Values in one Feature)\n",
    "\n",
    "- host_verifications\n",
    "- amenities"
   ]
  },
  {
   "cell_type": "code",
   "execution_count": 25,
   "metadata": {},
   "outputs": [
    {
     "data": {
      "text/html": [
       "<div>\n",
       "<style scoped>\n",
       "    .dataframe tbody tr th:only-of-type {\n",
       "        vertical-align: middle;\n",
       "    }\n",
       "\n",
       "    .dataframe tbody tr th {\n",
       "        vertical-align: top;\n",
       "    }\n",
       "\n",
       "    .dataframe thead th {\n",
       "        text-align: right;\n",
       "    }\n",
       "</style>\n",
       "<table border=\"1\" class=\"dataframe\">\n",
       "  <thead>\n",
       "    <tr style=\"text-align: right;\">\n",
       "      <th></th>\n",
       "      <th>host_verifications</th>\n",
       "      <th>amenities</th>\n",
       "    </tr>\n",
       "  </thead>\n",
       "  <tbody>\n",
       "    <tr>\n",
       "      <td>0</td>\n",
       "      <td>['email', 'phone', 'reviews', 'kba']</td>\n",
       "      <td>{TV,\"Cable TV\",Internet,Wifi,\"Air conditioning...</td>\n",
       "    </tr>\n",
       "    <tr>\n",
       "      <td>1</td>\n",
       "      <td>['email', 'phone', 'reviews', 'kba']</td>\n",
       "      <td>{TV,\"Cable TV\",Internet,Wifi,\"Air conditioning...</td>\n",
       "    </tr>\n",
       "  </tbody>\n",
       "</table>\n",
       "</div>"
      ],
      "text/plain": [
       "                     host_verifications  \\\n",
       "0  ['email', 'phone', 'reviews', 'kba']   \n",
       "1  ['email', 'phone', 'reviews', 'kba']   \n",
       "\n",
       "                                           amenities  \n",
       "0  {TV,\"Cable TV\",Internet,Wifi,\"Air conditioning...  \n",
       "1  {TV,\"Cable TV\",Internet,Wifi,\"Air conditioning...  "
      ]
     },
     "execution_count": 25,
     "metadata": {},
     "output_type": "execute_result"
    }
   ],
   "source": [
    "## DO NOT CHANGE\n",
    "## Next, we need to unpack these values in order for them to be meaningful\n",
    "cat_df[['host_verifications', 'amenities']].head(2)"
   ]
  },
  {
   "cell_type": "markdown",
   "metadata": {},
   "source": [
    "> **Let's start by turning these features into lists.**\n",
    "\n",
    "Looking at the first few rows above, it looks like we need to remove the brackets, curly brackets, and quotes.\n",
    "\n",
    "For example, we need to turn the string `\"['email', 'phone', 'reviews', 'kba']\"` into a Python list `[email, phone, reviews, kba]` for each row."
   ]
  },
  {
   "cell_type": "code",
   "execution_count": null,
   "metadata": {},
   "outputs": [],
   "source": [
    "## DO NOT CHANGE\n",
    "## This function is meant to be used with the apply method\n",
    "def striplist(l):\n",
    "    '''\n",
    "    To be used with the apply method on a packed feature\n",
    "    '''\n",
    "    return([x.strip() for x in l])"
   ]
  },
  {
   "cell_type": "code",
   "execution_count": null,
   "metadata": {},
   "outputs": [],
   "source": [
    "## DO NOT CHANGE\n",
    "# These steps turn the string into lists\n",
    "# Note: You can break code lines using \"\\\"\n",
    "cat_df['host_verifications'] = cat_df['host_verifications'].str.replace('[', '') \\\n",
    "                                                           .str.replace(']', '') \\\n",
    "                                                           .str.replace(\"'\",'') \\\n",
    "                                                           .str.lower() \\\n",
    "                                                           .str.split(',') \\\n",
    "                                                           .apply(striplist)"
   ]
  },
  {
   "cell_type": "code",
   "execution_count": null,
   "metadata": {},
   "outputs": [],
   "source": [
    "## TO DO: turn the amenities column of strings into a column of lists (similar to what we did above)"
   ]
  },
  {
   "cell_type": "markdown",
   "metadata": {},
   "source": [
    "Binarizing the lists (sklearn has a handy transformer, `MultiLabelBinarizer` that can do this for you efficiently).\n",
    "\n",
    "This Transformer will turn the lists within each column into dummy features."
   ]
  },
  {
   "cell_type": "code",
   "execution_count": null,
   "metadata": {},
   "outputs": [],
   "source": [
    "## TO DO: instantiate the MultiLabelBinarizer() (make sure you include the parentheses to create the object)\n",
    "mlb = "
   ]
  },
  {
   "cell_type": "code",
   "execution_count": null,
   "metadata": {},
   "outputs": [],
   "source": [
    "## TO DO: Use the MultiLabelBinarizer to fit and transform host_verifications\n",
    "## TO DO: Store this result in an object called host_verif_matrix (note that sklearn transformers output numpy arrays)\n",
    "host_verif_matrix = "
   ]
  },
  {
   "cell_type": "code",
   "execution_count": 31,
   "metadata": {},
   "outputs": [
    {
     "data": {
      "text/html": [
       "<div>\n",
       "<style scoped>\n",
       "    .dataframe tbody tr th:only-of-type {\n",
       "        vertical-align: middle;\n",
       "    }\n",
       "\n",
       "    .dataframe tbody tr th {\n",
       "        vertical-align: top;\n",
       "    }\n",
       "\n",
       "    .dataframe thead th {\n",
       "        text-align: right;\n",
       "    }\n",
       "</style>\n",
       "<table border=\"1\" class=\"dataframe\">\n",
       "  <thead>\n",
       "    <tr style=\"text-align: right;\">\n",
       "      <th></th>\n",
       "      <th>email</th>\n",
       "      <th>facebook</th>\n",
       "      <th>google</th>\n",
       "      <th>government_id</th>\n",
       "      <th>identity_manual</th>\n",
       "      <th>jumio</th>\n",
       "      <th>kba</th>\n",
       "      <th>manual_offline</th>\n",
       "      <th>manual_online</th>\n",
       "      <th>none</th>\n",
       "      <th>offline_government_id</th>\n",
       "      <th>phone</th>\n",
       "      <th>reviews</th>\n",
       "      <th>selfie</th>\n",
       "      <th>sesame</th>\n",
       "      <th>sesame_offline</th>\n",
       "      <th>weibo</th>\n",
       "      <th>work_email</th>\n",
       "      <th>zhima_selfie</th>\n",
       "    </tr>\n",
       "  </thead>\n",
       "  <tbody>\n",
       "    <tr>\n",
       "      <td>0</td>\n",
       "      <td>1</td>\n",
       "      <td>0</td>\n",
       "      <td>0</td>\n",
       "      <td>0</td>\n",
       "      <td>0</td>\n",
       "      <td>0</td>\n",
       "      <td>1</td>\n",
       "      <td>0</td>\n",
       "      <td>0</td>\n",
       "      <td>0</td>\n",
       "      <td>0</td>\n",
       "      <td>1</td>\n",
       "      <td>1</td>\n",
       "      <td>0</td>\n",
       "      <td>0</td>\n",
       "      <td>0</td>\n",
       "      <td>0</td>\n",
       "      <td>0</td>\n",
       "      <td>0</td>\n",
       "    </tr>\n",
       "    <tr>\n",
       "      <td>1</td>\n",
       "      <td>1</td>\n",
       "      <td>0</td>\n",
       "      <td>0</td>\n",
       "      <td>0</td>\n",
       "      <td>0</td>\n",
       "      <td>0</td>\n",
       "      <td>1</td>\n",
       "      <td>0</td>\n",
       "      <td>0</td>\n",
       "      <td>0</td>\n",
       "      <td>0</td>\n",
       "      <td>1</td>\n",
       "      <td>1</td>\n",
       "      <td>0</td>\n",
       "      <td>0</td>\n",
       "      <td>0</td>\n",
       "      <td>0</td>\n",
       "      <td>0</td>\n",
       "      <td>0</td>\n",
       "    </tr>\n",
       "  </tbody>\n",
       "</table>\n",
       "</div>"
      ],
      "text/plain": [
       "   email  facebook  google  government_id  identity_manual  jumio  kba  \\\n",
       "0      1         0       0              0                0      0    1   \n",
       "1      1         0       0              0                0      0    1   \n",
       "\n",
       "   manual_offline  manual_online  none  offline_government_id  phone  reviews  \\\n",
       "0               0              0     0                      0      1        1   \n",
       "1               0              0     0                      0      1        1   \n",
       "\n",
       "   selfie  sesame  sesame_offline  weibo  work_email  zhima_selfie  \n",
       "0       0       0               0      0           0             0  \n",
       "1       0       0               0      0           0             0  "
      ]
     },
     "execution_count": 31,
     "metadata": {},
     "output_type": "execute_result"
    }
   ],
   "source": [
    "## DO NOT CHANGE\n",
    "# This is what the output looks like when you use this transformer.\n",
    "# The below code converts the matrix to a DataFrame\n",
    "host_verif_df = pd.DataFrame(host_verif_matrix, columns = mlb.classes_)\n",
    "host_verif_df.head(2)"
   ]
  },
  {
   "cell_type": "code",
   "execution_count": null,
   "metadata": {},
   "outputs": [],
   "source": [
    "## TO DO: Use the MultiLabelBinarizer to fit and transform amenities\n",
    "amenities_matrix = \n",
    "\n",
    "## TO DO: Store this result in a DataFrame called amenities_df (similar to what we did above with host_verif_df)\n",
    "amenities_df = \n",
    "## TO DO: Print the first few rows of amenities_df using head()"
   ]
  },
  {
   "cell_type": "markdown",
   "metadata": {},
   "source": [
    "Does something look weird about the very first column after the index? \n",
    "\n",
    "It looks like we picked up a blank column with an empty string as the name. This probably happened because there were blanks in the `amenities` lists. Let's just drop it this column."
   ]
  },
  {
   "cell_type": "code",
   "execution_count": null,
   "metadata": {},
   "outputs": [],
   "source": [
    "## TO DO: in the amenities_df, drop the column that's named '' (Hint: amenities_df.drop())"
   ]
  },
  {
   "cell_type": "markdown",
   "metadata": {},
   "source": [
    "Now we need to drop the original columns and concatenate the new DataFrames together to the original `cat_df` DataFrame."
   ]
  },
  {
   "cell_type": "code",
   "execution_count": null,
   "metadata": {},
   "outputs": [],
   "source": [
    "## TO DO: drop the old host_verifications and amenities features from cat_df\n",
    "cat_df = \n",
    "\n",
    "## TO DO: concatenate amenities_df and host_verif_df to the original cat_df DataFrame\n",
    "cat_df = "
   ]
  },
  {
   "cell_type": "markdown",
   "metadata": {},
   "source": [
    "#### Date/Time Feature Engineering\n",
    "\n",
    "Typically, date/time data is used in time-series analysis. We're not dealing with time-series analysis, so we can get rid of these columns. However, before we get rid of them, let's create some features that might be useful for us later."
   ]
  },
  {
   "cell_type": "code",
   "execution_count": 35,
   "metadata": {},
   "outputs": [
    {
     "data": {
      "text/html": [
       "<div>\n",
       "<style scoped>\n",
       "    .dataframe tbody tr th:only-of-type {\n",
       "        vertical-align: middle;\n",
       "    }\n",
       "\n",
       "    .dataframe tbody tr th {\n",
       "        vertical-align: top;\n",
       "    }\n",
       "\n",
       "    .dataframe thead th {\n",
       "        text-align: right;\n",
       "    }\n",
       "</style>\n",
       "<table border=\"1\" class=\"dataframe\">\n",
       "  <thead>\n",
       "    <tr style=\"text-align: right;\">\n",
       "      <th></th>\n",
       "      <th>host_since</th>\n",
       "      <th>first_review</th>\n",
       "      <th>last_review</th>\n",
       "    </tr>\n",
       "  </thead>\n",
       "  <tbody>\n",
       "    <tr>\n",
       "      <td>0</td>\n",
       "      <td>2009-02-19</td>\n",
       "      <td>2009-03-21</td>\n",
       "      <td>2019-10-31</td>\n",
       "    </tr>\n",
       "  </tbody>\n",
       "</table>\n",
       "</div>"
      ],
      "text/plain": [
       "   host_since first_review last_review\n",
       "0  2009-02-19   2009-03-21  2019-10-31"
      ]
     },
     "execution_count": 35,
     "metadata": {},
     "output_type": "execute_result"
    }
   ],
   "source": [
    "## DO NOT CHANGE\n",
    "## Here are our date features\n",
    "dt_cols = ['host_since', 'first_review', 'last_review']\n",
    "cat_df[dt_cols].head(1)"
   ]
  },
  {
   "cell_type": "code",
   "execution_count": null,
   "metadata": {},
   "outputs": [],
   "source": [
    "## TO DO: Loop through the columns, converting them to the datetime dtype (hint: pd.to_datetime() is useful)"
   ]
  },
  {
   "cell_type": "markdown",
   "metadata": {},
   "source": [
    "Converting the date features to \"days since\" features so we have numerical values to work with."
   ]
  },
  {
   "cell_type": "code",
   "execution_count": null,
   "metadata": {},
   "outputs": [],
   "source": [
    "## TO DO: capture today's date using pd.to_datetime (Hint: you can pass the string \"today\" into to_datetime)\n",
    "today = "
   ]
  },
  {
   "cell_type": "code",
   "execution_count": null,
   "metadata": {},
   "outputs": [],
   "source": [
    "## TO DO: Create one new date feature that counts number of days since today's date for each of the three date features\n",
    "## Hint 1: You can subtract dates from one another\n",
    "## Hint 2: the Pandas datetime data type has useful attributes that you can access (e.g. datetime.days)"
   ]
  },
  {
   "cell_type": "code",
   "execution_count": null,
   "metadata": {},
   "outputs": [],
   "source": [
    "## TO DO: Drop the original date columns from cat_df"
   ]
  },
  {
   "cell_type": "code",
   "execution_count": null,
   "metadata": {},
   "outputs": [],
   "source": [
    "## TO DO: combine your num_df and cat_df into one new DataFrame named cleaned_df\n",
    "cleaned_df = "
   ]
  },
  {
   "cell_type": "markdown",
   "metadata": {},
   "source": [
    "### D. Visualize & Understand (EDA)\n",
    "\n",
    "> **Now we're in a good position for Exploratory Data Analysis**."
   ]
  },
  {
   "cell_type": "markdown",
   "metadata": {},
   "source": [
    "Use this section as an opportunity to explore some interesting questions that you can think of. \n",
    "\n",
    "> Note that a lot of interesting questions you may be interested in asking might require Machine Learning, which we can't perform until the end of this notebook."
   ]
  },
  {
   "cell_type": "markdown",
   "metadata": {},
   "source": [
    "---\n",
    "**Example EDA**\n",
    "\n",
    "Here's a simple example of something we can try to answer...\n",
    "\n",
    "*Do hosts with no recent reviews have different pricing from hosts with recent reviews?*"
   ]
  },
  {
   "cell_type": "code",
   "execution_count": 42,
   "metadata": {},
   "outputs": [],
   "source": [
    "## DO NOT CHANGE - Here's an example of a way to answer the EDA question above\n",
    "\n",
    "# Creating a discrete feature based on how recent the last review was\n",
    "bins = [0, 90, 180, 365, 730, np.inf]\n",
    "labels = ['last 90 days', 'last 180 days','last year', 'last 2 years', 'more than 2 years']\n",
    "cleaned_df['last_review_discrete'] = pd.cut(num_df['last_review_days'], bins=bins, labels=labels)\n",
    "\n",
    "# Filling the Null values in this new column with \"no reviews\", assuming Null means there are no reviews\n",
    "cleaned_df['last_review_discrete'] = np.where(cleaned_df['last_review_discrete'].isnull(),\n",
    "                                              'no reviews', \n",
    "                                              cleaned_df['last_review_discrete'])"
   ]
  },
  {
   "cell_type": "markdown",
   "metadata": {},
   "source": [
    "> Sometimes you might want to edit your data while you explore it, so it may be a good idea to copy your cleaned data into a new DataFrame just for exploration."
   ]
  },
  {
   "cell_type": "code",
   "execution_count": 43,
   "metadata": {},
   "outputs": [],
   "source": [
    "## DO NOT CHANGE \n",
    "# The colon ensures a true copy is made\n",
    "eda = cleaned_df[:]"
   ]
  },
  {
   "cell_type": "code",
   "execution_count": 44,
   "metadata": {},
   "outputs": [
    {
     "data": {
      "text/plain": [
       "Entire home/apt    2908\n",
       "Private room       1812\n",
       "Shared room          35\n",
       "Hotel room           29\n",
       "Name: room_type, dtype: int64"
      ]
     },
     "execution_count": 44,
     "metadata": {},
     "output_type": "execute_result"
    }
   ],
   "source": [
    "## DO NOT CHANGE \n",
    "# Let's separate this out between the room types. Let's ignore the last two\n",
    "eda['room_type'].value_counts()"
   ]
  },
  {
   "cell_type": "code",
   "execution_count": 45,
   "metadata": {},
   "outputs": [],
   "source": [
    "## DO NOT CHANGE \n",
    "eda_viz = eda[eda['room_type'].isin(['Entire home/apt', 'Private room'])]"
   ]
  },
  {
   "cell_type": "code",
   "execution_count": 46,
   "metadata": {
    "scrolled": true
   },
   "outputs": [
    {
     "data": {
      "image/png": "[encoded data removed]",
      "text/plain": [
       "<Figure size 720x288 with 1 Axes>"
      ]
     },
     "metadata": {
      "needs_background": "light"
     },
     "output_type": "display_data"
    }
   ],
   "source": [
    "## DO NOT CHANGE \n",
    "# Let's also remove the price outliers\n",
    "plt.figure(figsize=(10,4))\n",
    "sns.distplot(eda['price'])\n",
    "plt.show()"
   ]
  },
  {
   "cell_type": "code",
   "execution_count": 47,
   "metadata": {},
   "outputs": [],
   "source": [
    "## DO NOT CHANGE \n",
    "# Filtering out prices that are greater than 3 sample standard deviations from the mean\n",
    "price_mean = np.mean(eda['price'])\n",
    "price_std = np.std(eda['price'])\n",
    "price_cutoff = price_mean + price_std*3"
   ]
  },
  {
   "cell_type": "code",
   "execution_count": 48,
   "metadata": {},
   "outputs": [],
   "source": [
    "## DO NOT CHANGE \n",
    "eda_viz = eda_viz[eda_viz['price'] < price_cutoff]"
   ]
  },
  {
   "cell_type": "code",
   "execution_count": 49,
   "metadata": {},
   "outputs": [
    {
     "data": {
      "image/png": "[encoded data removed]",
      "text/plain": [
       "<Figure size 864x432 with 2 Axes>"
      ]
     },
     "metadata": {
      "needs_background": "light"
     },
     "output_type": "display_data"
    }
   ],
   "source": [
    "## DO NOT CHANGE \n",
    "fgrid = sns.FacetGrid(eda_viz, col='room_type', height=6,)\n",
    "fgrid.map(sns.boxplot, 'last_review_discrete', 'price', 'host_is_superhost', \n",
    "          order=labels, hue_order = [0,1])\n",
    "\n",
    "for ax in fgrid.axes.flat:\n",
    "    plt.setp(ax.get_xticklabels(), rotation=45)\n",
    "    ax.set(xlabel=None, ylabel=None)\n",
    "\n",
    "l = plt.legend(loc='upper right')\n",
    "l.get_texts()[0].set_text('Is not Superhost')\n",
    "l.get_texts()[1].set_text('Is Superhost')\n",
    "\n",
    "fgrid.fig.tight_layout(w_pad=1)"
   ]
  },
  {
   "cell_type": "markdown",
   "metadata": {},
   "source": [
    "Looking at the faceted plots above, it seems that units that haven't been reviewed for a long time are priced slightly higher than units with more recent reviews. Also, it appears that superhosts' pricing (dark blue) is higher than non-superhosts (light blue), suggesting that hosts who are verified as superhosts (hosts who are top-rated and most experienced) are priced higher than those who are not.\n",
    "\n",
    "However, we haven't verified any of these with meaningful statistical tests. This is all descriptive analysis."
   ]
  },
  {
   "cell_type": "markdown",
   "metadata": {},
   "source": [
    "---"
   ]
  },
  {
   "cell_type": "code",
   "execution_count": null,
   "metadata": {},
   "outputs": [],
   "source": [
    "## SKIP FOR NOW. Come back to this when you've finished the notebook. \n",
    "    ## Depending on what you want to try, this might take a while\n",
    "    \n",
    "## TO DO: Think of your own EDA question. Try to answer it below. \n",
    "    ## You can create features for this, but don't add them to cleaned_df, add them to a copied DF called eda\n",
    "## Some ideas...\n",
    "    ## What kinds of amenities do the expensive listings usually have?\n",
    "    ## Do hosts with many listings have higher or lower reviews than hosts with only a few listings?"
   ]
  },
  {
   "cell_type": "markdown",
   "metadata": {},
   "source": [
    "### E. Assess Missing Values\n",
    "\n",
    "> **Do not fill or impute them yet at this point! We want to fill missing values after we train/test split.**\n",
    "\n",
    "In this section, we need to come up with a strategy on how we're going to tackle our missing values. Most ML algorithms (except fancy ones like [XGBoost](https://xgboost.readthedocs.io/en/latest/index.html)) cannot handle NA values, so we need to deal with them.\n",
    "\n",
    "You have two options, and I'll describe some strategies for each option below:\n",
    "1. **Remove them**\n",
    "    - Are there many missing values in a particular **column**? Perhaps it's not very useful if there's too many missing.\n",
    "    - Are there many missing values in a particular **row**? Perhaps this missingness caused by something reasonable or a data-collecting failure. Investigate these in case you can reasonably identify a reason why they're missing before you drop them.\n",
    "    - Do some rows not contain your *response variable* of interest? Perhaps you want to predict `price` of an Airbnb listing. If so, supervised learning methods require the label (`price`) to be there, so we can disregard these rows.\n",
    "2. **Fill them** (**Warning**: it's generally **not great practice** to fill missing values **before** you **train/test split** your data. You *can* fill missing values now if it's a one-off analysis, but if this is something you want to implement in practice, you want to be able to test your entire preprocessing workflow to evaluate how good it is. Think of your strategy for filling missing values as another hyperparameter that you want to tune.)\n",
    "    - Infer the value of missing values from other columns. (e.g. If `state` is missing, but `city` is San Francisco, `state` is probably `CA`)\n",
    "    - Fill numerical values with mean, median, or mode.\n",
    "    - Fill categorical values with the most frequent value.\n",
    "    - Use machine learning techniques to predict missing values. (Check out [IterativeImputer](https://scikit-learn.org/stable/auto_examples/impute/plot_iterative_imputer_variants_comparison.html) from sklearn for a method of doing this.)"
   ]
  },
  {
   "cell_type": "markdown",
   "metadata": {},
   "source": [
    "---\n",
    "\n",
    "**Here's our approach for the section below...**\n",
    "\n",
    "1. We assess missing values per column to see if we can drop any features.\n",
    "2. We assess missing values per row to see if we can find any patterns in how these values may be missing.\n",
    "3. We strategize how we want to fill our categorical features.\n",
    "4. We strategize how we want to fill our remaining numerical features."
   ]
  },
  {
   "cell_type": "markdown",
   "metadata": {},
   "source": [
    "#### 1. Assessing Missing Values per Column"
   ]
  },
  {
   "cell_type": "code",
   "execution_count": null,
   "metadata": {},
   "outputs": [],
   "source": [
    "## TO DO: Let's assume we want to predict the price feature. \n",
    "    ## If price is the variable we want to predict, then we have to disregard rows that don't have it\n",
    "    ## Drop all rows with missing values in the 'price' column\n",
    "cleaned_df = "
   ]
  },
  {
   "cell_type": "code",
   "execution_count": null,
   "metadata": {},
   "outputs": [],
   "source": [
    "## TO DO: Calculate the proportion/percentage of NA values per column\n",
    "## TO DO: There should be 5 columns with much more than 80% of their values missing. Which 5 columns are they?\n",
    "## TO DO (OPTIONAL): Create a bar chart to visualize the proportion of NA values per column\n",
    "    # Hint: matplotlib's bar or barh are useful for this."
   ]
  },
  {
   "cell_type": "code",
   "execution_count": null,
   "metadata": {},
   "outputs": [],
   "source": [
    "## TO DO: Drop the 5 missing columns identified above from cleaned_df"
   ]
  },
  {
   "cell_type": "markdown",
   "metadata": {},
   "source": [
    "#### 2. Assessing Missing Values per Row"
   ]
  },
  {
   "cell_type": "code",
   "execution_count": null,
   "metadata": {},
   "outputs": [],
   "source": [
    "## TO DO: Create a temporary column called \"sum_na_row\" in cleaned_df that contains the number of NA values per row\n",
    "cleaned_df['sum_na_row'] = "
   ]
  },
  {
   "cell_type": "code",
   "execution_count": null,
   "metadata": {},
   "outputs": [],
   "source": [
    "## TO DO: Use matplotlib or seaborn to plot the distribution of this new column. \n",
    "    ## Is there anything in this distribution that looks odd to you??\n",
    "## Hint: seaborn's distplot() function is nice and easy for this. Alternatively, countplot() may work, too"
   ]
  },
  {
   "cell_type": "markdown",
   "metadata": {},
   "source": [
    "Look at the distribution of missing values per row. This distribution looks a little odd. Look at how few missing values per row we have between 5-9, then hundreds more from 10-14.\n",
    "\n",
    "This may be systematically created. Let's investigate if there are specific columns that are consistently empty for these rows."
   ]
  },
  {
   "cell_type": "code",
   "execution_count": null,
   "metadata": {},
   "outputs": [],
   "source": [
    "## Note: If you were able to spot the same sudden jump in missing values that I did,\n",
    "    ## you may have noticed that there are a lot of rows with 10 or more missing values,\n",
    "    ## but there's very few with 5-9 missing values. \n",
    "\n",
    "## TO DO: filter cleaned_df for only rows with 10 or more missing values. store this in a temporary DataFrame\n",
    "temp = \n",
    "\n",
    "## TO DO: get the names of the columns that contain missing values from this temporary DF\n",
    "## Hint: DF.isna().any() can be useful here. \n",
    "na_cols = \n",
    "\n",
    "# Take a peek at what these features look like. Transposed for readability\n",
    "temp[na_cols].transpose()"
   ]
  },
  {
   "cell_type": "markdown",
   "metadata": {},
   "source": [
    "Do you see any patterns in the missing-ness of our data? Which features contain many missing values?"
   ]
  },
  {
   "cell_type": "markdown",
   "metadata": {},
   "source": [
    "> It looks like a huge portion of missing values are coming from `review`-related features. Why could this be?\n",
    "---\n",
    "\n",
    "**My Guess:**\n",
    "\n",
    "NA values related to reviews are most likely missing because these particular listings do not have any reviews. This could be useful information, so I'll encode these values as `0` so they're different from the values that we do have.\n",
    "\n",
    "Although `0` may be misleading, I believe filling with `0` is better than simply removing the rows or imputing based on other values to maintain its variance from the units that actually have reviews."
   ]
  },
  {
   "cell_type": "code",
   "execution_count": null,
   "metadata": {},
   "outputs": [],
   "source": [
    "## DO NOT CHANGE \n",
    "# Collecting the numerical review-related columns\n",
    "zero_fill_cols = ['review_scores_rating', 'review_scores_accuracy', 'review_scores_cleanliness',\n",
    "               'review_scores_checkin', 'review_scores_communication', 'review_scores_location',\n",
    "               'review_scores_value', 'reviews_per_month', 'first_review_days', 'last_review_days']"
   ]
  },
  {
   "cell_type": "markdown",
   "metadata": {},
   "source": [
    "#### 3. Categorical Features with Missing Values\n",
    "\n",
    "Dealing with missing categorical data can be tricky. Here are some ways you can deal with them:\n",
    "- Fill with mode/most frequent value (e.g. if 70% of a column is \"red\", maybe you fill the remaining NA values with \"red\")\n",
    "- Infer their value from other columns (e.g. if one feature helps you make an educated guess about the missing value)\n",
    "- Create a dummy variable (e.g. if the value is missing, another dummy feature will have 1 for the missing value. Else, it will be 0)\n",
    "\n",
    "> Let's take the simple most frequent approach. We'll tackle this using the `SimpleImputer` from sklearn after we train/test split our data."
   ]
  },
  {
   "cell_type": "code",
   "execution_count": null,
   "metadata": {},
   "outputs": [],
   "source": [
    "## TO DO (OPTIONAL): isolate all categorical columns (i.e. columns of dtype 'object'), \n",
    "    ## then make countplots or barplots for each one to visualize how these features are distributed"
   ]
  },
  {
   "cell_type": "markdown",
   "metadata": {},
   "source": [
    "#### 4. Now what should we do about imputing the rest of our missing numerical features below?**"
   ]
  },
  {
   "cell_type": "markdown",
   "metadata": {},
   "source": [
    "- A lot of people like the simple approach of filling them with the **mean** or **median** of the features.\n",
    "- There's also some advanced methods of imputing missing values using Machine Learning. An examle is a neat experimental estimator in sklearn called `IterativeImputer` that uses machine learning to predict and impute many features at once. "
   ]
  },
  {
   "cell_type": "code",
   "execution_count": 61,
   "metadata": {
    "scrolled": true
   },
   "outputs": [
    {
     "data": {
      "text/html": [
       "<div>\n",
       "<style scoped>\n",
       "    .dataframe tbody tr th:only-of-type {\n",
       "        vertical-align: middle;\n",
       "    }\n",
       "\n",
       "    .dataframe tbody tr th {\n",
       "        vertical-align: top;\n",
       "    }\n",
       "\n",
       "    .dataframe thead th {\n",
       "        text-align: right;\n",
       "    }\n",
       "</style>\n",
       "<table border=\"1\" class=\"dataframe\">\n",
       "  <thead>\n",
       "    <tr style=\"text-align: right;\">\n",
       "      <th></th>\n",
       "      <th>host_listings_count</th>\n",
       "      <th>host_total_listings_count</th>\n",
       "      <th>bathrooms</th>\n",
       "      <th>bedrooms</th>\n",
       "      <th>beds</th>\n",
       "      <th>review_scores_rating</th>\n",
       "      <th>review_scores_accuracy</th>\n",
       "      <th>review_scores_cleanliness</th>\n",
       "      <th>review_scores_checkin</th>\n",
       "      <th>review_scores_communication</th>\n",
       "      <th>...</th>\n",
       "      <th>host_response_rate</th>\n",
       "      <th>security_deposit</th>\n",
       "      <th>cleaning_fee</th>\n",
       "      <th>host_since_days</th>\n",
       "      <th>first_review_days</th>\n",
       "      <th>last_review_days</th>\n",
       "      <th>host_response_time</th>\n",
       "      <th>host_is_superhost</th>\n",
       "      <th>host_has_profile_pic</th>\n",
       "      <th>host_identity_verified</th>\n",
       "    </tr>\n",
       "  </thead>\n",
       "  <tbody>\n",
       "    <tr>\n",
       "      <td>0</td>\n",
       "      <td>6.0</td>\n",
       "      <td>6.0</td>\n",
       "      <td>1.0</td>\n",
       "      <td>1.0</td>\n",
       "      <td>1.0</td>\n",
       "      <td>95.0</td>\n",
       "      <td>10.0</td>\n",
       "      <td>10.0</td>\n",
       "      <td>10.0</td>\n",
       "      <td>10.0</td>\n",
       "      <td>...</td>\n",
       "      <td>1.0</td>\n",
       "      <td>0.0</td>\n",
       "      <td>60.0</td>\n",
       "      <td>3984.0</td>\n",
       "      <td>3954.0</td>\n",
       "      <td>78.0</td>\n",
       "      <td>within an hour</td>\n",
       "      <td>0.0</td>\n",
       "      <td>1.0</td>\n",
       "      <td>1.0</td>\n",
       "    </tr>\n",
       "    <tr>\n",
       "      <td>1</td>\n",
       "      <td>6.0</td>\n",
       "      <td>6.0</td>\n",
       "      <td>1.0</td>\n",
       "      <td>1.0</td>\n",
       "      <td>2.0</td>\n",
       "      <td>96.0</td>\n",
       "      <td>10.0</td>\n",
       "      <td>10.0</td>\n",
       "      <td>10.0</td>\n",
       "      <td>10.0</td>\n",
       "      <td>...</td>\n",
       "      <td>1.0</td>\n",
       "      <td>0.0</td>\n",
       "      <td>80.0</td>\n",
       "      <td>3984.0</td>\n",
       "      <td>3816.0</td>\n",
       "      <td>76.0</td>\n",
       "      <td>within an hour</td>\n",
       "      <td>0.0</td>\n",
       "      <td>1.0</td>\n",
       "      <td>1.0</td>\n",
       "    </tr>\n",
       "    <tr>\n",
       "      <td>2</td>\n",
       "      <td>12.0</td>\n",
       "      <td>12.0</td>\n",
       "      <td>1.0</td>\n",
       "      <td>1.0</td>\n",
       "      <td>1.0</td>\n",
       "      <td>93.0</td>\n",
       "      <td>9.0</td>\n",
       "      <td>9.0</td>\n",
       "      <td>10.0</td>\n",
       "      <td>10.0</td>\n",
       "      <td>...</td>\n",
       "      <td>1.0</td>\n",
       "      <td>1000.0</td>\n",
       "      <td>250.0</td>\n",
       "      <td>3831.0</td>\n",
       "      <td>1984.0</td>\n",
       "      <td>109.0</td>\n",
       "      <td>within a few hours</td>\n",
       "      <td>1.0</td>\n",
       "      <td>1.0</td>\n",
       "      <td>0.0</td>\n",
       "    </tr>\n",
       "    <tr>\n",
       "      <td>3</td>\n",
       "      <td>12.0</td>\n",
       "      <td>12.0</td>\n",
       "      <td>1.0</td>\n",
       "      <td>1.0</td>\n",
       "      <td>1.0</td>\n",
       "      <td>95.0</td>\n",
       "      <td>10.0</td>\n",
       "      <td>9.0</td>\n",
       "      <td>10.0</td>\n",
       "      <td>10.0</td>\n",
       "      <td>...</td>\n",
       "      <td>1.0</td>\n",
       "      <td>1000.0</td>\n",
       "      <td>250.0</td>\n",
       "      <td>3831.0</td>\n",
       "      <td>3770.0</td>\n",
       "      <td>125.0</td>\n",
       "      <td>within a few hours</td>\n",
       "      <td>1.0</td>\n",
       "      <td>1.0</td>\n",
       "      <td>0.0</td>\n",
       "    </tr>\n",
       "    <tr>\n",
       "      <td>4</td>\n",
       "      <td>11.0</td>\n",
       "      <td>11.0</td>\n",
       "      <td>1.0</td>\n",
       "      <td>0.0</td>\n",
       "      <td>1.0</td>\n",
       "      <td>87.0</td>\n",
       "      <td>9.0</td>\n",
       "      <td>9.0</td>\n",
       "      <td>9.0</td>\n",
       "      <td>8.0</td>\n",
       "      <td>...</td>\n",
       "      <td>1.0</td>\n",
       "      <td>500.0</td>\n",
       "      <td>150.0</td>\n",
       "      <td>3775.0</td>\n",
       "      <td>1469.0</td>\n",
       "      <td>179.0</td>\n",
       "      <td>within an hour</td>\n",
       "      <td>0.0</td>\n",
       "      <td>1.0</td>\n",
       "      <td>0.0</td>\n",
       "    </tr>\n",
       "  </tbody>\n",
       "</table>\n",
       "<p>5 rows × 23 columns</p>\n",
       "</div>"
      ],
      "text/plain": [
       "   host_listings_count  host_total_listings_count  bathrooms  bedrooms  beds  \\\n",
       "0                  6.0                        6.0        1.0       1.0   1.0   \n",
       "1                  6.0                        6.0        1.0       1.0   2.0   \n",
       "2                 12.0                       12.0        1.0       1.0   1.0   \n",
       "3                 12.0                       12.0        1.0       1.0   1.0   \n",
       "4                 11.0                       11.0        1.0       0.0   1.0   \n",
       "\n",
       "   review_scores_rating  review_scores_accuracy  review_scores_cleanliness  \\\n",
       "0                  95.0                    10.0                       10.0   \n",
       "1                  96.0                    10.0                       10.0   \n",
       "2                  93.0                     9.0                        9.0   \n",
       "3                  95.0                    10.0                        9.0   \n",
       "4                  87.0                     9.0                        9.0   \n",
       "\n",
       "   review_scores_checkin  review_scores_communication  ...  \\\n",
       "0                   10.0                         10.0  ...   \n",
       "1                   10.0                         10.0  ...   \n",
       "2                   10.0                         10.0  ...   \n",
       "3                   10.0                         10.0  ...   \n",
       "4                    9.0                          8.0  ...   \n",
       "\n",
       "   host_response_rate  security_deposit  cleaning_fee  host_since_days  \\\n",
       "0                 1.0               0.0          60.0           3984.0   \n",
       "1                 1.0               0.0          80.0           3984.0   \n",
       "2                 1.0            1000.0         250.0           3831.0   \n",
       "3                 1.0            1000.0         250.0           3831.0   \n",
       "4                 1.0             500.0         150.0           3775.0   \n",
       "\n",
       "   first_review_days  last_review_days  host_response_time  host_is_superhost  \\\n",
       "0             3954.0              78.0      within an hour                0.0   \n",
       "1             3816.0              76.0      within an hour                0.0   \n",
       "2             1984.0             109.0  within a few hours                1.0   \n",
       "3             3770.0             125.0  within a few hours                1.0   \n",
       "4             1469.0             179.0      within an hour                0.0   \n",
       "\n",
       "   host_has_profile_pic host_identity_verified  \n",
       "0                   1.0                    1.0  \n",
       "1                   1.0                    1.0  \n",
       "2                   1.0                    0.0  \n",
       "3                   1.0                    0.0  \n",
       "4                   1.0                    0.0  \n",
       "\n",
       "[5 rows x 23 columns]"
      ]
     },
     "execution_count": 61,
     "metadata": {},
     "output_type": "execute_result"
    }
   ],
   "source": [
    "## DO NOT CHANGE \n",
    "\n",
    "# Getting indices of columns that still contain missing values\n",
    "columns_idxs_missing = np.where(cleaned_df.isna().any())[0]\n",
    "# Getting the names of these columns\n",
    "cols_missing = cleaned_df.columns[columns_idxs_missing]\n",
    "# Taking a peek at what's left\n",
    "cleaned_df[cols_missing].head()"
   ]
  },
  {
   "cell_type": "markdown",
   "metadata": {},
   "source": [
    "> Took keep things simple, let's just fill the rest of these values with the median."
   ]
  },
  {
   "cell_type": "code",
   "execution_count": null,
   "metadata": {},
   "outputs": [],
   "source": [
    "## TO DO: Drop the sum_na_row feature we made from cleaned_df\n",
    "## We don't need this column anymore\n",
    "cleaned_df = "
   ]
  },
  {
   "cell_type": "code",
   "execution_count": null,
   "metadata": {},
   "outputs": [],
   "source": [
    "## TO DO: notice how we kept the review-related columns and the categorical columns in the \n",
    "    ## arrays \"zero_fill_cols\" and \"cat_cols\". \n",
    "    ## Identify all remaining columns that aren't in these two lists and store them in an array called median_fill_cols\n",
    "    ## Also remove \"price\" from this array.\n",
    "    ## I'll explain why we do these steps later in the notebook when we fill our missing values.\n",
    "    \n",
    "    \n",
    "    \n",
    "median_fill_cols = "
   ]
  },
  {
   "cell_type": "markdown",
   "metadata": {},
   "source": [
    "## III. Train/Test Split<a class=\"anchor\" id=\"tts\"></a>\n",
    "**[Back to top](#toc)**\n",
    "\n",
    "Now here we split our data into training, testing, and (optionally) validation.\n",
    "\n",
    "However, if you plan to use a validation set or K-Fold Cross Validation, just create your validation sets later when you're evaluating your ML models."
   ]
  },
  {
   "cell_type": "code",
   "execution_count": null,
   "metadata": {},
   "outputs": [],
   "source": [
    "## TO DO: store cleaned_df without the price column in a variable called X. \n",
    "X = \n",
    "## TO DO: store cleaned_df['price'] in a variable called y\n",
    "y = \n",
    "\n",
    "## TO DO: Split your data using train_test_split using a train_size of 80%\n",
    "## TO DO: store all these in the variables below\n",
    "X_train, X_test, y_train, y_test = "
   ]
  },
  {
   "cell_type": "code",
   "execution_count": null,
   "metadata": {},
   "outputs": [],
   "source": [
    "## RUN THIS, BUT DO NOT CHANGE\n",
    "# Setting this option to None to suppress a warning that we don't need to worry about right now\n",
    "pd.options.mode.chained_assignment = None"
   ]
  },
  {
   "cell_type": "markdown",
   "metadata": {},
   "source": [
    "## IV. Prepare for ML <a class=\"anchor\" id=\"pfm\"></a>\n",
    "**[Back to top](#toc)**"
   ]
  },
  {
   "cell_type": "markdown",
   "metadata": {},
   "source": [
    "Now that we've already split our data and engineered the features that we want, all we have to do is prepare our data for our models."
   ]
  },
  {
   "cell_type": "markdown",
   "metadata": {},
   "source": [
    "### A. Dealing with Missing Data\n",
    "\n",
    "The reason we want to deal with missing data *after* we've split our data is because we want to simulate real world conditions when we test as much as we can. When data is coming/streaming in, we have to be ready with our methods for dealing with missing data.\n",
    "\n",
    "Below, rather than using panda's `fillna` method, we will take advantage of sklearn's `SimpleImputer` estimator (imputing is just another way of saying you're going to fill/infer missing values in this case)."
   ]
  },
  {
   "cell_type": "markdown",
   "metadata": {},
   "source": [
    "---\n",
    "\n",
    "****A Brief Note on sklearn Estimators/Transformers****\n",
    "\n",
    "Many of sklearn's objects are called \"estimators\", and all estimators are also \"transformers\" because they are treated as objects that estimate some parameters about your data, then are used to transform your data in some way to produce a prediction or a transformed (e.g. normalized, standardized, filled NA's with mean, etc) version of your data.\n",
    "\n",
    "---"
   ]
  },
  {
   "cell_type": "markdown",
   "metadata": {},
   "source": [
    "We will *fit* three `SimpleImputer` objects on **`X_train` only** according to each of our three strategies above. Then, we will use these imputers to transform **both our `X_train` and `X_test`.** As a reminder, this is what we will do...\n",
    "\n",
    "1. Fill categorical features stored in `cat_cols` with their mode/most frequent value\n",
    "2. Fill review-related features stored in `zero_fill_cols` with a constant vaue: 0.\n",
    "3. Fill all remaining numerical features stored in `median_fill_cols` with their median.\n",
    "\n",
    "> This is why we stored these column names in the **Assess Missing Values** section. We want to easily change each of these columns for both our X_train and X_test datasets. Also, remember how we dropped `price` from `median_fill_cols`? We needed to remove it because there is no `price` in `X_train` and `X_test`."
   ]
  },
  {
   "cell_type": "markdown",
   "metadata": {},
   "source": [
    "**First, let's start with imputing our categorical variables.**"
   ]
  },
  {
   "cell_type": "code",
   "execution_count": 68,
   "metadata": {},
   "outputs": [],
   "source": [
    "## DO NOT CHANGE - use this as an example of you have to do in the cells below for numerical variables\n",
    "    ## Notice how we're looping through our columns, imputing one at a time.\n",
    "    ## Normally, we would fit and transform features all at once with sklearn's ColumnTransformer, but \n",
    "    ## this is fine since we're just practicing\n",
    "\n",
    "# looping through our columns\n",
    "for col in cat_cols:\n",
    "    # instantiating/creating an imputer with an impute strategy of \"most frequent\"\n",
    "    imputer = SimpleImputer(strategy='most_frequent')\n",
    "    \n",
    "    # fit this imputer to the training column. \n",
    "        # This stores the most frequent value in the imputer for transforming\n",
    "    imputer.fit(X_train[[col]])\n",
    "    \n",
    "    # using the transform method to fill NA values with the most frequent value, then updating our DFs\n",
    "    X_train[col] = imputer.transform(X_train[[col]])\n",
    "    X_test[col] = imputer.transform(X_test[[col]])"
   ]
  },
  {
   "cell_type": "markdown",
   "metadata": {},
   "source": [
    "---"
   ]
  },
  {
   "cell_type": "markdown",
   "metadata": {},
   "source": [
    "**Now let's impute our numerical variables.**"
   ]
  },
  {
   "cell_type": "code",
   "execution_count": null,
   "metadata": {},
   "outputs": [],
   "source": [
    "## TO DO: impute the zero_fil_cols features using an imputer with strategy = \"constant\" and fill_value = 0\n",
    "## Use what we did above for cat_cols as a reference"
   ]
  },
  {
   "cell_type": "code",
   "execution_count": null,
   "metadata": {},
   "outputs": [],
   "source": [
    "## TO DO: impute the median_fill_cols using an imputer with strategy = \"median\"\n",
    "## Use what we did above for cat_cols as a reference"
   ]
  },
  {
   "cell_type": "markdown",
   "metadata": {},
   "source": [
    "### B. Feature Engineering "
   ]
  },
  {
   "cell_type": "markdown",
   "metadata": {},
   "source": [
    "> Use this section as an opportunity to create useful features for your ML model. Note that any features you create might create NA or Infinite values, which have to be taken care of before using the data in most ML models.\n",
    "\n",
    "**An easy idea**: Ratio of capacity to beds."
   ]
  },
  {
   "cell_type": "code",
   "execution_count": null,
   "metadata": {},
   "outputs": [],
   "source": [
    "## TO DO: In X_train, create a new feature called \"capacity_to_beds\" by dividing the \"accomodates\" feature by \"beds\"\n",
    "\n",
    "## TO DO: Do the same thing for X_test. Can you think of anything that can go wrong if you do this?"
   ]
  },
  {
   "cell_type": "markdown",
   "metadata": {},
   "source": [
    "Be careful with ratios because\n",
    "1. dividing by zero might create infinite values and \n",
    "2. any operations with NA values create more NA values. This *shouldn't* be a problem because we already took care of NA values, but try to remember this.\n",
    "\n",
    "I think filling these values with zero is reasonable for now."
   ]
  },
  {
   "cell_type": "code",
   "execution_count": null,
   "metadata": {},
   "outputs": [],
   "source": [
    "## TO DO: Fill infinite values in this new column with zero in X_train and X_test. \n",
    "## (Hint: np.where and np.isinf can be helpful)\n"
   ]
  },
  {
   "cell_type": "markdown",
   "metadata": {},
   "source": [
    "### C. Transform Data"
   ]
  },
  {
   "cell_type": "markdown",
   "metadata": {},
   "source": [
    "**Transforming Numerical Data - Log Transform**"
   ]
  },
  {
   "cell_type": "markdown",
   "metadata": {},
   "source": [
    "Now is a good time to do any numerical data transformations if you haven't done them already.\n",
    "\n",
    "An example could be to log-transform salary or price fields to make the distributions look more normal. Here's one way you can do that."
   ]
  },
  {
   "cell_type": "code",
   "execution_count": 71,
   "metadata": {},
   "outputs": [
    {
     "name": "stderr",
     "output_type": "stream",
     "text": [
      "/Users/patrickdeguzman/anaconda3/lib/python3.7/site-packages/pandas/core/series.py:853: RuntimeWarning: divide by zero encountered in log\n",
      "  result = getattr(ufunc, method)(*inputs, **kwargs)\n"
     ]
    },
    {
     "data": {
      "image/png": "[encoded data removed]",
      "text/plain": [
       "<Figure size 864x288 with 2 Axes>"
      ]
     },
     "metadata": {
      "needs_background": "light"
     },
     "output_type": "display_data"
    }
   ],
   "source": [
    "## DO NOT CHANGE\n",
    "plt.figure(figsize=(12,4))\n",
    "\n",
    "# Creating plot on the left\n",
    "plt.subplot(121)\n",
    "sns.distplot(X_train['cleaning_fee'])\n",
    "plt.title('Before Log-Transform')\n",
    "\n",
    "# Creating plot on the right\n",
    "plt.subplot(122)\n",
    "log_transform_train = np.where(np.isinf(np.log(X_train['cleaning_fee'])), 0, np.log(X_train['cleaning_fee']))\n",
    "log_transform_test = np.where(np.isinf(np.log(X_test['cleaning_fee'])), 0, np.log(X_test['cleaning_fee']))\n",
    "sns.distplot(log_transform_train)\n",
    "plt.title('After Log-Transform')\n",
    "\n",
    "plt.show()"
   ]
  },
  {
   "cell_type": "code",
   "execution_count": null,
   "metadata": {},
   "outputs": [],
   "source": [
    "## TO DO: update the \"cleaning_fee\" features in X_train and X_test with their log-transformed value\n",
    "## Careful if you try to compute the log yourself - taking the log of 0 will create an infinite value\n",
    "    ## if you choose to compute log yourself with np.log, make sure you fill np.inf values with 0"
   ]
  },
  {
   "cell_type": "markdown",
   "metadata": {},
   "source": [
    "**Transforming Numerical Data - Standardization**\n",
    "\n",
    "A lot of Machine Learning models perform better after you've standardized the features, such as Linear Regression, Logistic Regression, and Neural Networks. It may not always be required (this doesn't really matter for Random Forests).\n",
    "\n",
    "In this section, we will standardize our data anyway. We don't have to standardize our binary features since they're either {0,1}, but we should standardize everything else."
   ]
  },
  {
   "cell_type": "code",
   "execution_count": null,
   "metadata": {},
   "outputs": [],
   "source": [
    "## DO NOT CHANGE\n",
    "temp_df = X_train.select_dtypes(['float', 'int'])\n",
    "\n",
    "# Gathering binary features\n",
    "bi_cols = []\n",
    "for col in temp_df.columns:\n",
    "    if temp_df[col].nunique() == 2:\n",
    "        bi_cols.append(col)"
   ]
  },
  {
   "cell_type": "code",
   "execution_count": null,
   "metadata": {},
   "outputs": [],
   "source": [
    "## TO DO: store all the columns we need to standardize in cols_to_standardize.\n",
    "## Hint: bi_cols contains all the columns that you don't need to standardize. np.setdiff1d may be helpful\n",
    "cols_to_standardize = "
   ]
  },
  {
   "cell_type": "code",
   "execution_count": null,
   "metadata": {},
   "outputs": [],
   "source": [
    "## TO DO: instantiate the StandardScaler() (make sure you include the parenthesis to create the object)\n",
    "    ## store this object in scaler below\n",
    "scaler = \n",
    "## TO DO: fit the scaler to X_train's cols_to_standardize only\n",
    "\n",
    "## TO DO: transform (DO NOT FIT_TRANSFORM) X_train and X_test's cols_to_standardize and update the DataFrames\n",
    "X_train[cols_to_standardize] = \n",
    "X_test[cols_to_standardize] = "
   ]
  },
  {
   "cell_type": "markdown",
   "metadata": {},
   "source": [
    "#### Encoding Categorical Data\n",
    "\n",
    "We still have to convert our categorical data into numbers. Here we're going to simply OneHotEncode (very similar to pd.get_dummies) our `cat_cols`."
   ]
  },
  {
   "cell_type": "code",
   "execution_count": 76,
   "metadata": {},
   "outputs": [
    {
     "name": "stdout",
     "output_type": "stream",
     "text": [
      "Unique Values per categorical column...\n",
      "host_response_time: 4\n",
      "property_type: 19\n",
      "room_type: 4\n",
      "bed_type: 4\n",
      "cancellation_policy: 6\n",
      "last_review_discrete: 6\n"
     ]
    }
   ],
   "source": [
    "## DO NOT CHANGE\n",
    "print('Unique Values per categorical column...')\n",
    "for col in cat_cols:\n",
    "    print(f'{col}: {X_train[col].nunique()}')"
   ]
  },
  {
   "cell_type": "code",
   "execution_count": null,
   "metadata": {},
   "outputs": [],
   "source": [
    "## TO DO: Finish the code\n",
    "for col in cat_cols:\n",
    "    ## TO DO: instantiate the OneHotEncoder with handle_unknown = 'ignore' and sparse=False. Store object in ohe\n",
    "    ohe = \n",
    "    ## TO DO: fit ohe to the current column \"col\" in X_train\n",
    "    ohe.fit\n",
    "    \n",
    "    # This extracts the names of the dummy columns from ohe\n",
    "    dummy_cols = list(ohe.categories_[0])\n",
    "    \n",
    "    # This creates new dummy columns in X_train and X_test that we will fill\n",
    "    for dummy in dummy_cols:\n",
    "        X_train[dummy] = 0\n",
    "        X_test[dummy] = 0\n",
    "    \n",
    "    ## TO DO: transform the X_train and X_test column \"col\" and update the dummy_cols we created above\n",
    "    X_train[dummy_cols] = \n",
    "    X_test[dummy_cols] = "
   ]
  },
  {
   "cell_type": "code",
   "execution_count": null,
   "metadata": {},
   "outputs": [],
   "source": [
    "## TO DO: drop the original cat_cols from X_train and X_test"
   ]
  },
  {
   "cell_type": "markdown",
   "metadata": {},
   "source": [
    "**Text Data**\n",
    "\n",
    "We omitted text data in the beginning of the notebook, but a good place to start when working with text data is using [NLTK](https://www.nltk.org/), the Natrual Language Toolkit Library."
   ]
  },
  {
   "cell_type": "markdown",
   "metadata": {},
   "source": [
    "### D. Feature Selection"
   ]
  },
  {
   "cell_type": "markdown",
   "metadata": {},
   "source": [
    "Depending on how big your dataset is, you may want to reduce the number of features you have for performance purposes. Here we will simply reduce number of features by removing highly correlated features."
   ]
  },
  {
   "cell_type": "code",
   "execution_count": null,
   "metadata": {},
   "outputs": [],
   "source": [
    "## TO DO (this may be tough- check solution for help)\n",
    "    ## identify pairs of features that have a correlation higher than 0.8 or lower than -0.8 from X_train\n",
    "    ## remove ONLY ONE of these features from both X_train and X_test\n",
    "    ## Hint 1: df.corr() and np.triu() can be helpful here\n",
    "    ## Hint 2: you should end up removing 33 features (unless you added extra features than what was given)"
   ]
  },
  {
   "cell_type": "markdown",
   "metadata": {},
   "source": [
    "## **Congrats! Now you have train and test datasets that are ready for Machine Learning modeling!**\n",
    " \n",
    " > **This is the end of the exercises. Below is some very simple ML modeling with the data that we prepared together**"
   ]
  },
  {
   "cell_type": "markdown",
   "metadata": {},
   "source": [
    "---"
   ]
  },
  {
   "cell_type": "markdown",
   "metadata": {},
   "source": [
    "## V. Pick your Models <a class=\"anchor\" id=\"pym\"></a>\n",
    "**[Back to top](#toc)**"
   ]
  },
  {
   "cell_type": "code",
   "execution_count": 81,
   "metadata": {},
   "outputs": [],
   "source": [
    "from sklearn.ensemble import RandomForestRegressor, GradientBoostingRegressor\n",
    "from sklearn.svm import SVR\n",
    "\n",
    "from sklearn.metrics import mean_squared_error, mean_absolute_error"
   ]
  },
  {
   "cell_type": "code",
   "execution_count": 82,
   "metadata": {},
   "outputs": [],
   "source": [
    "rf = RandomForestRegressor()\n",
    "gbr = GradientBoostingRegressor()\n",
    "svr = SVR()\n",
    "\n",
    "models = [rf, gbr, svr]"
   ]
  },
  {
   "cell_type": "markdown",
   "metadata": {},
   "source": [
    "## VI. Model Selection <a class=\"anchor\" id=\"ms\"></a>\n",
    "**[Back to top](#toc)**\n",
    "\n",
    "Evaluate your models, and pick the 2-3 best performing ones for tuning."
   ]
  },
  {
   "cell_type": "code",
   "execution_count": 83,
   "metadata": {},
   "outputs": [],
   "source": [
    "results = []\n",
    "for model in models:\n",
    "    model.fit(X_train, y_train)\n",
    "    y_preds = model.predict(X_test)\n",
    "    \n",
    "    mse = mean_squared_error(y_test, y_preds)\n",
    "    mae = mean_absolute_error(y_test, y_preds)\n",
    "    \n",
    "    metrics = {}\n",
    "    metrics['model'] = model.__class__.__name__\n",
    "    metrics['mse'] = mse\n",
    "    metrics['mae'] = mae\n",
    "    results.append(metrics)"
   ]
  },
  {
   "cell_type": "code",
   "execution_count": 84,
   "metadata": {
    "scrolled": true
   },
   "outputs": [
    {
     "data": {
      "text/html": [
       "<div>\n",
       "<style scoped>\n",
       "    .dataframe tbody tr th:only-of-type {\n",
       "        vertical-align: middle;\n",
       "    }\n",
       "\n",
       "    .dataframe tbody tr th {\n",
       "        vertical-align: top;\n",
       "    }\n",
       "\n",
       "    .dataframe thead th {\n",
       "        text-align: right;\n",
       "    }\n",
       "</style>\n",
       "<table border=\"1\" class=\"dataframe\">\n",
       "  <thead>\n",
       "    <tr style=\"text-align: right;\">\n",
       "      <th></th>\n",
       "      <th>model</th>\n",
       "      <th>mse</th>\n",
       "      <th>mae</th>\n",
       "    </tr>\n",
       "  </thead>\n",
       "  <tbody>\n",
       "    <tr>\n",
       "      <td>0</td>\n",
       "      <td>RandomForestRegressor</td>\n",
       "      <td>61360.79</td>\n",
       "      <td>56.51</td>\n",
       "    </tr>\n",
       "    <tr>\n",
       "      <td>1</td>\n",
       "      <td>GradientBoostingRegressor</td>\n",
       "      <td>91765.90</td>\n",
       "      <td>68.03</td>\n",
       "    </tr>\n",
       "    <tr>\n",
       "      <td>2</td>\n",
       "      <td>SVR</td>\n",
       "      <td>112711.50</td>\n",
       "      <td>67.50</td>\n",
       "    </tr>\n",
       "  </tbody>\n",
       "</table>\n",
       "</div>"
      ],
      "text/plain": [
       "                       model       mse     mae\n",
       "0      RandomForestRegressor  61360.79   56.51\n",
       "1  GradientBoostingRegressor  91765.90   68.03\n",
       "2                        SVR 112711.50   67.50"
      ]
     },
     "execution_count": 84,
     "metadata": {},
     "output_type": "execute_result"
    }
   ],
   "source": [
    "pd.set_option('display.float_format', lambda x: '%7.2f' % x)\n",
    "\n",
    "pd.DataFrame(results, index=np.arange(len(results))).round(50)"
   ]
  },
  {
   "cell_type": "markdown",
   "metadata": {},
   "source": [
    "## VII. Model Tuning <a class=\"anchor\" id=\"mt\"></a>\n",
    "**[Back to top](#toc)**\n",
    "\n",
    "Tune the hyperparameters of your models, or even try adding new engineered features, or different transformations."
   ]
  },
  {
   "cell_type": "markdown",
   "metadata": {},
   "source": [
    "## VIII. Pick the Best Model <a class=\"anchor\" id=\"pbm\"></a>\n",
    "**[Back to top](#toc)**"
   ]
  }
 ],
 "metadata": {
  "kernelspec": {
   "display_name": "Python 3",
   "language": "python",
   "name": "python3"
  },
  "language_info": {
   "codemirror_mode": {
    "name": "ipython",
    "version": 3
   },
   "file_extension": ".py",
   "mimetype": "text/x-python",
   "name": "python",
   "nbconvert_exporter": "python",
   "pygments_lexer": "ipython3",
   "version": "3.7.3"
  }
 },
 "nbformat": 4,
 "nbformat_minor": 2
}
