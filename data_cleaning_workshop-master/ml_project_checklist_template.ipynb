{
 "cells": [
  {
   "cell_type": "markdown",
   "metadata": {},
   "source": [
    "# Machine Learning Project Checklist Template"
   ]
  },
  {
   "cell_type": "markdown",
   "metadata": {},
   "source": [
    "[Full Project Checklist Here](https://docs.google.com/spreadsheets/d/1y4EdxeAliOQw9CDHx0_brjmk-LUb3gfX52zLGSqLg_g/edit?usp=sharing)"
   ]
  },
  {
   "cell_type": "markdown",
   "metadata": {},
   "source": [
    "## Prerequisite: Business and Data Understanding\n",
    "\n",
    "Before doing any data cleaning or exploration, do the best you can to identify your goals, questions, and purpose of this analysis. Additionally, try to get your hands on a Data Dictionary or schema if you can. You, ideally, will be able to answer questions like this...\n",
    "\n",
    "- Business Questions:\n",
    "    - What's the goal of this analysis?\n",
    "    - What're some questions I want to answer?\n",
    "    - Do I need machine learning?\n",
    "- Data Questions:\n",
    "    - How many features should I expect?\n",
    "    - How much text, categorical, or image data to I have? All of these need to be turned into numbers somehow.\n",
    "    - Do I already have the datasets that I need?\n",
    "\n",
    "Honestly, taking 1-2 hours to answer these can go a long way.\n",
    "\n",
    "> **One of the worst feelings you can get in these situations is feeling overwhelmed and lost while trying to understand a big and messy dataset. You're doing yourself a favor by studying the data before you dive in.**"
   ]
  },
  {
   "cell_type": "markdown",
   "metadata": {},
   "source": [
    "## Table of Contents <a class='anchor' id='toc'></a>\n",
    "\n",
    "#### I. [Import Data & Libraries](#idl)\n",
    "#### II. [Exploratory Data Analysis](#eda)\n",
    "#### III. [Train/Test Split](#tts)\n",
    "#### IV. [Prepare for ML](#pfm)\n",
    "#### V. [Pick your Models](#pym)\n",
    "#### VI. [Model Selection](#ms)\n",
    "#### VII. [Model Tuning](#mt)\n",
    "#### VIII. [Pick the Best Model](#pbm)\n",
    "\n"
   ]
  },
  {
   "cell_type": "markdown",
   "metadata": {},
   "source": [
    "## I. Import Data & Libraries <a class=\"anchor\" id=\"idl\"></a>"
   ]
  },
  {
   "cell_type": "code",
   "execution_count": null,
   "metadata": {},
   "outputs": [],
   "source": []
  },
  {
   "cell_type": "markdown",
   "metadata": {},
   "source": [
    "## II. Exploratory Data Analysis<a class=\"anchor\" id=\"eda\"></a>\n",
    "**[Back to top](#toc)**"
   ]
  },
  {
   "cell_type": "code",
   "execution_count": null,
   "metadata": {},
   "outputs": [],
   "source": []
  },
  {
   "cell_type": "markdown",
   "metadata": {},
   "source": [
    "## III. Train/Test Split<a class=\"anchor\" id=\"tts\"></a>\n",
    "**[Back to top](#toc)**"
   ]
  },
  {
   "cell_type": "code",
   "execution_count": null,
   "metadata": {},
   "outputs": [],
   "source": []
  },
  {
   "cell_type": "markdown",
   "metadata": {},
   "source": [
    "## IV. Prepare for ML <a class=\"anchor\" id=\"pfm\"></a>\n",
    "**[Back to top](#toc)**"
   ]
  },
  {
   "cell_type": "code",
   "execution_count": null,
   "metadata": {},
   "outputs": [],
   "source": []
  },
  {
   "cell_type": "markdown",
   "metadata": {},
   "source": [
    "## V. Pick your Models <a class=\"anchor\" id=\"pym\"></a>\n",
    "**[Back to top](#toc)**"
   ]
  },
  {
   "cell_type": "code",
   "execution_count": null,
   "metadata": {},
   "outputs": [],
   "source": []
  },
  {
   "cell_type": "markdown",
   "metadata": {},
   "source": [
    "## VI. Model Selection <a class=\"anchor\" id=\"ms\"></a>\n",
    "**[Back to top](#toc)**"
   ]
  },
  {
   "cell_type": "code",
   "execution_count": null,
   "metadata": {},
   "outputs": [],
   "source": []
  },
  {
   "cell_type": "markdown",
   "metadata": {},
   "source": [
    "## VII. Model Tuning <a class=\"anchor\" id=\"mt\"></a>\n",
    "**[Back to top](#toc)**"
   ]
  },
  {
   "cell_type": "code",
   "execution_count": null,
   "metadata": {},
   "outputs": [],
   "source": []
  },
  {
   "cell_type": "markdown",
   "metadata": {},
   "source": [
    "## VIII. Pick the Best Model <a class=\"anchor\" id=\"pbm\"></a>\n",
    "**[Back to top](#toc)**"
   ]
  },
  {
   "cell_type": "code",
   "execution_count": null,
   "metadata": {},
   "outputs": [],
   "source": []
  }
 ],
 "metadata": {
  "kernelspec": {
   "display_name": "Python 3",
   "language": "python",
   "name": "python3"
  },
  "language_info": {
   "codemirror_mode": {
    "name": "ipython",
    "version": 3
   },
   "file_extension": ".py",
   "mimetype": "text/x-python",
   "name": "python",
   "nbconvert_exporter": "python",
   "pygments_lexer": "ipython3",
   "version": "3.7.3"
  }
 },
 "nbformat": 4,
 "nbformat_minor": 2
}
