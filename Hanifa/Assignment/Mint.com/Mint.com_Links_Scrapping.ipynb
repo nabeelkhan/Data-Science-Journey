{
 "cells": [
  {
   "cell_type": "code",
   "execution_count": 1,
   "id": "f725cd1b",
   "metadata": {},
   "outputs": [],
   "source": [
    "from bs4 import BeautifulSoup\n",
    "import requests\n",
    "import pandas as pd\n",
    "from selenium import webdriver\n",
    "import time\n",
    "from matplotlib import pyplot as plt"
   ]
  },
  {
   "cell_type": "code",
   "execution_count": 2,
   "id": "bd14bab0",
   "metadata": {},
   "outputs": [],
   "source": [
    "df = pd.read_csv(\"Assignment2_links.csv\")"
   ]
  },
  {
   "cell_type": "code",
   "execution_count": 4,
   "id": "4b1109ef",
   "metadata": {},
   "outputs": [],
   "source": [
    "df.drop(['Unnamed: 0'],inplace=True,axis=1)"
   ]
  },
  {
   "cell_type": "code",
   "execution_count": 4,
   "id": "e4eff8fb",
   "metadata": {},
   "outputs": [],
   "source": [
    "titles = []\n",
    "content = []"
   ]
  },
  {
   "cell_type": "markdown",
   "id": "c599f075",
   "metadata": {},
   "source": [
    "# Link 1"
   ]
  },
  {
   "cell_type": "code",
   "execution_count": 7,
   "id": "43cd867a",
   "metadata": {},
   "outputs": [
    {
     "name": "stdout",
     "output_type": "stream",
     "text": [
      "https://www.chegg.com/homework-help/mintcom-went-launch-170-million-acquisition-24-months-web-ww-chapter-14.1c-problem-3dq-solution-9780132965828-exc\n",
      " ENTREPRENEURSHIP & INTERPRTV SIMU A/C GRP A \n",
      "['Content not Available']\n"
     ]
    }
   ],
   "source": [
    "url1 = df['Links'][0]\n",
    "print(url1)\n",
    "\n",
    "driver=webdriver.Firefox(executable_path=\"C:/geckodriver.exe\")\n",
    "driver.get(url1)\n",
    "page_source=driver.page_source\n",
    "soup=BeautifulSoup(page_source,'html.parser')\n",
    "title1 = soup.find('span',{\"class\":\"tbsInfo__BookTitle-sc-zxkl90-1 bnzjkm\"}).text\n",
    "print(title1)\n",
    "\n",
    "content1 = []\n",
    "main = soup.find('div',{\"class\":\"styled__StepWrap-sc-1236393-4 QCYki\"})\n",
    "try:\n",
    "    tag = main.findAll('div',{\"class\":\"answer\"})\n",
    "    for i in tag:\n",
    "        content1.append(i.text)\n",
    "        \n",
    "except:\n",
    "    content1.append(\"Content not Available\")\n",
    "    \n",
    "print(content1)"
   ]
  },
  {
   "cell_type": "markdown",
   "id": "58d0b128",
   "metadata": {},
   "source": [
    "# Link 2"
   ]
  },
  {
   "cell_type": "code",
   "execution_count": 38,
   "id": "0d24b5be",
   "metadata": {},
   "outputs": [
    {
     "name": "stdout",
     "output_type": "stream",
     "text": [
      "https://www.nytimes.com/2009/09/15/technology/internet/15mint.html\n",
      "Intuit Buys Mint, a Web-Based Finance Competitor\n",
      "['Mint.com, a start-up whose Web site helps people organize their money, rolled into some cash of its own on Monday, selling out to the personal finance giant Intuit for $170 million.', 'Intuit is the maker of widely used financial software applications like TurboTax and Quicken.“Quicken seems like something your dad uses,” Mr. Higdon said. Younger, Web-savvy users “aren’t likely to sit down nightly and enter in a bunch of financial information online,” he said. “These sites appeal to the iPhone audience.\"In June, Microsoft discontinued sales of its boxed finance software, Microsoft Money Plus, but consumers can still find many similar functions on Microsoft’s MSN Money Web site. It is a clear indication that online personal-finance sites are starting to have an impact, said Stessa Cohen, research analyst at Gartner Research.“Consumer awareness isn’t huge but it’s increasing,” Ms. Cohen said.Mint, which unveiled its free online services in September 2007, quickly became popular as more people turned to the Web to create budgets and manage their finances. The company says it has 1.5 million users tracking nearly $50 billion in assets and $200 billion in transaction. “As Mint’s product grew in popularity, it became clear it wasn’t a question of if Intuit would acquire them anymore, but one of when and how much,” said Jeff Clavier, founder of SoftTech VC, an early-stage investment company that backed Mint.To date, Mint.com has taken more than $31 million in venture backing, from investment firms like Shasta Ventures, First Round Capital, Benchmark Capital and the angel investor Ron Conway. ', ' Companies like Intuit that sell boxed software have been struggling to gain their footing on the Web as free, online financial start-ups like Mint, SmartyPig and Wesabe have surged in popularity for their simplicity and ease of use, said Emmett Higdon, a senior analyst with Forrester Research who specializes in the online banking industry. ', 'Intuit is the maker of widely used financial software applications like TurboTax and Quicken.“Quicken seems like something your dad uses,” Mr. Higdon said. Younger, Web-savvy users “aren’t likely to sit down nightly and enter in a bunch of financial information online,” he said. “These sites appeal to the iPhone audience.\"In June, Microsoft discontinued sales of its boxed finance software, Microsoft Money Plus, but consumers can still find many similar functions on Microsoft’s MSN Money Web site. It is a clear indication that online personal-finance sites are starting to have an impact, said Stessa Cohen, research analyst at Gartner Research.“Consumer awareness isn’t huge but it’s increasing,” Ms. Cohen said.Mint, which unveiled its free online services in September 2007, quickly became popular as more people turned to the Web to create budgets and manage their finances. The company says it has 1.5 million users tracking nearly $50 billion in assets and $200 billion in transaction. “As Mint’s product grew in popularity, it became clear it wasn’t a question of if Intuit would acquire them anymore, but one of when and how much,” said Jeff Clavier, founder of SoftTech VC, an early-stage investment company that backed Mint.To date, Mint.com has taken more than $31 million in venture backing, from investment firms like Shasta Ventures, First Round Capital, Benchmark Capital and the angel investor Ron Conway. ']\n"
     ]
    }
   ],
   "source": [
    "url2 = df['Links'][1]\n",
    "print(url2)\n",
    "\n",
    "driver=webdriver.Firefox(executable_path=\"C:/geckodriver.exe\")\n",
    "driver.get(url2)\n",
    "page_source=driver.page_source\n",
    "soup=BeautifulSoup(page_source,'html.parser')\n",
    "title2 = \"Intuit Buys Mint, a Web-Based Finance Competitor\"\n",
    "print(title2)\n",
    "\n",
    "content2 = []\n",
    "main = soup.find('div',{\"class\":\"css-53u6y8\"})\n",
    "tag = main.findAll('p',{\"class\":\"css-axufdj evys1bk0\"})\n",
    "for i in tag:\n",
    "    content2.append(i.text)\n",
    "    content2.append('Intuit is the maker of widely used financial software applications like TurboTax and Quicken.“Quicken seems like something your dad uses,” Mr. Higdon said. Younger, Web-savvy users “aren’t likely to sit down nightly and enter in a bunch of financial information online,” he said. “These sites appeal to the iPhone audience.\"In June, Microsoft discontinued sales of its boxed finance software, Microsoft Money Plus, but consumers can still find many similar functions on Microsoft’s MSN Money Web site. It is a clear indication that online personal-finance sites are starting to have an impact, said Stessa Cohen, research analyst at Gartner Research.“Consumer awareness isn’t huge but it’s increasing,” Ms. Cohen said.Mint, which unveiled its free online services in September 2007, quickly became popular as more people turned to the Web to create budgets and manage their finances. The company says it has 1.5 million users tracking nearly $50 billion in assets and $200 billion in transaction. “As Mint’s product grew in popularity, it became clear it wasn’t a question of if Intuit would acquire them anymore, but one of when and how much,” said Jeff Clavier, founder of SoftTech VC, an early-stage investment company that backed Mint.To date, Mint.com has taken more than $31 million in venture backing, from investment firms like Shasta Ventures, First Round Capital, Benchmark Capital and the angel investor Ron Conway. ')\n",
    "\n",
    "print(content2)\n"
   ]
  },
  {
   "cell_type": "markdown",
   "id": "f0d391d5",
   "metadata": {},
   "source": [
    "# Link 3"
   ]
  },
  {
   "cell_type": "code",
   "execution_count": 11,
   "id": "c6eaa5ac",
   "metadata": {},
   "outputs": [
    {
     "name": "stdout",
     "output_type": "stream",
     "text": [
      "https://prezi.com/ajjpwoo7gaz4/mintcom-case-141/\n",
      "Mint.com:  Case 14.1\n",
      "[\"3.  Do you think Intuit's acquisition of Mint.com was a win for both Intuit and Mint.com?  In what ways does an acquisition by a large firm potentially accelerate the growth of a small firm, beyond what the small firm could have accomplished on its own?\", '', \"4.  Why do you think Intuit didn't create an online site similar to Mint.com, rather than spending $170 million to acquire Mint.com?\", \"1.  If you had been a venture capitalist at the same time Patzer  was originally pitching Mint.com, would you have had the same concerns as the venture capitalists at that time did?  Why do you think the venture capitalists weren't more forward thinking?  Why do you think Patzer didn't see the initial reaction to Mint.com as reason to either give up or to significantly modify his service?\", '', '2.  Evaluate how effectively Mint.com prepared for its launch and early growth.  What specific steps did the company take to prepare for and stimulate its early growth?', '- Created by Aaron Patzer ', '', '- Online dashboard and application places financial accounts in one place, organizing and keeping track of them.  ', '', '- Launched September 2007', '', '- Desired to create business which made \"entire process of managing money more efficient and potentially rewarding.\"', '- It’s free; they only make money when you make money.', '', '-Brings all your personal financials to one place:', '', '- Helps you reach personal goals and set a budget.', '', '- Free mobile application', '', '- Helpful graphs:', '- March 2006-September 2007', '', '- Approached several investors, initially declined.', '', '- Skeptical of security; concerned people would not \"trust\" start up with account information.', '', '- 6 months, found first investor.', '', '- Initial investments: $750,000, $325,000 (First Round Capital), $425,000 (other investors).', '', '- Explained security aspects (read-only, bank level encryption, sending customers low-balance and unusual activity alerts).', '', '- Won \"TechCrunch40\" business plan competition for prelaunch stage businesses in Fall 2007.', '', '- First key hires:', 'Case 14.1', '- September 2007-September 2009', '', '- Not a single security breach; 100,000 people signing up within first 4 months.', '', '- Makes revenue through referrals to customers, collecting commission.', '', '- Acquired by Intuit in September 2009 for $170 million.', '', '- Patzer wished to accelerate Mint.com; felt Intuit had financial resources to do so.', '', \"- Allowed to keep control of Mint.com; became general manager of Intuit's personal finance division.\", '', '- Win-win situation for both companies:', '- People in need of', '  financial guidance:', '', '- Financial Management', '  Industry (Online Services)', ' ', '- Current Mint.com competitors:', '', '- Former Mint.com competitors:']\n"
     ]
    }
   ],
   "source": [
    "url3 = df['Links'][2]\n",
    "print(url3)\n",
    "\n",
    "driver=webdriver.Firefox(executable_path=\"C:/geckodriver.exe\")\n",
    "driver.get(url3)\n",
    "page_source=driver.page_source\n",
    "soup=BeautifulSoup(page_source,'html.parser')\n",
    "title3 = soup.find('h1',{\"class\":\"Styles__Title-sc-8k4on7-3 jTqTpc title\"}).text\n",
    "print(title3)\n",
    "\n",
    "content3 = []\n",
    "\n",
    "main = soup.find('div',{\"class\":\"TranscriptTopic__StyledTextDiv-p179ej-0 eOwzhQ\"})\n",
    "tag = main.findAll('p',{\"class\":\"TranscriptText__Paragraph-sc-1jllhx4-1 edBsdN\"})\n",
    "for i in tag:\n",
    "    content3.append(i.text)\n",
    "    \n",
    "print(content3)"
   ]
  },
  {
   "cell_type": "markdown",
   "id": "cd9c2e0a",
   "metadata": {},
   "source": [
    "# Link 4"
   ]
  },
  {
   "cell_type": "code",
   "execution_count": 15,
   "id": "607912fc",
   "metadata": {},
   "outputs": [
    {
     "name": "stdout",
     "output_type": "stream",
     "text": [
      "https://techcrunch.com/2009/09/14/the-value-of-techcrunch50-mint-acquired-by-intuit-for-170m-two-years-after-winning-tc40/\n",
      "The Value of TechCrunch50: Mint Acquired by Intuit for $170m Two Years After Winning TC40.\n",
      "['Aaron Patzer is the CEO and founder of Mint.com, a personal finance site that launched two years ago at TechCrunch40. Last night the news broke that Mint is being acquired for $170 million by Intuit. Patzer has written two previous guest posts for TechCrunch.', 'Today, exactly two years after launching at TechCrunch40, I’m excited to announce that Mint.com has signed a definitive agreement to be acquired by Intuit for about $170m.  Intuit, a $10b company (NASDAQ: INTU) is perhaps best known as the maker of Quicken, QuickBooks, and TurboTax.', 'This is a great opportunity to bring Mint’s technology and easy-to-use personal financial management system to potentially tens of millions of consumers, an eventually small businesses and banking customers as well.', 'What’s perhaps even more amazing about this opportunity is that we made it to this point just three years after the company started:  one year to build, and two years in operation.  I doubt this could have happened anywhere but Silicon Valley.', 'Mint was built in the Silicon Valley way.  It started in my apartment, with Matt Snider and Poornima Vijayashanker.  We interviewed the first real “professional,” our VP of Engineering, David Michaels in our kitchen.', 'Our technology was all open source, and essentially all free:  MySQL at the bottom, Hibernate to avoid the need to hire a DBA, Tomcat on Apache, Yahoo’s YUI served as the base for our AJAXy goodness.', 'We didn’t have money for a lawyer, but no fewer than three offered to help us incorporate and accrue $25k in legal fees for a little bit of the company.  We shared office space in a type of incubator, renting by the cube to avoid a long-term lease.', 'We didn’t have money for advertising, so we started a blog.  We didn’t have money for writers, so most of our original blog content then was guest posts from other personal finance blogs, plus a couple of columns on people’s worst financial disasters.', 'To build demand, we started asking for email addresses for our alpha 9 months in advance of launch.  Then when we had too many people sign up, we asked people to put a little badge that said “I want Mint” on their blogs to get priority access.  We got free advertising and 600 link backs which raised our SEO juice.', 'When it came time to launch, we choose TechCrunch 40 – why pay $20k for DEMO?', 'We decided not to do SEM – it’s too easy and too additive.  Instead, we relied on press.  It’s where I spent 20% of my time.  I’m spending it right now while writing this.', 'The net result has been millions of visitors and 1.5m users essentially for free.  Mint is not inherently viral like a social network – but all good things are viral by word of mouth.', 'And so here we are two years later.  We’ve attracted over 1.5 million users, found over $300 million in savings, managed $50 billion in assets, and helped people track nearly $200 billion in purchases.  Most importantly, we’ve helped a lot of people better understand and do more with their money.  Thousands of people have told us that Mint.com has helped them pay off debt, control their spending, manage job loss, and even resolve money disputes with their significant other.', 'Expect all of this goodness to increase after the acquisition closes. And yes, expect Mint.com and Quicken Online to remain free.', 'So that’s the Mint story.  $0 to $170m in three years flat.  While everyone else was doing social media, music, video or the startup de jour, we tried to ground ourselves in what any business should be doing:  solve a real problem for people.  Make something that is faster, more efficient, cheaper (in this case free), and innovate on technology or business model to make a healthy revenue stream doing it.', 'Without the free (for a while) lawyers, free advertising (winning TechCrunch sent us sky high right from the start), and most importantly, people who come to Silicon Valley, we couldn’t have done it in this time frame, if at all.', 'Here’s to the Mint team, from New Zealand, from France, Tunisia, Armenia, Ukraine, Russia, Canada, Greece, and all over the U.S.  I’m proud of you all today, and I’m very happy to live in this Valley.']\n"
     ]
    }
   ],
   "source": [
    "url4 = df['Links'][3]\n",
    "print(url4)\n",
    "\n",
    "driver=webdriver.Firefox(executable_path=\"C:/geckodriver.exe\")\n",
    "driver.get(url4)\n",
    "page_source=driver.page_source\n",
    "soup=BeautifulSoup(page_source,'html.parser')\n",
    "title4 = soup.find('h1',{\"class\":\"article__title\"}).text\n",
    "print(title4)\n",
    "\n",
    "content4 = []\n",
    "\n",
    "main = soup.find('div',{\"class\":\"article-content\"})\n",
    "tag = main.findAll('p')\n",
    "for i in tag:\n",
    "    content4.append(i.text)\n",
    "    \n",
    "print(content4)"
   ]
  },
  {
   "cell_type": "markdown",
   "id": "db347806",
   "metadata": {},
   "source": [
    "# Link 5"
   ]
  },
  {
   "cell_type": "code",
   "execution_count": 16,
   "id": "12a2a3eb",
   "metadata": {},
   "outputs": [
    {
     "name": "stdout",
     "output_type": "stream",
     "text": [
      "https://medium.com/fast-company/what-the-hell-happened-to-mint-65e52355b11c\n"
     ]
    }
   ],
   "source": [
    "url5 = df['Links'][4]\n",
    "print(url5)"
   ]
  },
  {
   "cell_type": "code",
   "execution_count": 17,
   "id": "feba8de4",
   "metadata": {},
   "outputs": [
    {
     "name": "stdout",
     "output_type": "stream",
     "text": [
      "https://medium.com/fast-company/what-the-hell-happened-to-mint-65e52355b11c\n",
      "What the Hell Happened to Mint?\n"
     ]
    },
    {
     "ename": "AttributeError",
     "evalue": "'NoneType' object has no attribute 'findAll'",
     "output_type": "error",
     "traceback": [
      "\u001b[1;31m---------------------------------------------------------------------------\u001b[0m",
      "\u001b[1;31mAttributeError\u001b[0m                            Traceback (most recent call last)",
      "\u001b[1;32m<ipython-input-17-00f50d4f97f3>\u001b[0m in \u001b[0;36m<module>\u001b[1;34m\u001b[0m\n\u001b[0;32m     12\u001b[0m \u001b[1;33m\u001b[0m\u001b[0m\n\u001b[0;32m     13\u001b[0m \u001b[0mmain\u001b[0m \u001b[1;33m=\u001b[0m \u001b[0msoup\u001b[0m\u001b[1;33m.\u001b[0m\u001b[0mfind\u001b[0m\u001b[1;33m(\u001b[0m\u001b[1;34m'div'\u001b[0m\u001b[1;33m,\u001b[0m\u001b[1;33m{\u001b[0m\u001b[1;34m\"class\"\u001b[0m\u001b[1;33m:\u001b[0m\u001b[1;34m\"blog-post-single-content\"\u001b[0m\u001b[1;33m}\u001b[0m\u001b[1;33m)\u001b[0m\u001b[1;33m\u001b[0m\u001b[1;33m\u001b[0m\u001b[0m\n\u001b[1;32m---> 14\u001b[1;33m \u001b[0mtag\u001b[0m \u001b[1;33m=\u001b[0m \u001b[0mmain\u001b[0m\u001b[1;33m.\u001b[0m\u001b[0mfindAll\u001b[0m\u001b[1;33m(\u001b[0m\u001b[1;34m'p'\u001b[0m\u001b[1;33m)\u001b[0m\u001b[1;33m\u001b[0m\u001b[1;33m\u001b[0m\u001b[0m\n\u001b[0m\u001b[0;32m     15\u001b[0m \u001b[1;32mfor\u001b[0m \u001b[0mi\u001b[0m \u001b[1;32min\u001b[0m \u001b[0mtag\u001b[0m\u001b[1;33m:\u001b[0m\u001b[1;33m\u001b[0m\u001b[1;33m\u001b[0m\u001b[0m\n\u001b[0;32m     16\u001b[0m     \u001b[0mcontent5\u001b[0m\u001b[1;33m.\u001b[0m\u001b[0mappend\u001b[0m\u001b[1;33m(\u001b[0m\u001b[0mi\u001b[0m\u001b[1;33m.\u001b[0m\u001b[0mtext\u001b[0m\u001b[1;33m)\u001b[0m\u001b[1;33m\u001b[0m\u001b[1;33m\u001b[0m\u001b[0m\n",
      "\u001b[1;31mAttributeError\u001b[0m: 'NoneType' object has no attribute 'findAll'"
     ]
    }
   ],
   "source": [
    "url5 = df['Links'][4]\n",
    "print(url5)\n",
    "\n",
    "driver=webdriver.Firefox(executable_path=\"C:/geckodriver.exe\")\n",
    "driver.get(url5)\n",
    "page_source=driver.page_source\n",
    "soup=BeautifulSoup(page_source,'html.parser')\n",
    "title5 = soup.find('h1',{\"class\":\"de df dg dh b di dj dk dl dm dn do dp dq dr ds dt du dv dw dx dy dz ea eb ec ed\"}).text\n",
    "print(title5)\n",
    "\n",
    "content5 = []\n",
    "\n",
    "main = soup.find('div',{\"class\":\"blog-post-single-content\"})\n",
    "tag = main.findAll('p')\n",
    "for i in tag:\n",
    "    content5.append(i.text)\n",
    "    \n",
    "print(content5)"
   ]
  },
  {
   "cell_type": "markdown",
   "id": "20aa053a",
   "metadata": {},
   "source": [
    "# Link 6"
   ]
  },
  {
   "cell_type": "code",
   "execution_count": 19,
   "id": "66fcfdf9",
   "metadata": {},
   "outputs": [
    {
     "name": "stdout",
     "output_type": "stream",
     "text": [
      "https://okdork.com/quant-based-marketing-for-pre-launch-start-ups/\n",
      "\n",
      "Growth Marketing Mint.com From Zero To 1 Million Users\n",
      "Last updated on February 27, 2020 -  My Free Marketing newsletter \n",
      "100,000 users in 6 months.\n",
      "That was the growth marketing goal Mint.com’s co-founder, Aaron Patzer, set me when I first started as Mint’s Marketing Director. I thought to myself as the nerves began to kick in. “How am I going to achieve that?”\n",
      "Fast forward 6 months and Mint had over 1 million users - 10x the target Aaron set me on my first day.\n",
      "So how did that happen?\n",
      "There are 2 key reasons for Mint’s success:\n",
      "First, the product was awesome. Having a great product makes marketing less about “selling” and more about educating your target audience and spreading the word. Still, no matter how great your product is, if no-one knows it exists, no-one will use it.\n",
      " \n",
      "\n",
      "The secret to marketing is.... Build a great product.\n",
      "— noah kagan (@noahkagan) January 9, 2017\n",
      "\n",
      "Second, before Mint launched I knew we needed a growth marketing strategy. So instead of opening up Google and doing ‘social media marketing’ or ‘growth hacking,' I created a framework to reverse engineer our growth from zero to 100,000 users.\n",
      "And that exact framework is what I’d love to share with you today. Here’s the strategy I used to grow Mint.com from zero to 1m users...It was subsequently bought for $170 million dollars by Intuit. #payday\n",
      " \n",
      "\n",
      "\n",
      "\n",
      "Get the same spreadsheet I used to grow Mint\n",
      "\n",
      "\n",
      "\n",
      " \n",
      "Quant-based marketing: Reverse engineering growth marketing success\n",
      "No matter what your goal, whether it’s 10 new consulting clients, 10,000 people on your mailing list or 100,000 sign up so your new app, quant-based marketing can help.\n",
      "The key focal point to this strategy is to work backwards. Instead of starting with an intimidating zero playing on your mind, start at the solution and map your plan back from there.\n",
      "Think of it as a road trip - you start with a set destination in mind and then plan your route there. You don’t get in your car and start driving without in the hope that you magically end up where you wanted to be.\n",
      "So where should you begin?\n",
      "Getting started with quant based marketing in 7 simple steps\n",
      "Step 1: Setup your goal\n",
      "Having a goal to aim for is the most important part of any marketing strategy.\n",
      "Way before you start thinking about specific tactics or growth experiments you need to have a tangible and measurable goal set in stone.\n",
      "There are various ways to come up with great goals, but with the quant-based marketing approach, I’d recommend working backward from your overall company goal or the amount of revenue you’re targeting.\n",
      "For example, let’s say you’re selling a product at $100 per month and want to increase your monthly revenue from $0 to $10,000. The first thing you need to do is work out how many customers you need to hit the sweet spot of $10,000 per month. In this case, it’d be 100 customers paying $100 a month.\n",
      "Step 2: Choose a timeframe\n",
      "Without a time frame, there’s no sense of urgency to achieve it, and it can be hard to work out whether you’re on track or lagging behind where you should be. Saying ‘we need $10,000 per month someday’ won’t work. But if you anchor it within a timeframe, like ‘in 3 months’, then you’re instantly set in motion and ready to start working towards your goal.\n",
      "100 new customers in 3 months. Now that sounds like a real goal, right? You could even break it down further to ~16 new customers per week.\n",
      "Once you have your goal set, the next step is to start formulating your plan.\n",
      "Step 3: Set up your spreadsheet\n",
      "Now that you have a clear goal in mind you can start to building a strategy on how to achieve it.\n",
      "The best way to do this is by using a quant-based marketing spreadsheet to plan, track and measure all of your marketing activity.\n",
      "Here’s an example spreadsheet I used at Mint:\n",
      "\n",
      " \n",
      "\n",
      "\n",
      "\n",
      "BONUS: Get the spreadsheet\n",
      "\n",
      "\n",
      "\n",
      " \n",
      "The spreadsheet is broken down into eight columns. Here’s how to use each column:\n",
      "\n",
      "Source: Where are these users coming from? This source could be a blog you’re aiming for coverage on, Facebook Ads, Google AdWords (now Google Ads), or any marketing channel\n",
      "Traffic: How much traffic does this channel receive? Or for an ad on Facebook or Google Ads, how many impressions will you make? Use your BEST GUESS. The point here is to help you prioritize the different marketing channels\n",
      "CTR (Click-through rate): How much of that traffic will click through from the source to your website?\n",
      "Conversion %: Of those who click-through to your site, what percentage of those will convert to sign-ups?\n",
      "Users: How many users will this channel bring you? These are people who complete your signup process and use your product (this is your best estimate based on the numbers in the previous columns)\n",
      "Status: Where are you with this source? Is it all ready to go? Have you sent the first inquiry about the setup? Keep track of the status of each source in this column\n",
      "Confirmed: Is this happening? Yes or No\n",
      "Confirmed users: How many users did this source bring you? Confirmed users is the most critical column in the sheet. This number shows you how many users you generated from this source. Then you can re-prioritize your marketing efforts moving forward based on the results\n",
      "\n",
      "The most important part here is putting the framework in place to enable your success.\n",
      "Step 4: Research your sources\n",
      "With your spreadsheet ready to rock, it’s time to start thinking about your sources and where your users are going to come from.\n",
      "There are thousands of tactics and channels you can use as a part of your marketing strategy, and this step is all about narrowing them down and choosing a number of specific sources to focus on in order to achieve your goal.\n",
      "From my example spreadsheet, you can see I targeted 10 very specific sources to drive traffic to Mint.com and contribute to the goal of acquiring 100,000 users in 6 months:\n",
      "\n",
      "As Mint was focused on personal finance, I wanted to target personal finance bloggers and tech professionals.\n",
      "Who’s your target customer?\n",
      "Here’s a bunch of channels you could use:\n",
      "\n",
      "PR: Pitching the press and bloggers in your niche to cover your story\n",
      "SEM (Search engine marketing): Paid ads on search engines like Bing and Google, so your name will appear when certain keywords are searched\n",
      "SEO (Search engine optimization): Optimizing your blog posts, landing pages and site to rank well in search engines for keywords related to your business\n",
      "Social and display ads: Targeting your audience through ads on social channels like Twitter and Facebook\n",
      "Content marketing: Creating and publishing content (blogs, podcast, video) with the goal of generating interest in your product/service\n",
      "Direct sales: Directly speaking to potential customers. This could mean picking up the phone and calling potential customers or sending cold emails to prospects\n",
      "Target market blogs: Sponsor posts and content on popular blogs within your target market\n",
      "Influencer marketing: Identify and build relationships with individuals who have influence over your target market (e.g. high profile bloggers or Instagrammers)\n",
      "\n",
      "1. This helps you prioritize\n",
      "2. List at least 10, ideally 15\n",
      "3. Point is to just think about WHERE those ideal customers are.\n",
      "To prioritize which sources to run within your quant-based marketing strategy, I’d recommend using a simple scoring system based on:\n",
      "\n",
      "Ease of implementation\n",
      "Potential impact\n",
      "\n",
      "With this system, you’re looking for the sources that could have the highest impact with the easiest implementation. For example, getting featured in the NY Times could have an incredible impact, but extremely hard to implement, whereas working with a couple of influencers in your niche could be highly impactful and straightforward to implement.\n",
      "Take each channel and give it a score out of 5 for both ease of implementation (1 being hard, 5 being easy) and potential impact (1 being low and 5 being high) and then prioritize the sources with the highest scores. For example:\n",
      "\n",
      "Now your high priority sources should be clear, and you can ensure you focus your time on only the maximum impact opportunities. So from the spreadsheet above I can see I should be focusing on influencer marketing, target market blogs and content marketing.\n",
      "Consider your budget and timeframe\n",
      "When thinking about the ease of implementation and the potential impact a source may have, it’s important for you to consider your timeframe and budget.\n",
      "Timeframe:\n",
      "Let’s say you’re starting at zero and trying to acquire 100 new customers in a month. Would it make sense to create a fully-fledged SEO strategy?\n",
      "Probably not.\n",
      "Since you only have a month, it doesn't make sense to focus on SEO as a successful SEO strategy would take a long time to implement and reap rewards from.\n",
      "In contrast, with a one-month timeframe, it might make more sense to take a more direct approach to customer acquisition like emailing close contacts or picking up the phone and calling companies who may be interested in what you’re selling.\n",
      "Budget: \n",
      "At Mint we paid for about 40% of the traffic, we generated to grow from zero to 1 million users. When you pick your sources, keep your budget in mind and factor in costs to deciding which sources to prioritize.\n",
      "If you have some budget, sources like paid sponsorships and social ads can work amazingly. With a small budget or zero budget, it could be better to focus on more organic channels like content and PR.\n",
      "Step 5: Set your targets\n",
      "With your sources all in place, it’s now time to set your targets for each source.\n",
      "Setting your targets is hands down one of the most important parts of your strategy. Once you’ve launched your campaign for each source, these targets will give you something to measure against and figure out what’s working, what’s not and where you need to adjust.\n",
      "So, how do you go about setting targets for your sources?\n",
      "When it comes to traffic, you can often find benchmarks by using tools like SimilarWeb or SEMRush. For example, here’s a SimilarWeb traffic estimate for TechCrunch:\n",
      "\n",
      "CTR and Conversion % are a little harder to gauge. Not all publications will share CTR’s and Conversion %’s for previous advertisers publicly. The point is not about CTR / Conversion but what OUTCOME you expect to get from the source., so you may have to search for some case studies and read up about other’s experiences with each publication you’re targeting.\n",
      "There are far more benchmarks out there for advertising platforms like Facebook and Google Google Ads. For example, WordStream found that the average click-through rate on Google Ads paid search ads is about 2%. So if Google Ads is part of your strategy, you’ll likely want to aim for around 2% CTR.\n",
      "When setting your targets, the trick is to use your BEST GUESS; it doesn't have to be an exact science. It’s all to help you PRIORITIZE your marketing activities.\n",
      "Step 6: Create a timeline\n",
      "Now you have all of your sources and targets set; the next step is to break down these targets into smaller, time-focused goals and create a timeline.\n",
      "Recently I've been through this process to set targets for my podcast, Noah Kagan Presents. My goal is to have 100,000 downloads per episode by December. To achieve that, I’ve broken down my goal over 12 months from January to December 2017:\n",
      "\n",
      "No matter what time frame you’re working with, break it down into smaller, more achievable chunks. If your timeframe is three months, set monthly targets. If it’s three weeks, break it down into weekly targets.\n",
      "Why should you do this?\n",
      "Well, aside from making your goals feel more achievable, it’s also highly motivating to tick off the smaller goals on route to achieving your overall target.\n",
      "With each of your sources, take your overall targets and break them down into more manageable chunks that fit within your timeframe.\n",
      "For instance, you could breakdown a goal of 1,000 new users from Facebook Ads as follows:\n",
      "\n",
      "Week 1: 50 users\n",
      "Week 2: 200 users\n",
      "Week 3: 250 users\n",
      "Week 4: 500 users\n",
      "\n",
      "With this approach, you’re not heading into week 1 thinking “I have to get 1,000 users.” You’re setting yourself a smaller goal and creating time to experiment and learn what works. After the first week, you can begin to make tweaks and start scaling as you progress and get more familiar with how to drive the best results from each source.\n",
      "So apply the quant-based marketing framework to each source by working backward from your primary goal, and breaking it down into smaller weekly or monthly growth targets.\n",
      "Tip: Don’t leave it to chance\n",
      "Only confirmed traffic sources matter when it comes to quant-based marketing. If you want to be successful, you need to have everything set up and ready to go ahead of time. Don’t leave it up to chance and hope everything falls into place.\n",
      "Get every source confirmed well before you plan on going live.\n",
      "For example, if you’re sponsoring a post on a target market blog, ensure they have all the needed content resources and everything is signed off and ready to go well before it’s needed.\n",
      "Bonus tip: If you are working with partners, give them a calendar invite and the scripts you want them to send. The easier you make it for them, the more likely they are to do it.\n",
      "Step 7: Track your progress\n",
      "You’ve now reverse engineered your marketing strategy and should be all set to get the ball rolling. But like any form of great marketing, this isn’t something you can set and forget.\n",
      "You need to always be measuring and iterating to achieve your goals.\n",
      "Once you go live, some sources might work right off the bat, especially those you are a little more experienced with. But you definitely won’t hit a home run with every source you try, and that’s perfectly fine. I like to check back against my assumptions monthly. From there I take the ones performing and see if I can 2x them, the ones underperforming I’ll generally kill, immediately.\n",
      "The most important thing to ensure you’re on track to hit your end goal.\n",
      "The first couple of weeks of your strategy will likely feature a lot of experimentation and testing until you find what works (and what doesn’t).\n",
      "At Mint, we tested some landing pages (6 in total) when we first started marketing the product. The data from these tests enabled us to learn more about which messaging resonated most with our target audience and helped us to refine our copy and increase our conversions.\n",
      "This is why it’s key to measure your results in a spreadsheet so that you can spot where you need to adjust your plan.\n",
      "If a source is underperforming, and you’ve tried multiple tests to get to the bottom of why that is, you can drop it and replace it with another source.\n",
      "Likewise, if a source begins to perform exceedingly well, you should double down your resources there in order to maximize your growth.\n",
      "If you enjoyed this post, check out some more OkDork guides:\n",
      "\n",
      "How to Do Funnel Marketing\n",
      "How to Get More Email Subscribers\n",
      "\n",
      "\n",
      "['Last updated on February 27, 2020 -  My Free Marketing newsletter ', '100,000 users in 6 months.', 'That was the growth marketing goal Mint.com’s co-founder, Aaron Patzer, set me when I first started as Mint’s Marketing Director. I thought to myself as the nerves began to kick in. “How am I going to achieve that?”', 'Fast forward 6 months and Mint had over 1 million users - 10x the target Aaron set me on my first day.', 'So how did that happen?', 'There are 2 key reasons for Mint’s success:', 'First, the product was awesome. Having a great product makes marketing less about “selling” and more about educating your target audience and spreading the word. Still, no matter how great your product is, if no-one knows it exists, no-one will use it.', '\\xa0', 'The secret to marketing is.... Build a great product.', '— noah kagan (@noahkagan) January 9, 2017', '', \"Second, before Mint launched I knew we needed a growth marketing strategy. So instead of opening up Google and doing ‘social media marketing’ or ‘growth hacking,' I created a framework to reverse engineer our growth from zero to 100,000 users.\", 'And that exact framework is what I’d love to share with you today. Here’s the strategy I used to grow Mint.com from zero to 1m users...It was subsequently bought for $170 million dollars by Intuit. #payday', '\\xa0', '\\xa0', 'No matter what your goal, whether it’s 10 new consulting clients, 10,000 people on your mailing list or 100,000 sign up so your new app, quant-based marketing can help.', 'The key focal point to this strategy is to work backwards. Instead of starting with an intimidating zero playing on your mind, start at the solution and map your plan back from there.', 'Think of it as a road trip - you start with a set destination in mind and then plan your route there. You don’t get in your car and start driving without in the hope that you magically end up where you wanted to be.', 'Getting started with quant based marketing in 7 simple steps', 'Having a goal to aim for is the most important part of any marketing strategy.', 'Way before you start thinking about specific tactics or growth experiments you need to have a tangible and measurable goal set in stone.', 'There are various ways to come up with great goals, but with the quant-based marketing approach, I’d recommend working backward from your overall company goal or the amount of revenue you’re targeting.', 'For example, let’s say you’re selling a product at $100 per month and want to increase your monthly revenue from $0 to $10,000. The first thing you need to do is work out how many customers you need to hit the sweet spot of $10,000 per month. In this case, it’d be 100 customers paying $100 a month.', 'Without a time frame, there’s no sense of urgency to achieve it, and it can be hard to work out whether you’re on track or lagging behind where you should be. Saying ‘we need $10,000 per month someday’ won’t work. But if you anchor it within a timeframe, like ‘in 3 months’, then you’re instantly set in motion and ready to start working towards your goal.', '100 new customers in 3 months. Now that sounds like a real goal, right? You could even break it down further to ~16 new customers per week.', 'Once you have your goal set, the next step is to start formulating your plan.', 'Now that you have a clear goal in mind you can start to building a strategy on how to achieve it.', 'The best way to do this is by using a quant-based marketing spreadsheet to plan, track and measure all of your marketing activity.', 'Here’s an example spreadsheet I used at Mint:', '', '\\xa0', '\\xa0', 'The spreadsheet is broken down into eight columns. Here’s how to use each column:', 'The most important part here is putting the framework in place to enable your success.', 'With your spreadsheet ready to rock, it’s time to start thinking about your sources and where your users are going to come from.', 'There are thousands of tactics and channels you can use as a part of your marketing strategy, and this step is all about narrowing them down and choosing a number of specific sources to focus on in order to achieve your goal.', 'From my example spreadsheet, you can see I targeted 10 very specific sources to drive traffic to Mint.com and contribute to the goal of acquiring 100,000 users in 6 months:', '', 'As Mint was focused on personal finance, I wanted to target personal finance bloggers and tech professionals.', 'Here’s a bunch of channels you could use:', '1. This helps you prioritize\\n2. List at least 10, ideally 15\\n3. Point is to just think about WHERE those ideal customers are.', 'To prioritize which sources to run within your quant-based marketing strategy, I’d recommend using a simple scoring system based on:', 'With this system, you’re looking for the sources that could have the highest impact with the easiest implementation. For example, getting featured in the NY Times could have an incredible impact, but extremely hard to implement, whereas working with a couple of influencers in your niche could be highly impactful and straightforward to implement.', 'Take each channel and give it a score out of 5 for both ease of implementation (1 being hard, 5 being easy) and potential impact (1 being low and 5 being high) and then prioritize the sources with the highest scores. For example:', '', 'Now your high priority sources should be clear, and you can ensure you focus your time on only the maximum impact opportunities. So from the spreadsheet above I can see I should be focusing on influencer marketing, target market blogs and content marketing.', 'When thinking about the ease of implementation and the potential impact a source may have, it’s important for you to consider your timeframe and budget.', 'Timeframe:\\nLet’s say you’re starting at zero and trying to acquire 100 new customers in a month. Would it make sense to create a fully-fledged SEO strategy?', 'Probably not.', \"Since you only have a month, it doesn't make sense to focus on SEO as a successful SEO strategy would take a long time to implement and reap rewards from.\", 'In contrast, with a one-month timeframe, it might make more sense to take a more direct approach to customer acquisition like emailing close contacts or picking up the phone and calling companies who may be interested in what you’re selling.', 'Budget: \\nAt Mint we paid for about 40% of the traffic, we generated to grow from zero to 1 million users. When you pick your sources, keep your budget in mind and factor in costs to deciding which sources to prioritize.', 'If you have some budget, sources like paid sponsorships and social ads can work amazingly. With a small budget or zero budget, it could be better to focus on more organic channels like content and PR.', 'With your sources all in place, it’s now time to set your targets for each source.', 'Setting your targets is hands down one of the most important parts of your strategy. Once you’ve launched your campaign for each source, these targets will give you something to measure against and figure out what’s working, what’s not and where you need to adjust.', 'So, how do you go about setting targets for your sources?', 'When it comes to traffic, you can often find benchmarks by using tools like SimilarWeb or SEMRush. For example, here’s a SimilarWeb traffic estimate for TechCrunch:', '', 'CTR and Conversion % are a little harder to gauge. Not all publications will share CTR’s and Conversion %’s for previous advertisers publicly. The point is not about CTR / Conversion but what OUTCOME you expect to get from the source., so you may have to search for some case studies and read up about other’s experiences with each publication you’re targeting.', 'There are far more benchmarks out there for advertising platforms like Facebook and Google Google Ads. For example, WordStream found that the average click-through rate on Google Ads paid search ads is about 2%. So if Google Ads is part of your strategy, you’ll likely want to aim for around 2% CTR.', \"When setting your targets, the trick is to use your BEST GUESS; it doesn't have to be an exact science. It’s all to help you PRIORITIZE your marketing activities.\", 'Now you have all of your sources and targets set; the next step is to break down these targets into smaller, time-focused goals and create a timeline.', \"Recently I've been through this process to set targets for my podcast, Noah Kagan Presents. My goal is to have 100,000 downloads per episode by December. To achieve that, I’ve broken down my goal over 12 months from January to December 2017:\", '', 'No matter what time frame you’re working with, break it down into smaller, more achievable chunks. If your timeframe is three months, set monthly targets. If it’s three weeks, break it down into weekly targets.', 'Why should you do this?', 'Well, aside from making your goals feel more achievable, it’s also highly motivating to tick off the smaller goals on route to achieving your overall target.', 'With each of your sources, take your overall targets and break them down into more manageable chunks that fit within your timeframe.', 'For instance, you could breakdown a goal of 1,000 new users from Facebook Ads as follows:', 'With this approach, you’re not heading into week 1 thinking “I have to get 1,000 users.” You’re setting yourself a smaller goal and creating time to experiment and learn what works. After the first week, you can begin to make tweaks and start scaling as you progress and get more familiar with how to drive the best results from each source.', 'So apply the quant-based marketing framework to each source by working backward from your primary goal, and breaking it down into smaller weekly or monthly growth targets.', 'Only confirmed traffic sources matter when it comes to quant-based marketing. If you want to be successful, you need to have everything set up and ready to go ahead of time. Don’t leave it up to chance and hope everything falls into place.', 'Get every source confirmed well before you plan on going live.', 'For example, if you’re sponsoring a post on a target market blog, ensure they have all the needed content resources and everything is signed off and ready to go well before it’s needed.', 'Bonus tip: If you are working with partners, give them a calendar invite and the scripts you want them to send. The easier you make it for them, the more likely they are to do it.', 'You’ve now reverse engineered your marketing strategy and should be all set to get the ball rolling. But like any form of great marketing, this isn’t something you can set and forget.', 'You need to always be measuring and iterating to achieve your goals.', 'Once you go live, some sources might work right off the bat, especially those you are a little more experienced with. But you definitely won’t hit a home run with every source you try, and that’s perfectly fine. I like to check back against my assumptions monthly. From there I take the ones performing and see if I can 2x them, the ones underperforming I’ll generally kill, immediately.', 'The most important thing to ensure you’re on track to hit your end goal.', 'The first couple of weeks of your strategy will likely feature a lot of experimentation and testing until you find what works (and what doesn’t).', 'At Mint, we tested some landing pages (6 in total) when we first started marketing the product. The data from these tests enabled us to learn more about which messaging resonated most with our target audience and helped us to refine our copy and increase our conversions.', 'This is why it’s key to measure your results in a spreadsheet so that you can spot where you need to adjust your plan.', 'If a source is underperforming, and you’ve tried multiple tests to get to the bottom of why that is, you can drop it and replace it with another source.', 'Likewise, if a source begins to perform exceedingly well, you should double down your resources there in order to maximize your growth.', 'If you enjoyed this post, check out some more OkDork guides:']\n"
     ]
    }
   ],
   "source": [
    "url6 = df['Links'][5]\n",
    "print(url6)\n",
    "\n",
    "driver=webdriver.Firefox(executable_path=\"C:/geckodriver.exe\")\n",
    "driver.get(url6)\n",
    "page_source=driver.page_source\n",
    "soup=BeautifulSoup(page_source,'html.parser')\n",
    "title6 = soup.find('div',{\"class\":\"container dork-text\"}).text\n",
    "print(title6)\n",
    "\n",
    "content6 = []\n",
    "\n",
    "main = soup.find('div',{\"class\":\"container dork-text\"})\n",
    "tag = main.findAll('p')\n",
    "for i in tag:\n",
    "    content6.append(i.text)\n",
    "    \n",
    "print(content6)"
   ]
  },
  {
   "cell_type": "markdown",
   "id": "475b0bc8",
   "metadata": {},
   "source": [
    "# Link 7"
   ]
  },
  {
   "cell_type": "code",
   "execution_count": 23,
   "id": "0928941b",
   "metadata": {},
   "outputs": [
    {
     "name": "stdout",
     "output_type": "stream",
     "text": [
      "https://en.wikipedia.org/wiki/Intuit_Mint\n",
      "Intuit Mint\n",
      "['Mint, also known as Intuit Mint (styled in its logo as intuit mint with dotted \\'t\\' characters in \"intuit\" and undotted \\'i\\' characters) and formerly known as Mint.com, is a personal financial management website and mobile app for the US and Canada produced by Intuit, Inc. (which also produces TurboTax, QuickBooks, and Credit Karma).[2]\\n', 'Mint.com was originally created by Aaron Patzer and provided account aggregation through a deal with Yodlee, but switched to using Intuit\\'s own system for connecting to accounts after it was purchased by Intuit in 2009.[3]  It was later renamed from \"Mint.com\" to just \"Mint\". Mint\\'s primary service allows users to track bank, credit card, investment, and loan balances and transactions through a single user interface, as well as create budgets and set financial goals.[4][5]\\n', 'As of 2010, Mint.com claimed to connect with more than 16,000 US and Canadian financial institutions, and to support more than 17 million individual financial accounts.[6] As of November\\xa02013[update], Mint.com claimed to have more than 10 million users.[7] In 2016, Mint.com claimed to have over 20 million users.[8]\\n', 'Mint Bills, previously known as Check and Pageonce was a financial account management and bill payment service bought by Intuit in 2014 and integrated into Mint.com in March 2017. The Mint.com bill payment service was then discontinued on June 30, 2018.[9]\\n', 'Mint raised over $31M in venture capital funding from DAG Ventures, Shasta Ventures, and First Round Capital,[10][11] as well as from angel investors including Ram Shriram, an early investor in Google.[12] The latest round of $14M was closed on August 4, 2009,[13] and reported by CEO Aaron Patzer as preemptive.[14] TechCrunch later pegged the valuation of Mint at $140M.[15]\\n', 'In February 2008, revenue was generated through lead generation, earned via earning referral fees from recommendations of  highly personalized, targeted financial products to its users.[16]\\n', 'On September 13, 2009, TechCrunch reported Intuit would acquire Mint for $170 million.[17]  An official announcement was made the following day.\\n', \"On November 2, 2009, Intuit announced their acquisition of Mint.com was complete. The former CEO of Mint.com, Aaron Patzer, was named vice president and general manager of Intuit’s personal finance group, responsible for Mint.com and all Quicken online, desktop, and mobile offerings.[5] Patzer further added the features of the online product Mint.com would be incorporated into the Intuit's Quicken desktop product, and vice versa, as two collaborative aspects of the Intuit Personal Finance team.[18] Patzer left Intuit in December 2012.[19]\\n\", 'Mint asks users to provide both the user names and the passwords to their bank accounts, credit cards, and other financial accounts, which Mint then stores in their databases in a decryptable format.  This has raised concerns that if the Mint databases were ever hacked, both user names and passwords would become available to rogue third parties.  Some banks support a separate \"access code\" for read-only access to financial information, which reduces the risk to some degree.[20][21]\\n', \"In January 2017, Intuit and JPMorgan Chase settled a longstanding dispute, and agreed to develop software where Chase customers send their data, for financial purposes, to Mint without having Intuit store customers' names and passwords. It was also agreed Intuit would never sell Chase’s customer data.[22]\\n\"]\n"
     ]
    }
   ],
   "source": [
    "url7 = df['Links'][6]\n",
    "print(url7)\n",
    "\n",
    "driver=webdriver.Firefox(executable_path=\"C:/geckodriver.exe\")\n",
    "driver.get(url7)\n",
    "page_source=driver.page_source\n",
    "soup=BeautifulSoup(page_source,'html.parser')\n",
    "soup\n",
    "\n",
    "title7 = soup.find('h1',{\"class\":\"firstHeading\"}).text\n",
    "print(title7)\n",
    "\n",
    "content7 = []\n",
    "\n",
    "main = soup.find('div',{\"class\":\"mw-parser-output\"})\n",
    "tag = main.findAll('p')\n",
    "for i in tag:\n",
    "    content7.append(i.text)\n",
    "    \n",
    "print(content7)"
   ]
  },
  {
   "cell_type": "markdown",
   "id": "4110a2c5",
   "metadata": {},
   "source": [
    "# Link 8"
   ]
  },
  {
   "cell_type": "code",
   "execution_count": 42,
   "id": "b909e690",
   "metadata": {},
   "outputs": [
    {
     "name": "stdout",
     "output_type": "stream",
     "text": [
      "https://pdfcoffee.com/download/marketing-plan-the-mint-pdf-free.html\n",
      "Marketing Mint\n",
      "['THE MINT\\nMARKETING PLAN FOR ANY\\nBUSINESS LAUNCH\\nOkDork by NOAH KAGAN © Copyright 2025 Noah Kagan\\nQuick Intro From N', '\\n Views 143\\n Downloads 66\\n File size 4MB\\n', '\\n Report DMCA / Copyright\\n', '\\n DOWNLOAD FILE\\n', '', '\\nMARKETING PLAN The Marketing Plan is the lifeblood of virtually every business plan. While profitability is generally th ', '\\n\\n 25\\n 2\\n 464KB\\n\\nRead more\\n', '\\n', '\\n\\n 35\\n 4\\n 601KB\\n\\nRead more\\n', '\\nUNDERSTANDING THE MARKETING PLAN\\nContents of DXN Marketing Plan DXN MARKETING PLAN EXPLANATION ON THE DXN MARKETING PL ', '\\n\\n 12\\n 0\\n 263KB\\n\\nRead more\\n', '\\nPrinciples of Marketing Governor Pack Road, Baguio City, Philippines 2600 Tel. Nos.: (+6374) 442-3316, 442-8220; 444-278 ', '\\n\\n 21\\n 7\\n 412KB\\n\\nRead more\\n', '\\nTable of Contents Table of Contents..................................................................................... ', '\\n\\n 34\\n 2\\n 290KB\\n\\nRead more\\n', '\\n', '\\n\\n 29\\n 0\\n 834KB\\n\\nRead more\\n', '\\nMASTERING\\nMINT The Quickest and Easiest Way To Get Started Budgeting\\nBy Listen Money Matters\\nINTRODUCTION When I was ', '\\n\\n 30\\n 1\\n 5MB\\n\\nRead more\\n', '\\nThe Marketing Plan Executive Overview With many operators facing stagnating or declining voice revenues, data services a ', '\\n\\n 19\\n 3\\n 350KB\\n\\nRead more\\n', '\\nDaun mint merupakan salah satu makanan diet yang sangat baik. Di Cina, tanaman ini sudah digunakan sebagai pelangsing al ', '\\n\\n 49\\n 3\\n 190KB\\n\\nRead more\\n', '\\n', '\\n\\n 16\\n 0\\n 276KB\\n\\nRead more\\n']\n"
     ]
    }
   ],
   "source": [
    "url8 = df['Links'][7]\n",
    "print(url8)\n",
    "\n",
    "driver=webdriver.Firefox(executable_path=\"C:/geckodriver.exe\")\n",
    "driver.get(url8)\n",
    "page_source=driver.page_source\n",
    "soup=BeautifulSoup(page_source,'html.parser')\n",
    "title8 = \"Marketing Mint\"\n",
    "print(title8)\n",
    "\n",
    "content8 = []\n",
    "\n",
    "main = soup.find('div',{\"class\":\"col-lg-5 col-md-5 col-12\"})\n",
    "tag = main.findAll('p')\n",
    "for i in tag:\n",
    "    content8.append(i.text)\n",
    "    \n",
    "print(content8)"
   ]
  },
  {
   "cell_type": "markdown",
   "id": "20d21a89",
   "metadata": {},
   "source": [
    "# Link 9"
   ]
  },
  {
   "cell_type": "code",
   "execution_count": 34,
   "id": "fcc8f6cc",
   "metadata": {},
   "outputs": [
    {
     "name": "stdout",
     "output_type": "stream",
     "text": [
      "https://www.fastcompany.com/90453586/what-the-hell-happened-to-mint\n",
      "What the hell happened to Mint?\n",
      "['Intuit’s Mint personal-finance service wants me to know it’s sorry. Again.', '“We’re sorry!” its investments page bleats when I try to view my mutual funds’ performance. “Our graphs require the latest version of Adobe Flash player.”', 'That site has spent years apologizing to me for needing Adobe’s vulnerability-riddled plug-in: since I long ago booted Flash from my browser, since Adobe said in 2017 that it would drop Flash by the end of 2020, since Intuit told me in 2018 that Mint would wean itself from Flash “in the coming months.”', 'But that’s in keeping with this fossilized financial tool. Mint still provides a valuable service for free in aggregating transaction data from multiple financial institutions to clarify where your money comes and goes—and in the bargain suggests hopefully-better financial products from advertisers—but this app exhibits severe symptoms of neglect.', 'It’s as if Mint, with 13 million-plus registered users,\\xa0were a resource-constrained startup instead of a property of Intuit, the Microsoft of personal finance. But more than a decade after the firm behind TurboTax and QuickBooks (and, until 2016, Quicken) bought Mint for $170 million, neatly taking a competitor off the map, this once-groundbreaking app might as well be streaked with cobwebs.', '“In my mind, it’s been in maintenance mode the last eight years,” says Aaron Patzer, the founder of Mint who accepted Intuit’s offer, found himself tasked with improving Quicken, and then left the company in 2012.', '', 'It could be doing much more.”', '', 'Intuit has, however, made one less-obvious upgrade: switching account synchronization with some big-name institutions from a username-and-password exchange to a more secure OAuth sync in which Mint no longer stores your password.\\xa0', 'Intuit spokesman Rick Heineman lists other additions in an email: the ability to track cash transactions (added in 2010), a credit-score lookup (2014), and more recent tweaks to its insights and recommendations.\\xa0Given Mint’s huge potential—and the rapid pace of improvement for other web-based services—that’s an alarmingly skimpy list.', 'Patzer’s summary of his baby’s stunted growth: “It could be doing much more.” He points in particular to the lack of integration between Mint and TurboTax, saying, “I had a dream that TurboTax would take you about five minutes.”', 'The success of TurboTax, which Intuit zealously defends by\\xa0lobbying to stop governments from offering their own tax-prep apps, may help explain why Mint has gone neglected.\\xa0Patzer estimates that TurboTax generates 10 to 20 times the revenue of Mint. Intuit doesn’t break out that proportion—Heineman says, “Anything you have heard from Aaron or others is just speculation”—but its executives have left Mint out of prepared remarks for the company’s last five quarterly-earnings calls.\\xa0', 'In its 2019 fiscal year, Intuit’s consumer sector (basically, Mint and TurboTax) generated $2.775 billion in revenue, versus $3.533 billion for its small business and self-employed division, which is dominated by its QuickBooks accounting software.', 'As software that people pay for—annually—TurboTax follows a business model that Intuit mastered decades ago. By contrast, Patzer says, Mint’s referral fees for sign-ups through the app yielded “lumpy” income.', '“In your first two to three months, on average we were making something like $20 per user,” he says. “In the next three months, maybe $2 or $3.” It could not have helped when Mint presented users with ads for credit cards they already had.', 'Val Agostino, who was Mint’s director of product engineering in the early days, says pressure for revenue drove the company in two unhelpful directions. The service could “present users with financial offers that yielded the highest commission,” he emails, or “increase the number of offers a user saw in a given session.”', 'Agostino is now cofounder and CEO of Monarch, a subscription-based personal-finance app due to launch this year.\\xa0That happens to be the business model Intuit itself pursued when it launched its would-have-been Mint rival Quicken Online in January of 2008 as a $2.99/month Web app—before closing it in 2010 in favor of shifting its attention to Mint.', '(Intuit buying out its own competitor, in turn, echoed Microsoft’s failed attempt two decades earlier to purchase Intuit, which had trounced its Microsoft Money software.)\\xa0', 'For now, Mint benefits from a lack of serious competition. Quicken requires an annual subscription and remains desktop-bound, with a continued mismatch of Mac and Windows features. The free Personal Capital\\xa0web app is more geared toward investment management.\\xa0', 'For all of Mint’s failure to evolve and improve, its core functionality—putting your accounts in one free and easily scanned dashboard—continues to be fundamentally useful. That was the ability that led Fast Company to call it “the Axe Bodyspray of personal finance–cool, fresh, and even sexy.”\\xa0Any competitor will need to provide the same quick answers to “how much did I make?” and “where did I spend it?” before scaring Intuit out of its apathy.\\xa0', 'Or, as Patzer says of the app, which he continues to use himself: “It solves a real need.”\\xa0', 'Rob Pegoraro writes about computers, gadgets, telecom, social media, apps, and other things that beep or blink. He has met most of the founders of the Internet and once received a single-word e-mail reply from Steve Jobs.', ' More', 'Innovation in your inbox  Sign up for the daily newsletter ']\n"
     ]
    }
   ],
   "source": [
    "url9 = df['Links'][8]\n",
    "print(url9)\n",
    "\n",
    "driver=webdriver.Firefox(executable_path=\"C:/geckodriver.exe\")\n",
    "driver.get(url9)\n",
    "page_source=driver.page_source\n",
    "soup=BeautifulSoup(page_source,'html.parser')\n",
    "title9 = soup.find('h1',{\"class\":\"post__title\"}).text\n",
    "print(title9)\n",
    "\n",
    "content9 = []\n",
    "\n",
    "main = soup.find('div',{\"class\":\"post__content\"})\n",
    "tag = main.findAll('p')\n",
    "for i in tag:\n",
    "    content9.append(i.text)\n",
    "    \n",
    "print(content9)\n",
    "content5 = content9"
   ]
  },
  {
   "cell_type": "markdown",
   "id": "5fe271bc",
   "metadata": {},
   "source": [
    "# Link 10"
   ]
  },
  {
   "cell_type": "code",
   "execution_count": 31,
   "id": "44b8de76",
   "metadata": {},
   "outputs": [
    {
     "name": "stdout",
     "output_type": "stream",
     "text": [
      "https://neilpatel.com/blog/how-mint-grew/\n",
      "How Mint Grew to 1.5 Million Users and Sold for $170 Million in Just 2 Years\n",
      "['If you were to create a list of startups that had so-called “overnight success,” personal finance software service Mint would have to be near the top of the list. Winning TechCrunch 40 helped Mint get off to a great start and establish its credibility, but, in the end, that likely was a small contributor to its overall success. What propelled Mint to millions of users was a strong product and a strong marketing strategy.', 'Mint officially launched in September 2007. In November 2009, Intuit bought Mint for $170 million. At the time, Mint had over 1 million users and was adding a few thousand new users every day. Four years later, Mint has over 10 million users.', 'Growing to millions of users in two years would be a success story for any consumer web company. When you add in the fact that this is a finance product with no real viral component (Mint is personal, not social), it makes it even more impressive. People had to hand over their financial data to a young company, so Mint had an uphill climb in gaining trust with users. As we’ll see, being a consumer financial startup was a big turn off for investors, too.', 'See How My Agency Can Drive Massive Amounts of Traffic to Your Website', 'Book a Call', 'This blog post is, in part, inspired by Jason Putorti’s (designer extraordinaire at Mint) answer on Quora about the different components that led to growth. Putorti provides a synopsis of each component. I set out to dig a little deeper and get a more thorough understanding of how Mint grew. Here’s what I found:', 'Many companies like to launch their product and iterate based on feedback. Mint founder, Aaron Patzer, took a different approach:', '“When I started Mint I took a very different approach…and this is sort of the methodology that I formed (Validate your idea > Create a prototype > Build the right team > Raise funding).', '“Number one is to validate your idea. I actually didn’t write a line of code until I did about three or four months’ worth of thinking on Mint, which I think is counter to what a lot of people will suggest. A lot of people will say ‘Just get the product out there, just iterate very, very quickly, (and) just make a prototype.’ That works for certain types of things; I think anything that is social…that works. But for finance I wanted to be a little more rigorous and there were a lot of technical problems, connectivity to all of the banks, and the business model.', '“The next thing was to create a prototype, then to build the right team, and then to raise funding.”', 'Contrary to some entrepreneurs, Patzer told everyone he knew about his idea for Mint. He said that out of the roughly ninety people he told, only one said they would use it.', 'Ideas don’t really matter, what matters is execution, he says. “Ideas are really nothing, it’s all in the execution of that idea. Either you have a fantastic idea and you’re one of the only people in the world who can do it, or you have a fantastic idea and you have to be the best executor on that idea.”', 'When Patzer had the idea for Mint, he formed a few messaging concepts to describe it. One said something like “Mint is your Money Ninja.” Another said “Mint is your Money Champion,” and another said “Mint is Free Personal Money Management Software.” These were all written out on a page which explained the idea for Mint and what it did.', 'Patzer then went to a train station, stopped people, handed them the concept, and asked them questions like “Does this sound like something you would use?” Patzer suspected that people probably would say “yes” more often than they actually would use it, so he would have to gauge their enthusiasm in their “yes” answer. If they were enthusiastic and genuine about their answer, Patzer would weigh that more heavily than if someone monotonically said “yes.”', 'Another question he asked was about security. “Does this sound like something that is secure?” He didn’t ask if they would give them his financial information, but rather asked if it seemed like a trustworthy service.', 'A big plus for people? Reading the words “Bank Level Data Security” made a lot more people say they would use it.', 'An early Mint homepage design made their bank level security clear:', '', 'To this day, the words are highlighted on their security page:', '', 'This is all part of validating your idea, according to Patzer. It’s how you put together your marketing messages. It’s free, similar to a/b testing, and you should do it before you build your website.', 'Security was a big hurdle, not just for consumers, but also for investors. Patzer says that 50 venture capitalists turned him down before he got his first “yes.” The number one reason? The VCs didn’t think people would trust a startup with their financial and other private information. By the way, after every rejection from a VC, he’d listen to this Frank Sinatra song.', '“That was the idea behind mint. Make it dead simple to get your finances in order and to feel in control of your life.” – Aaron Patzer', 'Mint was not the first web-based money manager software (another strike to the first-mover advantage theory). There were a few heavyweights already occupying the market – Quicken Online, Microsoft Money Online, Wesabe, Geezeo, and others.', 'So how do you compete in a crowded market?', 'By having a superior product. The best defense is a good offense, and Mint was able to put their competitors on their heels. It’s what you hear a lot of business people preach. Rule #1 is making something people want, and rule #2 is capitalizing on your competitors’ weaknesses.', 'Let’s get a little deeper into this.', 'The incumbents in the market had a few weaknesses. For one thing, it was difficult to set up an account. Some had very tedious tasks for setting up and connecting accounts, and, in the end, it would take an hour for an account to be ready.', 'Mint focused on making it easy to get set up and have the program running in 10 minutes.', 'Another area of weakness was that many users had uncategorized expenses. They’d use Microsoft Money or Quicken and look at their spending graphs, and at least 50% of their expenses fell under “Uncategorized.” Users would have to manually categorize them, which could take hours every week. Not too useful. Patzer worked on an algorithm that would automatically categorize expenses. He explains it in detail in this video.', 'Mint also had what Patzer called a “gem.” This gem was the goal planning part of Mint.', '“Within this idea (for Mint) was a little gem, a little nugget. (It was) the money component of the life planning software, of the goal planning software. It resonated; people were having trouble figuring out ‘How much do I need for retirement? How much is something going to cost? How do I save up more?’ And I realized that virtually everybody I talked to had this problem and virtually everybody I talked to hated Quicken and Microsoft Money, the dominant products at the time.”', 'According to Patzer, the marketing plan was “Whatever we can do, basically, for cheap or for free.” ', 'A big area that Patzer and his team turned to was content marketing. They started a personal finance blog and began building an audience for Mint.', 'Jason Putorti says “We focused on building out a unique personal finance blog, very content-rich, that spoke to a young professional crowd that we felt was being neglected. Eventually the blog became #1 in personal finance, and drove traffic to the app. Our app didn’t have a high viral coefficient but we had content that was. Our infographics and popular articles became regular hits on Digg, Reddit, etc.”', 'The blog featured various topics on finance. It had “Trainwreck Tuesday” which featured disasters in personal finance. Readers could even submit their own. They had a “What’s in your Wallet” feature where they’d interview various people (technology CEOs, finance people, etc.) and ask them questions (for example – what card do you use, what brokerage accounts do you have, etc.).', 'Each Mint team had their own feature on the blog where they’d discuss their finances. A few team member entries:', 'They held a few Q&As with personal finance bloggers (or technology people with a big reach):', 'Their featured categories were prominently placed on the blog:', '', 'On the blog, there was a field where a visitor could enter their email to be put on the beta list. Its placement was at the end of every blog post:', '', 'They built up this demand for 8-9 months. Over this time, they accrued about 20-30k emails. It became too many (the system could handle only a couple of hundred), so Mint told their users they could have special access (alpha) if they put a badge on their blog or social media page. The badge simply said “I want Mint.” To this day, they still have badges available.', 'Mint gave exclusive VIP access to all of the people who had the badge embedded. From this badge, Mint got free advertising on 600 different blogs and an SEO boost due to links pointing to Mint.com.', 'In addition to these efforts, Mint got a lot of personal finance bloggers to write on the Mint blog for free so long as their site was linked back. They also sponsored personal finance blogs. By the time of launch, Mint had more traffic than all other personal finance sites combined.', 'All their blogging and content marketing efforts were effective and successful. But perhaps what had a greater effect than their content marketing was PR, which Patzer says was their best way to get new users. He spent 1 week out of every 2 months doing a press tour. By the time of acquisition, Patzer had done about 550 interviews.', 'Putorti explains their PR:', '“Some entrepreneurs lately seem to be piling on against PR or saying that doing it in house is enough. Mint is an example where we (they used Atomic PR) did extensive PR-backed positioning research, and went to town. PR was extremely high quality traffic for us, and the optics for the brand were undeniably good. We trounced all of our online competitors, including Quicken, who sent us legal threats. Patzer talked to every outlet from Entrepreneur to Essence.”', 'According to Atomic PR, their efforts led to a 255% increase in coverage, as many as 20,000 signups in a day, and the fastest growing personal finance software product. When done correctly, PR can be very powerful. Another example of a company that got its feet off the ground with PR would be YouTube.', 'I’ve collected a list of press mentions Mint received in their first few years.', 'So, all in all, how successful were Mint’s marketing and PR efforts?', 'According to Patzer, they became so efficient that their cost of acquisition was under $1.', '', '', 'Mint has a pretty large target market, so the content they produce appeals to just about any consumer. They produce educational infographics that are certain to draw interest and get people sharing. To check out their topical infographics and posts, check out their “Trends” category.', 'Because of their quality content, they attract a lot of social attention. Mint’s infographics are especially popular on Reddit. I’ve listed a few of their popular submissions. Notice the “points” the infographics have generated. More points essentially means people like it and more people will see it.', '', '', '', '', '', '', '', 'Keep in mind, they also had popularity on the old Digg.', 'I think the key lesson we can learn from Mint infographics is to ask ourselves a question: Will this get people talking and sharing?', 'If content is good enough, it’ll spread without any paid promotion needed from the brand. TV shows Mad Men and Breaking Bad were launched on a small network yet became some of the most popular shows because of their quality, which led people to tell others. Content in viral videos like the Chipotle scarecrow and the GoPro mountain biking video is so rich it’s almost impossible to not share or talk about. It’s content that is so good they don’t ask “Should I share this?” Rather, it’s an instinct to share it with others.', 'So by asking yourself if your content will make people share (and click), you’ll be off to the right start.', '“People trust Google, so we knew they’d trust us more if they came to Mint from there, so we used search engine optimization to get Mint to the front page of Google searches.” -Noah Kagan', 'Another area where Mint had an aggressive strategy was SEO. Their SEO efforts drove 20% of total new users to Mint. Let’s run through a few programs they did to get search traffic:', 'Blog – The Mint blog, in addition to getting social traction, also got traffic from search engines. Running a quality blog is central to successful content marketing.', 'Mint Answers – In May 2010 Mint launched Mint Answers, a platform similar to Yahoo Answers, Stack Overflow, or Quora. The key difference is that Mint hired a panel of experts (the ACA) to help answer questions. In addition to the panel, Mint users could chime in with their own answers.', 'So when people go searching for a query such as “Should I lease a new car?” Mint may be one of the first results.', 'If you try looking for Mint Answers, you may find some of the archives, but the platform has since been shut down.', 'Keyword Optimization – Search for personal finance software on Google, and Mint will be one of the top results. Strangely enough, you’ll have to go to the second page on Bing to find it.', 'Having a high ranking on these keywords likely brought in thousands of visitors a month.', 'Mint also did some SEM with competitors’ keywords. Years ago, if you typed quicken into Google, you’d see a Mint ad placement:', '', 'When their competitor, Wesabe, shut down, Mint turned this into a timely opportunity for the company and put an ad on Google for the Wesabe keyword:', '', 'Optimized Landing Pages – I’ll let Putorti explain: “We had a lot of landing pages, content on the blog and marketing sites, and a very metrics driven approach to all of it. For every popular finance query on Google, we had a page and content for it, and iterated landing pages to optimize conversion.”', 'Mint added the personal and human side to their business by using Facebook and Twitter effectively. They had discussions with people who would comment on their page, held giveaways, and promoted their blog through these channels.', 'Mint became more than just a product. It became a place for all things finance. Talk finance, trade stories, share advice, etc. The financial centerpiece of your life was Mint.', 'That’s the story of Mint’s marketing. If you take a step back and look at it from a “bird’s eye view,” you’ll see that it’s “complete” in a sense. They got exposure through media, they got the word out through social media (including Reddit and Digg), they ran their own blog and a community, and they added their own personal voice on social media.', 'From what I can tell, Mint became to finances what ESPN is to sports. And this was accomplished in just a couple of years. They went after a narrow area and didn’t veer off into developing business finance software.', 'If you are a person wanting personal finance software or wanting to chat about personal finance, Mint is the place to be. When you think personal finance, you think Mint. For millions of people, it’s difficult to picture personal finance without Mint. They go together.', 'This is happening in other niches as well. When you think inbound marketing, you think HubSpot. When you think movies, you think Netflix. And when you think photo sharing, you think Instagram. These are products with successful branding.', 'What lessons have you learned from Mint? I’d love to hear it in the comments!', 'About the Author: Zach Bulygo is a blogger, you can find him on Twitter here.']\n"
     ]
    }
   ],
   "source": [
    "url10 = df['Links'][9]\n",
    "print(url10)\n",
    "\n",
    "driver=webdriver.Firefox(executable_path=\"C:/geckodriver.exe\")\n",
    "driver.get(url10)\n",
    "page_source=driver.page_source\n",
    "soup=BeautifulSoup(page_source,'html.parser')\n",
    "title10 = soup.find('h1',{\"class\":\"border title\"}).text\n",
    "print(title10)\n",
    "\n",
    "content10 = []\n",
    "\n",
    "main = soup.find('div',{\"class\":\"entry-content\"})\n",
    "tag = main.findAll('p')\n",
    "for i in tag:\n",
    "    content10.append(i.text)\n",
    "    \n",
    "print(content10)"
   ]
  },
  {
   "cell_type": "code",
   "execution_count": null,
   "id": "a92a8288",
   "metadata": {},
   "outputs": [],
   "source": []
  },
  {
   "cell_type": "code",
   "execution_count": 43,
   "id": "b9d4ef1e",
   "metadata": {},
   "outputs": [],
   "source": [
    "titles = [title1, title2, title3, title4, title5, title6, title7, title8, title9, title10]"
   ]
  },
  {
   "cell_type": "code",
   "execution_count": 44,
   "id": "89921d87",
   "metadata": {},
   "outputs": [],
   "source": [
    "content = [content1, content2, content3, content4, content5, content6, content7, content8, content9, content10]"
   ]
  },
  {
   "cell_type": "code",
   "execution_count": 45,
   "id": "6b709ccf",
   "metadata": {},
   "outputs": [],
   "source": [
    "df['Title'] = titles\n",
    "df['Content'] = content"
   ]
  },
  {
   "cell_type": "code",
   "execution_count": 46,
   "id": "2370e1b2",
   "metadata": {},
   "outputs": [
    {
     "data": {
      "text/html": [
       "<div>\n",
       "<style scoped>\n",
       "    .dataframe tbody tr th:only-of-type {\n",
       "        vertical-align: middle;\n",
       "    }\n",
       "\n",
       "    .dataframe tbody tr th {\n",
       "        vertical-align: top;\n",
       "    }\n",
       "\n",
       "    .dataframe thead th {\n",
       "        text-align: right;\n",
       "    }\n",
       "</style>\n",
       "<table border=\"1\" class=\"dataframe\">\n",
       "  <thead>\n",
       "    <tr style=\"text-align: right;\">\n",
       "      <th></th>\n",
       "      <th>Links</th>\n",
       "      <th>Title</th>\n",
       "      <th>Content</th>\n",
       "    </tr>\n",
       "  </thead>\n",
       "  <tbody>\n",
       "    <tr>\n",
       "      <th>0</th>\n",
       "      <td>https://www.chegg.com/homework-help/mintcom-we...</td>\n",
       "      <td>ENTREPRENEURSHIP &amp; INTERPRTV SIMU A/C GRP A</td>\n",
       "      <td>[Content not Available]</td>\n",
       "    </tr>\n",
       "    <tr>\n",
       "      <th>1</th>\n",
       "      <td>https://www.nytimes.com/2009/09/15/technology/...</td>\n",
       "      <td>Intuit Buys Mint, a Web-Based Finance Competitor</td>\n",
       "      <td>[Mint.com, a start-up whose Web site helps peo...</td>\n",
       "    </tr>\n",
       "    <tr>\n",
       "      <th>2</th>\n",
       "      <td>https://prezi.com/ajjpwoo7gaz4/mintcom-case-141/</td>\n",
       "      <td>Mint.com:  Case 14.1</td>\n",
       "      <td>[3.  Do you think Intuit's acquisition of Mint...</td>\n",
       "    </tr>\n",
       "    <tr>\n",
       "      <th>3</th>\n",
       "      <td>https://techcrunch.com/2009/09/14/the-value-of...</td>\n",
       "      <td>The Value of TechCrunch50: Mint Acquired by In...</td>\n",
       "      <td>[Aaron Patzer is the CEO and founder of Mint.c...</td>\n",
       "    </tr>\n",
       "    <tr>\n",
       "      <th>4</th>\n",
       "      <td>https://medium.com/fast-company/what-the-hell-...</td>\n",
       "      <td>What the Hell Happened to Mint?</td>\n",
       "      <td>[Intuit’s Mint personal-finance service wants ...</td>\n",
       "    </tr>\n",
       "    <tr>\n",
       "      <th>5</th>\n",
       "      <td>https://okdork.com/quant-based-marketing-for-p...</td>\n",
       "      <td>\\nGrowth Marketing Mint.com From Zero To 1 Mil...</td>\n",
       "      <td>[Last updated on February 27, 2020 -  My Free ...</td>\n",
       "    </tr>\n",
       "    <tr>\n",
       "      <th>6</th>\n",
       "      <td>https://en.wikipedia.org/wiki/Intuit_Mint</td>\n",
       "      <td>Intuit Mint</td>\n",
       "      <td>[Mint, also known as Intuit Mint (styled in it...</td>\n",
       "    </tr>\n",
       "    <tr>\n",
       "      <th>7</th>\n",
       "      <td>https://pdfcoffee.com/download/marketing-plan-...</td>\n",
       "      <td>Marketing Mint</td>\n",
       "      <td>[THE MINT\\nMARKETING PLAN FOR ANY\\nBUSINESS LA...</td>\n",
       "    </tr>\n",
       "    <tr>\n",
       "      <th>8</th>\n",
       "      <td>https://www.fastcompany.com/90453586/what-the-...</td>\n",
       "      <td>What the hell happened to Mint?</td>\n",
       "      <td>[Intuit’s Mint personal-finance service wants ...</td>\n",
       "    </tr>\n",
       "    <tr>\n",
       "      <th>9</th>\n",
       "      <td>https://neilpatel.com/blog/how-mint-grew/</td>\n",
       "      <td>How Mint Grew to 1.5 Million Users and Sold fo...</td>\n",
       "      <td>[If you were to create a list of startups that...</td>\n",
       "    </tr>\n",
       "  </tbody>\n",
       "</table>\n",
       "</div>"
      ],
      "text/plain": [
       "                                               Links  \\\n",
       "0  https://www.chegg.com/homework-help/mintcom-we...   \n",
       "1  https://www.nytimes.com/2009/09/15/technology/...   \n",
       "2   https://prezi.com/ajjpwoo7gaz4/mintcom-case-141/   \n",
       "3  https://techcrunch.com/2009/09/14/the-value-of...   \n",
       "4  https://medium.com/fast-company/what-the-hell-...   \n",
       "5  https://okdork.com/quant-based-marketing-for-p...   \n",
       "6          https://en.wikipedia.org/wiki/Intuit_Mint   \n",
       "7  https://pdfcoffee.com/download/marketing-plan-...   \n",
       "8  https://www.fastcompany.com/90453586/what-the-...   \n",
       "9          https://neilpatel.com/blog/how-mint-grew/   \n",
       "\n",
       "                                               Title  \\\n",
       "0       ENTREPRENEURSHIP & INTERPRTV SIMU A/C GRP A    \n",
       "1   Intuit Buys Mint, a Web-Based Finance Competitor   \n",
       "2                               Mint.com:  Case 14.1   \n",
       "3  The Value of TechCrunch50: Mint Acquired by In...   \n",
       "4                    What the Hell Happened to Mint?   \n",
       "5  \\nGrowth Marketing Mint.com From Zero To 1 Mil...   \n",
       "6                                        Intuit Mint   \n",
       "7                                     Marketing Mint   \n",
       "8                    What the hell happened to Mint?   \n",
       "9  How Mint Grew to 1.5 Million Users and Sold fo...   \n",
       "\n",
       "                                             Content  \n",
       "0                            [Content not Available]  \n",
       "1  [Mint.com, a start-up whose Web site helps peo...  \n",
       "2  [3.  Do you think Intuit's acquisition of Mint...  \n",
       "3  [Aaron Patzer is the CEO and founder of Mint.c...  \n",
       "4  [Intuit’s Mint personal-finance service wants ...  \n",
       "5  [Last updated on February 27, 2020 -  My Free ...  \n",
       "6  [Mint, also known as Intuit Mint (styled in it...  \n",
       "7  [THE MINT\\nMARKETING PLAN FOR ANY\\nBUSINESS LA...  \n",
       "8  [Intuit’s Mint personal-finance service wants ...  \n",
       "9  [If you were to create a list of startups that...  "
      ]
     },
     "execution_count": 46,
     "metadata": {},
     "output_type": "execute_result"
    }
   ],
   "source": [
    "df"
   ]
  },
  {
   "cell_type": "code",
   "execution_count": 47,
   "id": "9a9e3a3e",
   "metadata": {},
   "outputs": [],
   "source": [
    "df.to_csv(\"Mint_com.csv\")"
   ]
  },
  {
   "cell_type": "code",
   "execution_count": null,
   "id": "7a433964",
   "metadata": {},
   "outputs": [],
   "source": []
  }
 ],
 "metadata": {
  "kernelspec": {
   "display_name": "Python 3",
   "language": "python",
   "name": "python3"
  },
  "language_info": {
   "codemirror_mode": {
    "name": "ipython",
    "version": 3
   },
   "file_extension": ".py",
   "mimetype": "text/x-python",
   "name": "python",
   "nbconvert_exporter": "python",
   "pygments_lexer": "ipython3",
   "version": "3.8.8"
  }
 },
 "nbformat": 4,
 "nbformat_minor": 5
}
