{
 "cells": [
  {
   "cell_type": "code",
   "execution_count": 1,
   "id": "f725cd1b",
   "metadata": {},
   "outputs": [],
   "source": [
    "from bs4 import BeautifulSoup\n",
    "import requests\n",
    "import pandas as pd\n",
    "from selenium import webdriver\n",
    "import time\n",
    "from matplotlib import pyplot as plt"
   ]
  },
  {
   "cell_type": "code",
   "execution_count": 2,
   "id": "bd14bab0",
   "metadata": {},
   "outputs": [],
   "source": [
    "df = pd.read_csv(\"Assignment1_links.csv\")"
   ]
  },
  {
   "cell_type": "code",
   "execution_count": 3,
   "id": "4b1109ef",
   "metadata": {},
   "outputs": [
    {
     "data": {
      "text/html": [
       "<div>\n",
       "<style scoped>\n",
       "    .dataframe tbody tr th:only-of-type {\n",
       "        vertical-align: middle;\n",
       "    }\n",
       "\n",
       "    .dataframe tbody tr th {\n",
       "        vertical-align: top;\n",
       "    }\n",
       "\n",
       "    .dataframe thead th {\n",
       "        text-align: right;\n",
       "    }\n",
       "</style>\n",
       "<table border=\"1\" class=\"dataframe\">\n",
       "  <thead>\n",
       "    <tr style=\"text-align: right;\">\n",
       "      <th></th>\n",
       "      <th>Links</th>\n",
       "    </tr>\n",
       "  </thead>\n",
       "  <tbody>\n",
       "    <tr>\n",
       "      <th>0</th>\n",
       "      <td>https://www.chegg.com/homework-help/entreprene...</td>\n",
       "    </tr>\n",
       "    <tr>\n",
       "      <th>1</th>\n",
       "      <td>https://apnews.com/article/entertainment-music...</td>\n",
       "    </tr>\n",
       "    <tr>\n",
       "      <th>2</th>\n",
       "      <td>https://www.axios.com/chamillionaire-on-invest...</td>\n",
       "    </tr>\n",
       "    <tr>\n",
       "      <th>3</th>\n",
       "      <td>https://medium.com/swlh/how-chamillionaire-bec...</td>\n",
       "    </tr>\n",
       "    <tr>\n",
       "      <th>4</th>\n",
       "      <td>https://entrepreneurquarterly.com/chamillionai...</td>\n",
       "    </tr>\n",
       "    <tr>\n",
       "      <th>5</th>\n",
       "      <td>https://techcrunch.com/2018/02/11/chamillionai...</td>\n",
       "    </tr>\n",
       "    <tr>\n",
       "      <th>6</th>\n",
       "      <td>https://www.pinterest.com/pin/what-tech-entrep...</td>\n",
       "    </tr>\n",
       "    <tr>\n",
       "      <th>7</th>\n",
       "      <td>https://www.fastcompany.com/1697778/what-tech-...</td>\n",
       "    </tr>\n",
       "    <tr>\n",
       "      <th>8</th>\n",
       "      <td>https://www.click2houston.com/news/2017/12/11/...</td>\n",
       "    </tr>\n",
       "    <tr>\n",
       "      <th>9</th>\n",
       "      <td>https://www.billboard.com/articles/news/648058...</td>\n",
       "    </tr>\n",
       "  </tbody>\n",
       "</table>\n",
       "</div>"
      ],
      "text/plain": [
       "                                               Links\n",
       "0  https://www.chegg.com/homework-help/entreprene...\n",
       "1  https://apnews.com/article/entertainment-music...\n",
       "2  https://www.axios.com/chamillionaire-on-invest...\n",
       "3  https://medium.com/swlh/how-chamillionaire-bec...\n",
       "4  https://entrepreneurquarterly.com/chamillionai...\n",
       "5  https://techcrunch.com/2018/02/11/chamillionai...\n",
       "6  https://www.pinterest.com/pin/what-tech-entrep...\n",
       "7  https://www.fastcompany.com/1697778/what-tech-...\n",
       "8  https://www.click2houston.com/news/2017/12/11/...\n",
       "9  https://www.billboard.com/articles/news/648058..."
      ]
     },
     "execution_count": 3,
     "metadata": {},
     "output_type": "execute_result"
    }
   ],
   "source": [
    "df.drop(['Unnamed: 0'],inplace=True,axis=1)"
   ]
  },
  {
   "cell_type": "markdown",
   "id": "c599f075",
   "metadata": {},
   "source": [
    "# Link 1"
   ]
  },
  {
   "cell_type": "code",
   "execution_count": 59,
   "id": "43cd867a",
   "metadata": {},
   "outputs": [
    {
     "name": "stdout",
     "output_type": "stream",
     "text": [
      " ENTREPRENEURSHIP & INTERPRTV SIMU A/C GRP A \n",
      "[' Yes, it is rather surprising that a rap artist is very interested in entrepreneurship and technology. ']\n"
     ]
    }
   ],
   "source": [
    "url1 = df['Links'][0]\n",
    "print(url1)\n",
    "\n",
    "driver=webdriver.Firefox(executable_path=\"C:/geckodriver.exe\")\n",
    "driver.get(url1)\n",
    "page_source=driver.page_source\n",
    "soup=BeautifulSoup(page_source,'html.parser')\n",
    "title1 = soup.find('span',{\"class\":\"tbsInfo__BookTitle-sc-zxkl90-1 bnzjkm\"}).text\n",
    "print(title1)\n",
    "\n",
    "content1 = []\n",
    "main = soup.find('div',{\"class\":\"styled__StepWrap-sc-1236393-4 QCYki\"})\n",
    "tag = main.findAll('div',{\"class\":\"answer\"})\n",
    "for i in tag:\n",
    "    content1.append(i.text)\n",
    "    \n",
    "print(content1)"
   ]
  },
  {
   "cell_type": "markdown",
   "id": "58d0b128",
   "metadata": {},
   "source": [
    "# Link 2"
   ]
  },
  {
   "cell_type": "code",
   "execution_count": 13,
   "id": "0d24b5be",
   "metadata": {},
   "outputs": [
    {
     "name": "stdout",
     "output_type": "stream",
     "text": [
      "https://apnews.com/article/entertainment-music-technology-hip-hop-and-rap-celebrities-5169ca25671b9ad69f064bd14fd3a22e\n",
      "Chamillionaire wants to add diversity to tech space\n",
      "['When Grammy award-winning rapper Hakeem “Chamillionaire” Seriki began learning the ropes of venture capitalism in the tech space, he noticed something almost immediately— he wasn’t seeing many people who looked like him. ', 'When he began to fund ventures himself, the heads of startups that were brought to him weren’t diverse, either, and that led him to create pitch competitions specifically geared toward people of color and women. His latest contest features a $100,000 investment from him and fellow rapper E-40. ', ' “The reason why we decided to put the focus on minority and women-funded startups is because this demographic of companies and founders is just underrepresented, they’re under-invested in,” he told The Associated Press in a recent interview. “They’re just not as appreciated as we would like, so we’re trying to do more to create more awareness for these companies and also put our money where our mouth is and invest in one of them.”', '', '', 'Startup companies will submit their pitches on Convoz, a video-based social app started by Chamillionaire that focuses on face-to-face interaction. The applicants will be reviewed by him, E-40, Daymond John of “Shark Tank” and Republic, an SEC-registered investing platform.', 'Chamillionaire, who co-founded the underground Texas group the Color Changin’ Click with Paul Wall, is best known for his hit “Ridin’ Dirty,” but has also made a name for himself in business.', 'He believes diversity is scarce because limited partners and venture capitalists tend to work with people they are familiar with or those they “see themselves in,” Chamillionaire said. The trickle-down effect is that the tech space is almost completely dominated by white males. However, the rapper believes that bringing in people with different backgrounds and life experiences will benefit the entire sector. ', '“A lot of people are raising money, but a lot of people aren’t minorities. A lot of them aren’t women,” Chamillionaire said. “We’re solving problems, often unique problems, because some of these companies I’m seeing are the regurgitation of problems that already got solved. And then you go into places where people like me grew up and there are people that are seeing the world from a very unique lens and those people aren’t getting the capital to go and create those things.”', 'He advises many celebrities and athletes of color in learning how to properly invest and believes they are now realizing the power their status carries, which results in them eventually founding their own companies, as opposed to collecting a paycheck from one.', '', '', '“I want to do more to create more awareness so that the people in our communities aren’t just thinking that you just got to be a basketball player or a rapper, because that’s what I thought,” Chamillionaire said. “Now I feel like there’s a lot of ‘cool’ happening with the tech. There are people that are becoming millionaires that are 20-something-years-old when Snapchat IPOs or when this company gets acquired. And I feel like we need to start training people in our community to start thinking like this.”', 'Although Chamillionaire says he’s encouraged by conferences such as AfroTech – the nation’s largest technology conference for African American techies and entrepreneurs—he says now is the time for inclusion. ', '“I think there’s a systemic problem that I’m not alone going to be able to fix, but I recognize it’s a real thing. So I’m gonna be very vocal about it,” says the venture capitalist. ', 'The pitch competition ends Friday.', '___', 'Follow Associated Press entertainment journalist Gary Gerard Hamilton at twitter.com/GaryGHamilton.']\n"
     ]
    }
   ],
   "source": [
    "url2 = df['Links'][1]\n",
    "print(url2)\n",
    "\n",
    "driver=webdriver.Firefox(executable_path=\"C:/geckodriver.exe\")\n",
    "driver.get(url2)\n",
    "page_source=driver.page_source\n",
    "soup=BeautifulSoup(page_source,'html.parser')\n",
    "title2 = soup.find('h1',{\"class\":\"Component-heading-0-2-33\"}).text\n",
    "print(title2)\n",
    "\n",
    "content2 = []\n",
    "main = soup.find('div',{\"class\":\"Article\"})\n",
    "tag = main.findAll('p',{\"class\":\"Component-root-0-2-59 Component-p-0-2-50\"})\n",
    "for i in tag:\n",
    "    content2.append(i.text)\n",
    "    \n",
    "print(content2)"
   ]
  },
  {
   "cell_type": "markdown",
   "id": "f0d391d5",
   "metadata": {},
   "source": [
    "# Link 3"
   ]
  },
  {
   "cell_type": "code",
   "execution_count": 15,
   "id": "c6eaa5ac",
   "metadata": {},
   "outputs": [
    {
     "name": "stdout",
     "output_type": "stream",
     "text": [
      "https://www.axios.com/chamillionaire-on-investing-in-startups-and-entrepreneurship-d4733f13-103a-4530-ae03-d9a5911cbe13.html\n",
      "Q&A: Chamillionaire on investing in startups and entrepreneurship\n",
      "['In the last several years, a growing number of celebrities have begun investing into tech startups. But few have humbled and immersed themselves into the industry like Chamillionaire, who rose to fame in the early 2000s as a rapper, but can now be spotted at investor parties and Y Combinator \"demo days.\" Next act: A self-described entrepreneur at heart, Chamillionaire recently debuted his mobile video chat app Convoz while he continues to invest in startups. Quick facts: While still working as a musician, he began advising companies like SayNow, which let celebrities directly interact with fans and sold to Google in 2011. He leads a syndicate of investors made up of influencers, celebrities, and athletes. His exits so far include Maker Studios (to Disney for a reported $675 million) and Cruise (to General Motors for close to $1 billion). His startup Convoz now has a total of seven employees, and has raised an undisclosed amount of seed funding from Greycroft Ventures, Upfront Ventures, 500 Startups, Precursor VC, Okapi Ventures, XG Ventures, and a roster of angels including Justin Kan and Snoop Dogg. He\\'s not made any investments in cryptocurrencies but says he believes in the potential of blockchain tech. Axios spoke with Chamillionaire a few weeks ago, here are the highlights:On his lifelong interest in tech: When I signed a deal with Universal, I was always thinking digital. I was an entrepreneur who was known as a rapper... I had, like, five phones. People thought that I was a nerd as a rapper. On his introduction to the tech industry as he began advising some entertainment-related startups: It was a whole other world that I didn\\'t know existed... But as I started getting closer to a lot of these companies, I realized that a lot of companies were coming to the music industry and cannibalizing their business... I started going to tech conferences on my own, me and my partner. My first tech conference was something at Stanford, Quincy Jones\\' son told me about it. After that I went to [TechCrunch] Disrupt, then CES [and so on]. To us, growing up, you got two options: you gonna be a musician or a basketball player... The diversity thing is very important to me. I don\\'t think people understand the value of diversity. On ending up at Upfront Ventures in Los Angeles as an entrepreneur-in-residence:I was honestly planning on going to San Fran and getting into investing and building a company out there. Mark Suster asked me why. Well there\\'s no tech in L.A., when you get off the plane there\\'s paparazzi. I stayed there for almost a year. I wanted to come every day. Hearing [the Upfront partners] break down companies... When a founder would come in and pitch… When they leave we would hear all the VCs break it down... I don\\'t know what price tag to put on that. On his biggest surprise so far: The surprising thing about it all, is that everyone was so open to giving feedback, criticism, contacts—not like in the music industry. Mark [Suster] showed me 10 companies before I decided to put money in Maker Studios.On celebrities investing in tech startups: Investing in tech, I think, is smart for any entrepreneur or business savvy person—you gotta diversify. At first it was just information, I just wanted to be along for the journey and learn. Then it turned into some wins... Because I was an angel, I was spending what i could afford to lose. At the end of the day I think you’re betting on people and at the end of the day I think I\\'m pretty good at people...Eventually people will take a lot of these celebrities and influencers as just a tweet. We\\'re more than that—we can connect you to people, we got feedback.The biggest lesson he\\'s learned in tech so far: I would say is that I guess I knew this, but it\\'s just being in the thick of this, nothing is gonna come overnight. You can get in here and have a false sense of how things work. Being a celebrity is tough—I don\\'t even think of myself as one but I guess I am—everyone tells you it’s gonna be great. People tell me what I want to hear or what I need to hear. ']\n"
     ]
    }
   ],
   "source": [
    "url3 = df['Links'][2]\n",
    "print(url3)\n",
    "\n",
    "driver=webdriver.Firefox(executable_path=\"C:/geckodriver.exe\")\n",
    "driver.get(url3)\n",
    "page_source=driver.page_source\n",
    "soup=BeautifulSoup(page_source,'html.parser')\n",
    "title3 = soup.find('h1',{\"class\":\"font-regular leading-tight mb-0 text-h5 sm:text-h3\"}).text\n",
    "print(title3)\n",
    "\n",
    "content3 = []\n",
    "\n",
    "main = soup.find('div',{\"class\":\"col-1-13 sm:col-3-11\"})\n",
    "tag = main.findAll('div',{\"class\":\"b0w77w-0 jhsJV mt-12 mb-20 sm:mt-20 gtm-story-text p\"})\n",
    "for i in tag:\n",
    "    content3.append(i.text)\n",
    "    \n",
    "print(content3)"
   ]
  },
  {
   "cell_type": "markdown",
   "id": "cd9c2e0a",
   "metadata": {},
   "source": [
    "# Link 4"
   ]
  },
  {
   "cell_type": "code",
   "execution_count": 23,
   "id": "607912fc",
   "metadata": {},
   "outputs": [
    {
     "name": "stdout",
     "output_type": "stream",
     "text": [
      "https://medium.com/swlh/how-chamillionaire-became-a-better-entrepreneur-than-rapper-a8846b353976\n",
      "How Chamillionaire Became a Better Entrepreneur than Rapper\n",
      "['The middle of the 00’s saw many rappers rise to fame then fall off the map. Sounds changed, ringtones became uncool, and new talent emerged. The music industry changes rapidly and many careers die faster than they started. For some people, the end of a music career might be the start of better endeavors.', 'Around 2004 the rap scene saw an increase in Texas-based rappers gain popularity. No one peaked higher than Chamillionaire, hitting the top of the Billboard Hot 100 for two weeks during the summer of 2006 with his song Ridin’. Falling from the top turned out to be a blessing in disguise because he’s become quite the successful investor.', 'Chamillionaire, whose real name is Hakeem Seriki, has taken some risks that paid off. He found ways to give back through his success, and has put his earnings to good use. Seriki’s music success has really pigeonholed him as a one hit wonder, but he’s much more than that. Now more than ever, we should be recognizing his accomplishments and they ways he is empowering future entrepreneurs.', 'Ridin’ was a catchy song, but also focused on the topic of racial profiling. This is still a conversation we’re addressing, and Chamillionaire was discussing it fourteen years ago. After this song, he struggled to find chart success again. His follow up album failed to reach the same level of success as The Sound of Revenge (the album containing Ridin’). The album after that never got released, and by 2009 the name Chamillionaire was old news.', 'As a solo artist, Chamillionaire would only ever release two proper albums. He would release a few more EPs and mixtapes, but as his success in music dwindled he would fade from the public eye. By the time he hit 30, he was facing retirement from the rap scene. He could continue with independent endeavors, but landing another major success seemed unlikely.', 'To some degree, this is not uncommon. Many rappers start their own record labels and hope to become the next media mogul like P. Diddy. Some even venture outside of rap with such examples being Beats by Dre or 50 Cent’s partnership with Vitamin Water. Others try to find success in other genres, like Akon who is credited with giving Lady Gaga her first major deal. While all of these ventures are impressive, they’re also enhanced by star power and celebrity endorsements.', 'Chamillionaire’s interest lied in the tech scene, and he first dipped his toes into this space in 2009. Venture capitalist Mark Suster recognized the rapper for his ability to engage an audience while at a tech convention. He wasn’t just generating excitement, he was discussing how he rose to the top of the iTunes charts thanks to his focus on digital media.', 'Audience engagement wasn’t the only reason Chamillionaire appeared on the tech scene; he was there to learn to invest. He made some notable investments early in his career, but not without shopping around. Early in his career, he invested in Maker’s Studio, which would later be sold to Disney for a reported $675 million. While it’s unknown how much Chamillionaire made in this investment, he invested early and made a significant profit upon his exit.', 'By 2015, Chamillionaire joined Upfront Ventures in Santa Monica as the Entrepreneur-In-Residence. In this role he invests early in rising tech companies, hoping to accelerate the growth and identify the next big thing. It’s hard to deny his eye for future successes. His portfolio includes early investments in: home security system Ring (acquired by Amazon), self-driving car technology Cruise (acquired by GM), and ride-sharing app Lyft which went public in 2018.', 'For a one hit wonder, it’s safe to say Chamillionaire is doing better than a lot of other rappers.', 'In 2018, Chamillionaire introduced the world to his own app named Convoz. The goal is to encourage collaborative video conversations around current topics. If Twitter and TikTok had a baby, it might look something like Convoz. One user posts a message, another user can reply, and anyone else will see the back-and-fourth like it’s a realtime conversation.', 'Future plans include helping new tech ideas blossom, particularly for women and people of color. In 2019, Chamillionaire held a content to invest $25,000 in a start up because so few start ups had a female founder and so few people of color had their start ups venture-backed. He later ran a second competitor, this time investing $100,000 into the winner. After applying through Convoz, Pierre Laguerre’s company Fleeting was selected as the winner. Laguerre is a Haitian-born college dropout who recognized the shortage of qualified truck drivers in the US. As our shipping needs grew, he wants to bridge the gap with by connecting truck drivers to on demand jobs.', 'Is Fleeting the next big start up? Possibly. It’s hard to deny Chamillionaire’s eye for success. While he still dabbles in rapping occasionally, his biggest success can be found in the investing world. He seems to have built a path for longterm growth rather than being dependent upon the trends associated with the music scene. At this point, he could probably retire if he wanted. I don’t see that happening, however. He wants to serve communities who are underrepresented by investors and build his reputation as a founder. He’s truly found success in a new industry, and his achievements are worth celebrating.', 'Thank you for reading! I love connecting with other content creators, particularly in product design, branding, and finance. Beyond Medium, I can also be found on my website and LinkedIn.']\n"
     ]
    }
   ],
   "source": [
    "url4 = df['Links'][3]\n",
    "print(url4)\n",
    "\n",
    "driver=webdriver.Firefox(executable_path=\"C:/geckodriver.exe\")\n",
    "driver.get(url4)\n",
    "page_source=driver.page_source\n",
    "soup=BeautifulSoup(page_source,'html.parser')\n",
    "title4 = soup.find('h1',{\"class\":\"dr ds dt du b dv dw dx dy dz ea eb ec ed ee ef eg eh ei ej ek el em en eo ep eq\"}).text\n",
    "print(title4)\n",
    "\n",
    "content4 = []\n",
    "\n",
    "main = soup.find('div',{\"class\":\"\"})\n",
    "tag = main.findAll('p',{\"class\":\"gr gs dt gt b gu gv gw gx gy gz ha hb hc hd he hf hg hh hi hj hk hl hm hn ho dl eq\"})\n",
    "for i in tag:\n",
    "    content4.append(i.text)\n",
    "    \n",
    "print(content4)"
   ]
  },
  {
   "cell_type": "markdown",
   "id": "db347806",
   "metadata": {},
   "source": [
    "# Link 5"
   ]
  },
  {
   "cell_type": "code",
   "execution_count": 26,
   "id": "feba8de4",
   "metadata": {},
   "outputs": [
    {
     "name": "stdout",
     "output_type": "stream",
     "text": [
      "https://entrepreneurquarterly.com/chamillionaire-mark-suster-visit-stl-talk-tech-startups-investing-snapchat/\n",
      "Chamillionaire and Mark Suster Visit STL and Talk Tech Startups, Investing & Snapchat\t\n",
      "['There are a few ways you can announce a launch, but when\\xa0Grammy-winning rapper Chamillionaire shared that\\xa0he’d founded his own tech startup via Mark Suster’s Snapchat account from Wash U’s campus, it was certainly noteworthy.', 'According to Business Insider, the startup will provide\\xa0“downloadable software applications for streaming communications with entertainers, politicians, and celebrities,” something akin to “Twitter with more live streaming baked in.”', 'In town Thursday to visit\\xa0Washington University’s School of Engineering and Applied Sciences,\\xa0Suster, a successful entrepreneur himself and the managing partner of Upfront Ventures in Los Angeles, has had a working relationship with\\xa0Chamillionaire for awhile now. Chamillionaire serves\\xa0as an EIR at Upfront and the two co-invested in Maker Studio, which has since been sold to the Walt Disney Company.', 'After a morning\\xa0at Wash\\xa0U, Suster\\xa0and Chamillionaire gave a talk at\\xa0Venture Café St. Louis, where we were able to sit down with both to\\xa0talk about tech, funding and social media.', 'Chamillionaire:\\xa0It is actually something I’ve been thinking in my head for a long time. I was advising companies and just got frustrated with the process of talking to other people and watching them trying to accomplish a vision that ultimately wasn’t mine. Then it was\\xa0like,\\xa0“You know what? The only way this is going to be done right is if I do it.”', 'Right now we are in stealth mode, so we aren’t saying much about what we’re doing, but it is public information that I am building a company. A lot of\\xa0people haven’t seen me put out music in a long time, so they’re wondering,\\xa0“How come you’re not releasing music?” and it’s like, I have other aspirations and other problems I want to solve and I want to build a different type of company. So now I’m hiring developers and bringing in people to help build this tech company with me and it’s just a different experience, and I’m excited for the journey.', 'Mark Suster:\\xa0The first thing is, Cham had the concept awhile ago. He spoke earlier at [Wash U] about solving problems that you authentically know and experience first hand, so that was the genesis. He saw\\xa0a\\xa0particular problem and articulated to me how to build it, with whom, what features it should have. ', 'So I said to Cham, come out and do it. If you come here as an EIR, we’ll help you\\xa0recruit engineers, build a product team, have advisors; you can learn how\\xa0economic models work; we can help you network. He\\xa0took us up on that offer\\xa0and\\xa0week in, week out, he sat in the\\xa0company pitches, responding, giving us feedback, sometimes helping us with due diligence and sometimes\\xa0co-investing as an individual.', '[For his own startup]\\xa0he actually has a working product. It’s not public, it’s not launched, it’s not available, but it is working—I have a copy on my phone, he has a copy on his phone.\\xa0', 'The real issue is, when is it ready for prime time? Now the hard thing about being Chamillionaire is, anyone else can just\\xa0create a product, put it out there, test it with a\\xa0bunch of people and slowly fine-tune it. But when you’re well-known and you put out a product, he has a higher bar because if he just puts it out there then you’ll get all the negative reactions because people want to find everything wrong with startups and he’s refining it in private.', 'Chamillionaire: The music thing is what most of the people who know me know about and it’s what I’ve been asked about the most. And to be fair, I haven’t retired from rap, it’s just that in order to be successful in what I’m trying to do, it takes a certain level of commitment. You can’t play around with it, and it’s tough to toggle between putting out an album, going on tour and trying to please fans and then running back to a startup when ultimately, people don’t look at entertainers as really serious people. ', 'So many people [in entertainment] are coming to the\\xa0tech world and they’re like, “Oh there’s this cool tech thing going on and people are making money,” and they treat it as a thing they will just\\xa0moonlight with. I’m trying to prove that I’m really serious. That’s why I can look Mark or\\xa0any other investor in the face and say,\\xa0“Hey, I’m different than these guys, I’m all in.” So, I plan to put out music, but I just want to be able to do it on my terms, and that’s kind of what I’m doing now.', 'Chamillionaire: A lot of time when they’re coming to me, it’s because they are trying to find a way to get\\xa0people using something. They have great technology and they’re trying to figure out how to get people to understand that this thing is out there. So they often ask me about ways that they can promote it or market it. When they ask me to invest, normally it’s not just about a check, it’s about, “How can we get Chamillionaire involved and use his strategy and the things he’s done in the past to help things grow with us?” Startups for the most part are just trying to get people to know they exist.', 'Mark Suster: So let me push beyond humble Chamillionaire: I introduced him years ago to our startups and they all approached him for the same reason: “Hey, maybe I can get him to promote us.” And that’s the first thought for anyone who has reach with an audience–it’s promotion. And then Cham would come back and say,\\xa0“So I looked at how your App\\xa0integrates with other people’s apps or how hard user registration is,” and he kept coming back with advice on products. ', 'And I think that’s the thing that people don’t realize about him.\\xa0He has a background in visual design and formerly used to be an artist, so he really\\xa0thinks about usability. He’s just driven by products and product usage. He knows how to engage audiences and that’s part of what he does.', 'Now the big challenge will be, can he recruit, motivate and retain a really talented\\xa0team beneath him to develop a\\xa0product that’s world class,\\xa0and time will tell.', 'Mark Suster: If I could use one word to\\xa0describe the students I interacted with it’d be serious. It wasn’t a\\xa0frivolous day. People were engaged. ', 'A lot of people were already working on startups and thinking of building things. I know it’s a very quality engineering department and that’s something that matters to us. We really try to work with world-class engineers, and people were taking things pretty seriously.', '', 'Mark Suster:\\xa0So I have this great audience, they are really engaged, there’s no bullsh*t, we’re doing this live. I think people like to feel like they’re connected.\\xa0', 'With\\xa0blogging, it takes me 45 minutes to write a post. I think it takes most people a little longer, but I don’t worry about spelling or editing, I don’t have advertisers, so I don’t have to be perfect. I just write for 45 minutes and then hit publish. But it does take time.', 'On Snapchat yesterday, I was about to come down to St. Louis from Chicago and I had five minutes. So I got a napkin and a pen out and I drew a chart about the innovator’s dilemma and how\\xa0that drives a lot of my investment thesis, and it took five minutes. ', 'Now, everyone in the hotel lobby thought I was strange, but it was great and it got 7,000 views in less than 24 hours. I like the immediacy, I like the intimacy. And here’s the thing, my target customer for the most part is 22-34 and they’re all on Snapchat. And no VC knows how to use Snapchat. So I’m like, “Hey man, I got this swim lane to myself, why not?” ', 'Being early to a platform matters. I have 250,000 followers on Twitter, if I started today, I couldn’t get that, I don’t have any famous rap songs—yet. [Looks to Chamillilonaire and laughs.]\\xa0', 'Chamillionaire:\\xa0He’s the VC of the millennials.', 'Mark Suster: That’s a great question I’m asked all the time.\\xa0Number one is, if you want to stay in St. Louis and build a company here, you have a great advantage, which is great engineering talent that will be cheaper because cost of living is cheaper and a much higher retention rate because if you’re building an interesting company. It’s not\\xa0like there are 2,000 others at your footstep, like in the Bay Area. ', 'The problem is that investors have a harder time\\xa0committing early-stage. The reason is not that I mind coming to St. Louis, but do I want to come eight times a year? Again, nothing against St. Louis, but I go 8-10 times to New York, I go 14 times a year to the Bay Area. So if I add another\\xa0location it would just kill me unless it was a company at the next level.', 'I just invested in a company in Toronto, I won’t give a name yet, but we’ll be\\xa0announcing in 30 days. And what I said to them was,\\xa0“If you’ll do board meetings in New York and LA, I’ll come once a year to Toronto.” So it’s taking that issue off the table; a lot of people don’t know to do that.', 'Anyone a startup pitches in New York, San Francisco, LA, their first thought is,\\xa0“Do I want to go to St. Louis eight times a year?” And they’re also thinking, “Can I really provide you enough advice and have enough interactions to make a difference?” So if you say,\\xa0“I’m on the coasts all the time anyway, every time I come I’ll come see you and you’ll have plenty of access,” then now you’ve taken that issue off the table and I can focus on your business.', 'Chamillionaire:\\xa0I like to call Mark my Mr. Miyagi. When I was trying to get into the tech industry, I would look at\\xa0tech blogs and I would go to tech conferences and just try to find out what was happening with investing and startups, because remember, I’m coming from a whole different industry and trying to navigate the waters. I saw Mark as this guy that was giving away so much information and it was all very entrepreneurial, friendly stuff. That’s the real reason I felt he was really trustworthy, because he’s already shown that he wants people to have information. That’s how I got interested in investing.\\nMark Suster:\\xa0Cham is an authentic human being. He knows how to engage audiences, he is a very sincere and humble person. It’s been great. We involve him in investment decisions we’re trying to make, and he’s very curious and thoughtful, always wanting to know why, why does it work that way, but why? Which is my favorite response.', 'I think, coming from\\xa0the music industry, initially he was very much like “What’s Mark’s motive? What does he want out of this?” Because when he came to be an EIR, he kept asking and I told him, “I don’t want anything, I just want to see you succeed!”', 'Chamillionaire: I’m guy coming from an industry where you have believed that a wolf is always in sheep’s clothing. So I’m just waiting for the wolf the whole time.', 'Mark Suster:\\xa0I just want him\\xa0to succeed. He’s\\xa0been talking about doing a startup for the past couple of years; it’s time that he\\xa0do it. JDFI. Now if he succeeds, we do own equity, and one of our largest shareholders is Wash U, so they own part of his company. ', 'My job is to drive returns, and I take my job very seriously and I wouldn’t just give money to anybody. But truly, authentically, my goal is to see Chamillionaire succeed as a tech entrepreneur and be an inspiration for a thousand people behind him who may choose to be tech entrepreneurs rather than wannabe rappers or sports stars. Not that there is anything wrong with that, but there are other options out there.\\xa0']\n"
     ]
    }
   ],
   "source": [
    "url5 = df['Links'][4]\n",
    "print(url5)\n",
    "\n",
    "driver=webdriver.Firefox(executable_path=\"C:/geckodriver.exe\")\n",
    "driver.get(url5)\n",
    "page_source=driver.page_source\n",
    "soup=BeautifulSoup(page_source,'html.parser')\n",
    "title5 = soup.find('h1',{\"class\":\"blog-post-single-title\"}).text\n",
    "print(title5)\n",
    "\n",
    "content5 = []\n",
    "\n",
    "main = soup.find('div',{\"class\":\"blog-post-single-content\"})\n",
    "tag = main.findAll('p')\n",
    "for i in tag:\n",
    "    content5.append(i.text)\n",
    "    \n",
    "print(content5)"
   ]
  },
  {
   "cell_type": "markdown",
   "id": "20aa053a",
   "metadata": {},
   "source": [
    "# Link 6"
   ]
  },
  {
   "cell_type": "code",
   "execution_count": 28,
   "id": "66fcfdf9",
   "metadata": {},
   "outputs": [
    {
     "name": "stdout",
     "output_type": "stream",
     "text": [
      "https://techcrunch.com/2018/02/11/chamillionaire-is-a-presentation-genius-has-a-new-app/\n",
      "Chamillionaire is a presentation genius, has a new app\n",
      "[\"You probably know Chamillionaire from the song “Ridin,'”\\xa0but did you know the Grammy Award winner is also a successful startup investor? He has had several favorable outcomes, including Cruise, which sold to General Motors and Maker Studios, which was bought by Disney.\", 'Now he’s trying his hand at a startup of his own. If you’re a Chamillionaire superfan, you may already be familiar with Convoz. The team did a soft launch of the social media app last summer and now they’re ready to get the word out to the world.', 'Chamillionaire recently unveiled Convoz\\xa0with the above presentation to an investor and entrepreneur crowd at the Upfront Summit in Los Angeles. They were\\xa0wowed. \\xa0(Aspirational entrepreneurs should watch the clip if you’re wondering what nailing a pitch looks like. I’ve never seen a slideshow presentation that flowed so well. Bonus: Snoop makes a cameo.)', 'So what is Convoz?', 'Chamillionaire tells me that the video-centric platform aims to be “the place where you go to talk to people.” He wants Convoz to be an app where people converse face-to-face with stars like Shaq or find new friends with common interests.', 'He was inspired to create an alternative to Twitter, which he feels is overwhelmed with trolls. “I just wasn’t happy with the communication channels that are currently existing on social media,” said Cham.', 'Convoz\\xa0allows people to upload 15-second clips, often addressed to particular celebrities. They can then watch and choose which ones they want to respond to, sometimes broadcasting a message for all to see.', '', 'My initial reaction was that this seemed like a lot of effort for an in-demand individual, but Chamillionaire didn’t think that this would take much longer than scrolling through other social media.\\xa0 He isn’t expecting everyone to get a response, but believes “there’s an opportunity to prioritize the people who really deserve it.”', 'He hopes that users will be less likely to bully or harass others when they show their face and aren’t hiding behind an anonymous digital persona. And unlike Twitter, where everyone can see people’s mentions, Convoz\\xa0users are able to approve what’s being said about them publicly. It “gives the curator of the conversation some level of control.”', 'Building a social media platform isn’t easy. Other than the biggest networks like Facebook, Instagram, Snapchat and Twitter, most have flamed out.', 'But Chamillionaire isn’t deterred and has put a lot of thought into his approach. He was an entrepreneur-in-residence at Upfront Ventures where he regularly sat in on startup pitches and learned firsthand about what worked and what didn’t. He also did this so that potential partners would know that he’s committed and is not just another celebrity with a side project with his name attached. Convoz is a clear priority.', 'Above all, the Houston native said that he wants to send the message to others from a similar upbringing that they have more options for a successful life than being a rap star or a basketball player.\\xa0“I want to change the narrative.”']\n"
     ]
    }
   ],
   "source": [
    "url6 = df['Links'][5]\n",
    "print(url6)\n",
    "\n",
    "driver=webdriver.Firefox(executable_path=\"C:/geckodriver.exe\")\n",
    "driver.get(url6)\n",
    "page_source=driver.page_source\n",
    "soup=BeautifulSoup(page_source,'html.parser')\n",
    "title6 = soup.find('h1',{\"class\":\"article__title\"}).text\n",
    "print(title6)\n",
    "\n",
    "content6 = []\n",
    "\n",
    "main = soup.find('div',{\"class\":\"article-content\"})\n",
    "tag = main.findAll('p')\n",
    "for i in tag:\n",
    "    content6.append(i.text)\n",
    "    \n",
    "print(content6)"
   ]
  },
  {
   "cell_type": "markdown",
   "id": "475b0bc8",
   "metadata": {},
   "source": [
    "# Link 7"
   ]
  },
  {
   "cell_type": "code",
   "execution_count": 46,
   "id": "0928941b",
   "metadata": {},
   "outputs": [
    {
     "name": "stdout",
     "output_type": "stream",
     "text": [
      "https://www.pinterest.com/pin/what-tech-entrepreneurs-could-learn-from-chamillionaire--135319163780534586/\n",
      "What Tech Entrepreneurs Could Learn from Chamillionaire\n",
      "['Last night I co-hosted a dinner at Soho House in Los Angeles with some of the most senior people in the media industry with executives from Disney, Fox, Warner, media agencies and many promising tech…']\n"
     ]
    }
   ],
   "source": [
    "url7 = df['Links'][6]\n",
    "print(url7)\n",
    "\n",
    "driver=webdriver.Firefox(executable_path=\"C:/geckodriver.exe\")\n",
    "driver.get(url7)\n",
    "page_source=driver.page_source\n",
    "soup=BeautifulSoup(page_source,'html.parser')\n",
    "soup\n",
    "\n",
    "title7 = soup.find('a',{\"data-test-id\":\"UnauthBestPinCardTitle\"}).text\n",
    "print(title7)\n",
    "\n",
    "content7 = []\n",
    "\n",
    "main = soup.find('div',{\"class\":\"Hvp Jea sLG zI7 iyn Hsu\"})\n",
    "tag = main.findAll('h2')\n",
    "for i in tag:\n",
    "    content7.append(i.text)\n",
    "    \n",
    "print(content7)"
   ]
  },
  {
   "cell_type": "markdown",
   "id": "4110a2c5",
   "metadata": {},
   "source": [
    "# Link 8"
   ]
  },
  {
   "cell_type": "code",
   "execution_count": 51,
   "id": "b909e690",
   "metadata": {},
   "outputs": [
    {
     "name": "stdout",
     "output_type": "stream",
     "text": [
      "https://www.fastcompany.com/1697778/what-tech-entrepreneurs-could-learn-chamillionaire\n",
      "What Tech Entrepreneurs Could Learn From Chamillionaire\n",
      "['On why you should be an entrepreneur,', '“A lot of people do what they have to do. You want to get yourself to a position where you can do what you want to do.” -Chamillionaire', '', 'Last night I co-hosted a dinner at Soho House in Los Angeles with some of the most senior people in the media industry with executives from Disney, Fox, Warner, media agencies and many promising tech & media startup CEO’s. The topic was “the future of television & the digital living room.”', 'With all of the knowledge in the room the person who stole the night wasn’t even on a panel. I had called on Chamillionaire from the audience and asked him to provide some views on how artists view social media, why they use it and where it’s heading. He was riveting.', 'He stood up, grabbed the mic and gave a heartfelt overview of his experiences in experimenting with new technologies to build relationships with his audience, get feedback on his product quality, and to market his music all the way to the top of iTunes. To stay the crowed was “wowed” was an understatement. He received that only round of applause of the evening.', 'While many were floored by his insights, I wasn’t in the slightest. I’ve known Chamillionaire for a couple of years and I’ve never been at a tech event where he HASN’T upstaged everybody with his marketing insights.', 'So it was my great pleasure to host Chamillionaire on This Week in VC this week talking marketing, entrepreneurship, old media and, of course, music. We also talked about getting more young African Americans interested in entrepreneurship & technology. I hope many of you can take the time to watch the interview–I promise he doesn’t disappoint. You can click the image above or this link.', 'Here are some take away’s:', '1. On failure, trial-and-error & confidence: He did a lot of experimenting early in his career. As a teenager he experimented with writing & producing his own rap music and received a lot of feedback from elders that he had a talent with words. ', 'He began producing and selling “mixtapes” of his music. He studied the errors that other people had made and tried to improve on them. He made many of his own mistakes. But he was street smart and hustled. He started selling the mixtapes out of his trunk and even gave away some of his music. He wanted to create awareness for himself to generate marketing buzz and demand and then get the retail stores to pay wholesales prices for his cds. ', '“All the failures that people get so scared of is what I did. It made me confident about what would work. Confidence doesn’t come from being a ‘know-it-all,’ it’s because I’ve done this 10 times already.”', 'What things did he experiment in the early days when there was no Facebook, Twitter or even MySpace to promote oneself? He used online services such as SHOUTcast, which was online radio that allowed him to play his own songs, interrupt a song, do a commercial break and connect with fans. [It sort of reminds me of the new generation of innovation that is happening around user-controlled terrestrial & Internet station Jelli.]', ' 2. Authenticity – I asked Chamillionaire why he thinks he connects so much with people at tech conferences. How does he always wow a usually skeptical crowd? He said that he finds that people here are often speaking in big words or jargon–and that doesn’t connect with a lot of people. Cham studied early in his career how to hold the microphone, how to project his voice, how to watch the audience and pay attention to what interested them. ', 'He said that he noticed a lot of tech entrepreneurs don’t speak into the mic, don’t project their voices with confidence and aren’t necessarily paying attention to the mood or energy of the audience. I had written a blog post on exactly this–how to not suck at group presentations–and what he said reminded me a lot of this post.', '3. Marketing Innovation – Too many entrepreneurs are great product or technology people and lack the knowledge, skills or even desire to figure out how to market their products or themselves cleverly. Some other entrepreneurs who went down the MBA, consulting or banking routes without working at a startup are certainly book smart but haven’t always refined the street-smart skills needed to be an effective entrepreneur. ', 'Chamillionaire has tried so many marketing angles that when new technologies emerge he has a strong sense on how to use them to best marketing himself and his business. In his early career he realized the importance of email lists. He would do anything he could to capture people’s email addresses because he knew that they served as a valuable tool for future marketing purposes. ', 'His email list became his power. He would occasionally give away free music in exchange for email addresses. He created his own domain and gave out email address with the name@chamillionaire.com nomenclature. This was in the 90′s. It created viral buzz because other fans saw the email address and wanted to know how they got it. He was trailblazing. ', 'He would try initiatives like announcing that a new cd was going to drop at new year’s. He had a website and put up a timer / countdown for the new year’s release. People would then call stores and ask if they had his album. He would get a call from the stores asking about a new album coming out. He created demand. Sometimes he didn’t even have the product when he announced it but the hype would get him focused on what he had to produce. ', 'There are many analogies here for software development. I often tell teams that you need to create product deadlines that are semi-public (or maybe board commitments) that help you focus on shipping product. You may have to cut scope but nothing gets you more focused and the creative juices flowing than a deadline staring you in the face.', 'Businesses like TopSpin Media now professionalize campaigns for musicians to capture email addresses, build social-media audiences and sell products directly to consumers (and many other artist-to-fan direct initiatives). Cham learned this on his own because he had to–he didn’t have a label. So when Twitter, Facebook, YouTube, Ustream and other social websites became popular he has ideas for how to use them to authentically build a relationship with his audience.', '4. Customer Feedback – Chamillionaire regularly seeks public feedback from his fan base. In the early days that was from releasing mixtapes. More recently it has been by putting free early releases of songs for free on Twitter. He said that the labels have a standard marketing plan that they say has worked in the past for other musicians. Cham is very skeptical of the one-size-fits-all approach ', 'He said he learned what his fans wanted through the trial and error process. ', '“Not everything works for everybody. I tested so many things to see what works. Labels just had a marketing plan for everybody. but it didn’t work for everybody–it was just a plan  …”', 'What is good? There are a million opinions about what is good. I just wanted to know what people wanted to hear from ME.”\\n', '5. Raising Capital–The VC equivalent for musicians is getting signed by a major label. I have always told entrepreneurs that to get VC interest you need scarcity value (in addition to a great product). People want what they can’t have and VCs are no different. The most potent entrepreneur is the one that doesn’t NEED your money.', 'So cheeky Chamillionaire went to Universal wearing the tags from every other label he had visited. While this blunt approach wouldn’t work with VCs a more subtle version actually does. What Cham said to Universal in his initial meeting was that he wasn’t wearing all of the other label tags just to rub them in Universal’s face, he wanted to make a statement:', '“I just want you to know that I’m perfectly comfortable leaving here without a deal.”', '6. On JFDI (play on Just Do It) – Chamillionaire talked a lot about social media. We talked initially about ustream. The labels said he could do live streaming himself but they didn’t want him to stream any music or videos since ustream wasn’t paying them. Reminds me of how the networks today announced they were blocking their video content from being shown on Google TV. Universal tried to push him to another site that had cut a deal with the label. He was frustrated because he wanted to be where the fans were:', '“I was just trying to give the fans what they wanted and what they wanted was ustream.” ', 'He did it anyways and didn’t ask for permission. By putting up his music free on ustream he ended up driving his song to the number one spot on iTunes (which obviously generates money). ', '“It would be successful and after it was successful nobody would say anything.”', 'This was obviously music to my ears since my personal philosophy that I’ve written about is “it’s better to beg for forgiving than to ask for permission.”', '7. On What Next?', 'First, Chamillionaire is up front about the fact that he is trying to get out of the label contract he has with Universal and he’s holding back from producing music until he does. He said that most artists “chase checks” and he actually wants to do what’s right for his audience. He says that labels impede on your creativity, don’t allow experimentation and flexibility. He’s holding back for now, but he’s clearly studying what’s going on in technology', '“I look at Zynga and all the games they have and how addicting it is and I think “there’s got to be a way to connect. A way to do music this way.”', 'We also spoke a lot about “free” as a metaphor to build future value. He spoke about his Grammy-winning song Ridin’ (as in Ridin’ Dirty) and how the labels wanted to extend life of song by getting somebody famous to remix the song. Cham had other ideas. He got people to do bootlegged mixtapes in new york, france and new zealand. He wanted to be bootlegged even more. The song spread globally. ', 'He was fine with the bootleg–it helped build and audience and helped him globalize. It allowed him to do big shows down the line in places like Norway & Dubai. Anyone who knows the industry knows that artists make way more money by performing and selling merchandise than off of their albums (where the studio prevails). So it was almost like Chamillionaire already knew the Zynga model–give away the game and sell other things. He actually did it before Zynga was huge.', 'I told you this guy was smart.', '“I can do so much more than rap with the rest of my life. there’s so much more in this world. I know that young people who look up to me are watching a show like this and they’re paying attention. I want to start feeding this stuff out so that the younger generation will start getting it and paying attention to this stuff ” [technology, marketing, business].', '“I’m learning so much, I’m so advanced–ahead of so many other people, I don’t know a better way to serve my music [than by mastering technology]. I study it every day.”', '7. On African American Youth?', 'Chamillionaire would like to see more young, urban, african americans aspire to things other than basketball or rap. ', '“They’re trained to think that it’s “the only way out.”', 'It bothers him. He wants people to know that it’s cool to be knowledgeable about business and technology. ', '“Technology is power. It’s so hard to do it in an over-saturated rap market. I just want to do the right thing and tell young people straight what they need to do.” ', '“They say the ‘game is to be sold and not to be told.’ Well I just ‘tell it.’ If you’re a young & up and coming rapper and you don’t know what tunecore is–you should know it.” ', '“The future of the world is in the palm of the tech community.” ', 'Reprinted from Both Sides of the Table', 'Mark Suster is a 2x entrepreneur who has gone to the Dark Side of VC. He joined GRP Partners in 2007 as a General Partner after selling his company to Salesforce.com. He focuses on early-stage technology companies. Follow him at twitter.com/msuster.', 'I grew up in Northern California and was fortunate enough to have computers around my house and school from a young age.  In fact, in high school in the mid-eighties I sold computer software and taught advanced computers', ' More', 'Innovation in your inbox  Sign up for the daily newsletter ']\n"
     ]
    }
   ],
   "source": [
    "url8 = df['Links'][7]\n",
    "print(url8)\n",
    "\n",
    "driver=webdriver.Firefox(executable_path=\"C:/geckodriver.exe\")\n",
    "driver.get(url8)\n",
    "page_source=driver.page_source\n",
    "soup=BeautifulSoup(page_source,'html.parser')\n",
    "title8 = soup.find('h1',{\"class\":\"post__title\"}).text\n",
    "print(title8)\n",
    "\n",
    "content8 = []\n",
    "\n",
    "main = soup.find('div',{\"class\":\"post__content\"})\n",
    "tag = main.findAll('p')\n",
    "for i in tag:\n",
    "    content8.append(i.text)\n",
    "    \n",
    "print(content8)"
   ]
  },
  {
   "cell_type": "markdown",
   "id": "20d21a89",
   "metadata": {},
   "source": [
    "# Link 9"
   ]
  },
  {
   "cell_type": "code",
   "execution_count": 55,
   "id": "fcc8f6cc",
   "metadata": {},
   "outputs": [
    {
     "name": "stdout",
     "output_type": "stream",
     "text": [
      "https://www.click2houston.com/news/2017/12/11/houston-rapper-chamillionaire-teaches-children-importance-of-entrepreneurship-in-tech/\n",
      "Houston rapper Chamillionaire teaches children importance of entrepreneurship in tech\n",
      "['HOUSTON – Houston rapper and Grammy Award-winning hip-hop artist Chamillionaire paid a visit to Houston Independent School District students Monday to teach them about career opportunities in the tech world.', 'Chamillionaire, born\\xa0Hakeem Sariki, exploded onto the Houston rap scene in the early 2000s, but has since spent much of his time as an entrepreneur and tech investor in Los Angeles.', '\"I was a musician.\\xa0I still am, but I realize the value in appreciating the\\xa0tech side of things and that has become my main business,” he said.', 'Chamillionaire visited Worthing High School with fellow panelists Tuma Basa, head of hip-hop for streaming service,\\xa0Spotify, Shawn Gee, artist manager and president of Live Nation Urban, and Brittany Lewis, video programming manager at Spotify to discuss entrepreneurship with HISD seniors.', 'He explained that he frequently sees young people spend time on social media applications like Snapchat and Instagram, and encourages them to think beyond “social media fame” and focus on career opportunities to build similar tools.', '\"You can learn how to code today. You can build this same thing that you\\'re looking at every day, that you\\'re tweeting on, that you\\'re snappping on, and I feel like that conversation needs to be had,\" Chamillionaire said.', 'The rapper has already raised more than $1\\xa0million for his own video startup company, according to Business Insider. (Read more here)', '\"Hopefully we can make (tech) cool so a lot of these kids can understand that they can be the next people to build the next social media products,\" Chamillionaire said.']\n"
     ]
    }
   ],
   "source": [
    "url9 = df['Links'][8]\n",
    "print(url9)\n",
    "\n",
    "driver=webdriver.Firefox(executable_path=\"C:/geckodriver.exe\")\n",
    "driver.get(url9)\n",
    "page_source=driver.page_source\n",
    "soup=BeautifulSoup(page_source,'html.parser')\n",
    "title9 = soup.find('h1',{\"class\":\"sc-bdVaJa indexes__HeadingBase-klv0wy-4 gqqWqD headline\"}).text\n",
    "print(title9)\n",
    "\n",
    "content9 = []\n",
    "\n",
    "main = soup.find('section',{\"class\":\"sc-bdVaJa indexes__StackBase-klv0wy-5 xtiTk articleBody\"})\n",
    "tag = main.findAll('p',{\"class\":\"sc-bdVaJa indexes__TextBase-klv0wy-2 dQOwWF\"})\n",
    "for i in tag:\n",
    "    content9.append(i.text)\n",
    "    \n",
    "print(content9)"
   ]
  },
  {
   "cell_type": "markdown",
   "id": "5fe271bc",
   "metadata": {},
   "source": [
    "# Link 10"
   ]
  },
  {
   "cell_type": "code",
   "execution_count": 57,
   "id": "44b8de76",
   "metadata": {},
   "outputs": [
    {
     "name": "stdout",
     "output_type": "stream",
     "text": [
      "https://www.billboard.com/articles/news/6480589/chamillionaire-venture-capitalist\n",
      "Chamillionaire Is Now Working As A Venture Capitalist\n",
      "['In the mid \\'00s, Chamillionaire exploded into the national consciousness with his No. 1 single \"Ridin,\\'\" a muscular celebration of eluding the police that was simultaneously gleeful and menacing. The Houston MC had been rapping for years -- he sold mixtapes out of his trunk and released a collaborative album with Paul Wall in 2002. But he went from regional force to national star seemingly overnight, \"0 to 100 real quick,\" as Drake might say.', 'Now the rapper appears to have executed a similar move in the world of tech entrepreneurship. The venture capitalist Mark Suster of Upfront Ventures announced earlier this week that Chamillionaire will be \"moving to LA for a while and working in our offices and developing his ideas\" as an \"entrepreneur in residence.\" Suster wrote online that he first met the rapper \"at a tech conference in LA. I saw him on stage at the event talking about how he used social media to engage audiences. This was 2009 and his understanding of audience engagement was far beyond anything I was hearing from\\xa0most people at that time.\"']\n"
     ]
    }
   ],
   "source": [
    "url10 = df['Links'][9]\n",
    "print(url10)\n",
    "\n",
    "driver=webdriver.Firefox(executable_path=\"C:/geckodriver.exe\")\n",
    "driver.get(url10)\n",
    "page_source=driver.page_source\n",
    "soup=BeautifulSoup(page_source,'html.parser')\n",
    "title10 = soup.find('h1',{\"class\":\"article-hero__title heading--1 font--regular\"}).text\n",
    "print(title10)\n",
    "\n",
    "content10 = []\n",
    "\n",
    "main = soup.find('div',{\"class\":\"flex-cols-md--8 flex--full article__content\"})\n",
    "tag = main.findAll('p')\n",
    "for i in tag:\n",
    "    content10.append(i.text)\n",
    "    \n",
    "print(content10)"
   ]
  },
  {
   "cell_type": "code",
   "execution_count": null,
   "id": "a92a8288",
   "metadata": {},
   "outputs": [],
   "source": []
  },
  {
   "cell_type": "code",
   "execution_count": 60,
   "id": "b9d4ef1e",
   "metadata": {},
   "outputs": [],
   "source": [
    "titles = [title1, title2, title3, title4, title5, title6, title7, title8, title9, title10]"
   ]
  },
  {
   "cell_type": "code",
   "execution_count": 61,
   "id": "89921d87",
   "metadata": {},
   "outputs": [],
   "source": [
    "content = [content1, content2, content3, content4, content5, content6, content7, content8, content9, content10]"
   ]
  },
  {
   "cell_type": "code",
   "execution_count": 62,
   "id": "6b709ccf",
   "metadata": {},
   "outputs": [],
   "source": [
    "df['Title'] = titles\n",
    "df['Content'] = content"
   ]
  },
  {
   "cell_type": "code",
   "execution_count": 63,
   "id": "2370e1b2",
   "metadata": {},
   "outputs": [
    {
     "data": {
      "text/html": [
       "<div>\n",
       "<style scoped>\n",
       "    .dataframe tbody tr th:only-of-type {\n",
       "        vertical-align: middle;\n",
       "    }\n",
       "\n",
       "    .dataframe tbody tr th {\n",
       "        vertical-align: top;\n",
       "    }\n",
       "\n",
       "    .dataframe thead th {\n",
       "        text-align: right;\n",
       "    }\n",
       "</style>\n",
       "<table border=\"1\" class=\"dataframe\">\n",
       "  <thead>\n",
       "    <tr style=\"text-align: right;\">\n",
       "      <th></th>\n",
       "      <th>Links</th>\n",
       "      <th>Title</th>\n",
       "      <th>Content</th>\n",
       "    </tr>\n",
       "  </thead>\n",
       "  <tbody>\n",
       "    <tr>\n",
       "      <th>0</th>\n",
       "      <td>https://www.chegg.com/homework-help/entreprene...</td>\n",
       "      <td>ENTREPRENEURSHIP &amp; INTERPRTV SIMU A/C GRP A</td>\n",
       "      <td>[ Yes, it is rather surprising that a rap arti...</td>\n",
       "    </tr>\n",
       "    <tr>\n",
       "      <th>1</th>\n",
       "      <td>https://apnews.com/article/entertainment-music...</td>\n",
       "      <td>Chamillionaire wants to add diversity to tech ...</td>\n",
       "      <td>[When Grammy award-winning rapper Hakeem “Cham...</td>\n",
       "    </tr>\n",
       "    <tr>\n",
       "      <th>2</th>\n",
       "      <td>https://www.axios.com/chamillionaire-on-invest...</td>\n",
       "      <td>Q&amp;A: Chamillionaire on investing in startups a...</td>\n",
       "      <td>[In the last several years, a growing number o...</td>\n",
       "    </tr>\n",
       "    <tr>\n",
       "      <th>3</th>\n",
       "      <td>https://medium.com/swlh/how-chamillionaire-bec...</td>\n",
       "      <td>How Chamillionaire Became a Better Entrepreneu...</td>\n",
       "      <td>[The middle of the 00’s saw many rappers rise ...</td>\n",
       "    </tr>\n",
       "    <tr>\n",
       "      <th>4</th>\n",
       "      <td>https://entrepreneurquarterly.com/chamillionai...</td>\n",
       "      <td>Chamillionaire and Mark Suster Visit STL and T...</td>\n",
       "      <td>[There are a few ways you can announce a launc...</td>\n",
       "    </tr>\n",
       "    <tr>\n",
       "      <th>5</th>\n",
       "      <td>https://techcrunch.com/2018/02/11/chamillionai...</td>\n",
       "      <td>Chamillionaire is a presentation genius, has a...</td>\n",
       "      <td>[You probably know Chamillionaire from the son...</td>\n",
       "    </tr>\n",
       "    <tr>\n",
       "      <th>6</th>\n",
       "      <td>https://www.pinterest.com/pin/what-tech-entrep...</td>\n",
       "      <td>What Tech Entrepreneurs Could Learn from Chami...</td>\n",
       "      <td>[Last night I co-hosted a dinner at Soho House...</td>\n",
       "    </tr>\n",
       "    <tr>\n",
       "      <th>7</th>\n",
       "      <td>https://www.fastcompany.com/1697778/what-tech-...</td>\n",
       "      <td>What Tech Entrepreneurs Could Learn From Chami...</td>\n",
       "      <td>[On why you should be an entrepreneur,, “A lot...</td>\n",
       "    </tr>\n",
       "    <tr>\n",
       "      <th>8</th>\n",
       "      <td>https://www.click2houston.com/news/2017/12/11/...</td>\n",
       "      <td>Houston rapper Chamillionaire teaches children...</td>\n",
       "      <td>[HOUSTON – Houston rapper and Grammy Award-win...</td>\n",
       "    </tr>\n",
       "    <tr>\n",
       "      <th>9</th>\n",
       "      <td>https://www.billboard.com/articles/news/648058...</td>\n",
       "      <td>Chamillionaire Is Now Working As A Venture Cap...</td>\n",
       "      <td>[In the mid '00s, Chamillionaire exploded into...</td>\n",
       "    </tr>\n",
       "  </tbody>\n",
       "</table>\n",
       "</div>"
      ],
      "text/plain": [
       "                                               Links  \\\n",
       "0  https://www.chegg.com/homework-help/entreprene...   \n",
       "1  https://apnews.com/article/entertainment-music...   \n",
       "2  https://www.axios.com/chamillionaire-on-invest...   \n",
       "3  https://medium.com/swlh/how-chamillionaire-bec...   \n",
       "4  https://entrepreneurquarterly.com/chamillionai...   \n",
       "5  https://techcrunch.com/2018/02/11/chamillionai...   \n",
       "6  https://www.pinterest.com/pin/what-tech-entrep...   \n",
       "7  https://www.fastcompany.com/1697778/what-tech-...   \n",
       "8  https://www.click2houston.com/news/2017/12/11/...   \n",
       "9  https://www.billboard.com/articles/news/648058...   \n",
       "\n",
       "                                               Title  \\\n",
       "0       ENTREPRENEURSHIP & INTERPRTV SIMU A/C GRP A    \n",
       "1  Chamillionaire wants to add diversity to tech ...   \n",
       "2  Q&A: Chamillionaire on investing in startups a...   \n",
       "3  How Chamillionaire Became a Better Entrepreneu...   \n",
       "4  Chamillionaire and Mark Suster Visit STL and T...   \n",
       "5  Chamillionaire is a presentation genius, has a...   \n",
       "6  What Tech Entrepreneurs Could Learn from Chami...   \n",
       "7  What Tech Entrepreneurs Could Learn From Chami...   \n",
       "8  Houston rapper Chamillionaire teaches children...   \n",
       "9  Chamillionaire Is Now Working As A Venture Cap...   \n",
       "\n",
       "                                             Content  \n",
       "0  [ Yes, it is rather surprising that a rap arti...  \n",
       "1  [When Grammy award-winning rapper Hakeem “Cham...  \n",
       "2  [In the last several years, a growing number o...  \n",
       "3  [The middle of the 00’s saw many rappers rise ...  \n",
       "4  [There are a few ways you can announce a launc...  \n",
       "5  [You probably know Chamillionaire from the son...  \n",
       "6  [Last night I co-hosted a dinner at Soho House...  \n",
       "7  [On why you should be an entrepreneur,, “A lot...  \n",
       "8  [HOUSTON – Houston rapper and Grammy Award-win...  \n",
       "9  [In the mid '00s, Chamillionaire exploded into...  "
      ]
     },
     "execution_count": 63,
     "metadata": {},
     "output_type": "execute_result"
    }
   ],
   "source": [
    "df"
   ]
  },
  {
   "cell_type": "code",
   "execution_count": 64,
   "id": "9a9e3a3e",
   "metadata": {},
   "outputs": [],
   "source": [
    "df.to_csv(\"Chamillionaire.csv\")"
   ]
  },
  {
   "cell_type": "code",
   "execution_count": null,
   "id": "7a433964",
   "metadata": {},
   "outputs": [],
   "source": []
  }
 ],
 "metadata": {
  "kernelspec": {
   "display_name": "Python 3",
   "language": "python",
   "name": "python3"
  },
  "language_info": {
   "codemirror_mode": {
    "name": "ipython",
    "version": 3
   },
   "file_extension": ".py",
   "mimetype": "text/x-python",
   "name": "python",
   "nbconvert_exporter": "python",
   "pygments_lexer": "ipython3",
   "version": "3.8.8"
  }
 },
 "nbformat": 4,
 "nbformat_minor": 5
}
