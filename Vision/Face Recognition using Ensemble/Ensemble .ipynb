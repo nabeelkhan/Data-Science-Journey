{
 "cells": [
  {
   "cell_type": "markdown",
   "id": "39510f06",
   "metadata": {},
   "source": [
    "A face recognition task can be handled by several models and similarity metrics. Herein, deepface offers a special boosting and combination solution to improve the accuracy of a face recognition task. This provides a huge improvement on accuracy metrics. On the other hand, this runs much slower than single models."
   ]
  },
  {
   "cell_type": "markdown",
   "id": "45749915",
   "metadata": {},
   "source": [
    "- VGG-Face ===== University of OXFORD\n",
    "- FaceNet ===== Google\n",
    "- DeepFace ===== Faceboook\n",
    "- OpenFace === Carnegie Mellon Univeristy"
   ]
  },
  {
   "cell_type": "code",
   "execution_count": 3,
   "id": "1c59b5ca",
   "metadata": {},
   "outputs": [
    {
     "name": "stdout",
     "output_type": "stream",
     "text": [
      "Collecting lightgbm\n",
      "  Downloading lightgbm-3.2.1-py3-none-win_amd64.whl (1.0 MB)\n",
      "Requirement already satisfied: numpy in c:\\users\\dell\\anaconda3\\lib\\site-packages (from lightgbm) (1.19.5)\n",
      "Requirement already satisfied: scipy in c:\\users\\dell\\anaconda3\\lib\\site-packages (from lightgbm) (1.6.2)\n",
      "Requirement already satisfied: scikit-learn!=0.22.0 in c:\\users\\dell\\anaconda3\\lib\\site-packages (from lightgbm) (0.24.1)\n",
      "Requirement already satisfied: wheel in c:\\users\\dell\\anaconda3\\lib\\site-packages (from lightgbm) (0.36.2)\n",
      "Requirement already satisfied: threadpoolctl>=2.0.0 in c:\\users\\dell\\anaconda3\\lib\\site-packages (from scikit-learn!=0.22.0->lightgbm) (2.1.0)\n",
      "Requirement already satisfied: joblib>=0.11 in c:\\users\\dell\\anaconda3\\lib\\site-packages (from scikit-learn!=0.22.0->lightgbm) (1.0.1)\n",
      "Installing collected packages: lightgbm\n",
      "Successfully installed lightgbm-3.2.1\n"
     ]
    }
   ],
   "source": [
    "!pip install lightgbm"
   ]
  },
  {
   "cell_type": "code",
   "execution_count": 4,
   "id": "899f99e9",
   "metadata": {},
   "outputs": [],
   "source": [
    "from deepface import DeepFace"
   ]
  },
  {
   "cell_type": "code",
   "execution_count": null,
   "id": "838548fd",
   "metadata": {},
   "outputs": [],
   "source": []
  },
  {
   "cell_type": "code",
   "execution_count": 7,
   "id": "10219d70",
   "metadata": {},
   "outputs": [
    {
     "name": "stderr",
     "output_type": "stream",
     "text": [
      "Loading DeepFace: 100%|█████████████████████████████████████████████████████████████████| 4/4 [00:00<00:00, 524.88it/s]\n"
     ]
    }
   ],
   "source": [
    "obj = DeepFace.verify(\"img7.jpg\", \"img8.jpg\", model_name = \"Ensemble\")"
   ]
  },
  {
   "cell_type": "code",
   "execution_count": 8,
   "id": "b7211200",
   "metadata": {},
   "outputs": [
    {
     "data": {
      "text/plain": [
       "{'verified': False,\n",
       " 'score': 0.9985484972350714,\n",
       " 'distance': [0.5457885647467898,\n",
       "  0.7587802078877777,\n",
       "  1.0447856859153362,\n",
       "  0.927153723196218,\n",
       "  16.490875411457875,\n",
       "  1.3617295790253057,\n",
       "  0.3377229038094609,\n",
       "  0.8218551013523745,\n",
       "  0.28418387405039214,\n",
       "  69.92932655043606,\n",
       "  0.7539016833120779],\n",
       " 'model': ['VGG-Face', 'Facenet', 'OpenFace', 'DeepFace'],\n",
       " 'similarity_metric': ['cosine', 'euclidean', 'euclidean_l2']}"
      ]
     },
     "execution_count": 8,
     "metadata": {},
     "output_type": "execute_result"
    }
   ],
   "source": [
    "obj"
   ]
  },
  {
   "cell_type": "code",
   "execution_count": 16,
   "id": "172e65d4",
   "metadata": {},
   "outputs": [
    {
     "name": "stderr",
     "output_type": "stream",
     "text": [
      "Loading DeepFace: 100%|█████████████████████████████████████████████████████████████████| 4/4 [00:00<00:00, 550.65it/s]\n",
      "Finding representations:   0%|                                                                   | 0/8 [00:00<?, ?it/s]"
     ]
    },
    {
     "name": "stdout",
     "output_type": "stream",
     "text": [
      "Ensemble learning enabled\n"
     ]
    },
    {
     "name": "stderr",
     "output_type": "stream",
     "text": [
      "Finding representations: 100%|███████████████████████████████████████████████████████████| 8/8 [00:10<00:00,  1.34s/it]\n",
      "Analyzing:   0%|                                                                                 | 0/1 [00:00<?, ?it/s]"
     ]
    },
    {
     "name": "stdout",
     "output_type": "stream",
     "text": [
      "Representations stored in  deepface/ / representations_ensemble.pkl  file. Please delete this file when you add new identities in your database.\n"
     ]
    },
    {
     "name": "stderr",
     "output_type": "stream",
     "text": [
      "Analyzing: 100%|█████████████████████████████████████████████████████████████████████████| 1/1 [00:01<00:00,  1.34s/it]"
     ]
    },
    {
     "name": "stdout",
     "output_type": "stream",
     "text": [
      "find function lasts  12.061655759811401  seconds\n"
     ]
    },
    {
     "name": "stderr",
     "output_type": "stream",
     "text": [
      "\n"
     ]
    }
   ],
   "source": [
    "df = DeepFace.find(img_path = \"img5.jpg\", db_path = \"deepface/\", model_name = \"Ensemble\")"
   ]
  },
  {
   "cell_type": "code",
   "execution_count": 17,
   "id": "6857b7ea",
   "metadata": {},
   "outputs": [
    {
     "data": {
      "text/html": [
       "<div>\n",
       "<style scoped>\n",
       "    .dataframe tbody tr th:only-of-type {\n",
       "        vertical-align: middle;\n",
       "    }\n",
       "\n",
       "    .dataframe tbody tr th {\n",
       "        vertical-align: top;\n",
       "    }\n",
       "\n",
       "    .dataframe thead th {\n",
       "        text-align: right;\n",
       "    }\n",
       "</style>\n",
       "<table border=\"1\" class=\"dataframe\">\n",
       "  <thead>\n",
       "    <tr style=\"text-align: right;\">\n",
       "      <th></th>\n",
       "      <th>identity</th>\n",
       "      <th>verified</th>\n",
       "      <th>score</th>\n",
       "    </tr>\n",
       "  </thead>\n",
       "  <tbody>\n",
       "    <tr>\n",
       "      <th>0</th>\n",
       "      <td>deepface//img8.jpg</td>\n",
       "      <td>True</td>\n",
       "      <td>0.998176</td>\n",
       "    </tr>\n",
       "    <tr>\n",
       "      <th>1</th>\n",
       "      <td>deepface//img5.jpg</td>\n",
       "      <td>True</td>\n",
       "      <td>0.996973</td>\n",
       "    </tr>\n",
       "    <tr>\n",
       "      <th>2</th>\n",
       "      <td>deepface//img2.jpg</td>\n",
       "      <td>True</td>\n",
       "      <td>0.922439</td>\n",
       "    </tr>\n",
       "  </tbody>\n",
       "</table>\n",
       "</div>"
      ],
      "text/plain": [
       "             identity  verified     score\n",
       "0  deepface//img8.jpg      True  0.998176\n",
       "1  deepface//img5.jpg      True  0.996973\n",
       "2  deepface//img2.jpg      True  0.922439"
      ]
     },
     "execution_count": 17,
     "metadata": {},
     "output_type": "execute_result"
    }
   ],
   "source": [
    "df"
   ]
  },
  {
   "cell_type": "code",
   "execution_count": null,
   "id": "0a921b4d",
   "metadata": {},
   "outputs": [],
   "source": []
  }
 ],
 "metadata": {
  "kernelspec": {
   "display_name": "Python 3",
   "language": "python",
   "name": "python3"
  },
  "language_info": {
   "codemirror_mode": {
    "name": "ipython",
    "version": 3
   },
   "file_extension": ".py",
   "mimetype": "text/x-python",
   "name": "python",
   "nbconvert_exporter": "python",
   "pygments_lexer": "ipython3",
   "version": "3.8.8"
  }
 },
 "nbformat": 4,
 "nbformat_minor": 5
}
