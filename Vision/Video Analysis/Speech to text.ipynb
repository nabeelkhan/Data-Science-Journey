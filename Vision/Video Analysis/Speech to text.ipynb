{
 "cells": [
  {
   "cell_type": "code",
   "execution_count": 1,
   "id": "be34c78b",
   "metadata": {},
   "outputs": [
    {
     "name": "stdout",
     "output_type": "stream",
     "text": [
      "Requirement already satisfied: SpeechRecognition in c:\\users\\dell\\anaconda3\\lib\\site-packages (3.8.1)\n",
      "Requirement already satisfied: pydub in c:\\users\\dell\\anaconda3\\lib\\site-packages (0.25.1)\n",
      "Requirement already satisfied: ffmpeg in c:\\users\\dell\\anaconda3\\lib\\site-packages (1.4)\n",
      "Requirement already satisfied: moviepy in c:\\users\\dell\\anaconda3\\lib\\site-packages (1.0.3)\n",
      "Requirement already satisfied: imageio<3.0,>=2.5 in c:\\users\\dell\\anaconda3\\lib\\site-packages (from moviepy) (2.9.0)\n",
      "Requirement already satisfied: imageio-ffmpeg>=0.2.0 in c:\\users\\dell\\anaconda3\\lib\\site-packages (from moviepy) (0.4.4)\n",
      "Requirement already satisfied: numpy in c:\\users\\dell\\anaconda3\\lib\\site-packages (from moviepy) (1.19.5)\n",
      "Requirement already satisfied: tqdm<5.0,>=4.11.2 in c:\\users\\dell\\anaconda3\\lib\\site-packages (from moviepy) (4.59.0)\n",
      "Requirement already satisfied: decorator<5.0,>=4.0.2 in c:\\users\\dell\\anaconda3\\lib\\site-packages (from moviepy) (4.4.2)\n",
      "Requirement already satisfied: proglog<=1.0.0 in c:\\users\\dell\\anaconda3\\lib\\site-packages (from moviepy) (0.1.9)\n",
      "Requirement already satisfied: requests<3.0,>=2.8.1 in c:\\users\\dell\\anaconda3\\lib\\site-packages (from moviepy) (2.25.1)\n",
      "Requirement already satisfied: pillow in c:\\users\\dell\\anaconda3\\lib\\site-packages (from imageio<3.0,>=2.5->moviepy) (8.2.0)\n",
      "Requirement already satisfied: idna<3,>=2.5 in c:\\users\\dell\\anaconda3\\lib\\site-packages (from requests<3.0,>=2.8.1->moviepy) (2.10)\n",
      "Requirement already satisfied: certifi>=2017.4.17 in c:\\users\\dell\\anaconda3\\lib\\site-packages (from requests<3.0,>=2.8.1->moviepy) (2020.12.5)\n",
      "Requirement already satisfied: urllib3<1.27,>=1.21.1 in c:\\users\\dell\\anaconda3\\lib\\site-packages (from requests<3.0,>=2.8.1->moviepy) (1.26.4)\n",
      "Requirement already satisfied: chardet<5,>=3.0.2 in c:\\users\\dell\\anaconda3\\lib\\site-packages (from requests<3.0,>=2.8.1->moviepy) (4.0.0)\n"
     ]
    },
    {
     "name": "stderr",
     "output_type": "stream",
     "text": [
      "ERROR: Could not find a version that satisfies the requirement contextlib\n",
      "ERROR: No matching distribution found for contextlib\n"
     ]
    }
   ],
   "source": [
    "!pip install SpeechRecognition pydub\n",
    "!pip install ffmpeg\n",
    "!pip install moviepy"
   ]
  },
  {
   "cell_type": "code",
   "execution_count": 2,
   "id": "46953701",
   "metadata": {},
   "outputs": [],
   "source": [
    "import wave, math, contextlib\n",
    "import speech_recognition as sr\n",
    "from moviepy.editor import AudioFileClip"
   ]
  },
  {
   "cell_type": "code",
   "execution_count": 3,
   "id": "f12ee3e3",
   "metadata": {},
   "outputs": [],
   "source": [
    "transcribed_audio_file_name = \"transcribed_speech.wav\"\n",
    "zoom_video_file_name = \"zoom_Faiza.mp4\""
   ]
  },
  {
   "cell_type": "code",
   "execution_count": 4,
   "id": "8f273e90",
   "metadata": {},
   "outputs": [
    {
     "name": "stderr",
     "output_type": "stream",
     "text": [
      "\r",
      "chunk:   0%|                                                                       | 0/15541 [00:00<?, ?it/s, now=None]"
     ]
    },
    {
     "name": "stdout",
     "output_type": "stream",
     "text": [
      "MoviePy - Writing audio in transcribed_speech.wav\n"
     ]
    },
    {
     "name": "stderr",
     "output_type": "stream",
     "text": [
      "                                                                                                                       "
     ]
    },
    {
     "name": "stdout",
     "output_type": "stream",
     "text": [
      "MoviePy - Done.\n"
     ]
    },
    {
     "name": "stderr",
     "output_type": "stream",
     "text": [
      "\r"
     ]
    }
   ],
   "source": [
    "audioclip = AudioFileClip(zoom_video_file_name)\n",
    "audioclip.write_audiofile(transcribed_audio_file_name)"
   ]
  },
  {
   "cell_type": "code",
   "execution_count": 5,
   "id": "987640ef",
   "metadata": {},
   "outputs": [],
   "source": [
    "with contextlib.closing(wave.open(transcribed_audio_file_name,'r')) as f:\n",
    "    frames = f.getnframes()\n",
    "    rate = f.getframerate()\n",
    "    duration = frames / float(rate)"
   ]
  },
  {
   "cell_type": "code",
   "execution_count": 6,
   "id": "dbc450c8",
   "metadata": {},
   "outputs": [],
   "source": [
    "total_duration = math.ceil(duration / 60)\n",
    "r = sr.Recognizer()"
   ]
  },
  {
   "cell_type": "code",
   "execution_count": 7,
   "id": "d949a46e",
   "metadata": {},
   "outputs": [],
   "source": [
    "for i in range(0, total_duration):\n",
    "    with sr.AudioFile(transcribed_audio_file_name) as source:\n",
    "        audio = r.record(source, offset=i*60, duration=60)\n",
    "    f = open(\"transcription.txt\", \"a\")\n",
    "    f.write(r.recognize_google(audio))\n",
    "    f.write(\" \")\n",
    "f.close()"
   ]
  },
  {
   "cell_type": "code",
   "execution_count": null,
   "id": "4d7cfe1e",
   "metadata": {},
   "outputs": [],
   "source": []
  }
 ],
 "metadata": {
  "kernelspec": {
   "display_name": "Python 3",
   "language": "python",
   "name": "python3"
  },
  "language_info": {
   "codemirror_mode": {
    "name": "ipython",
    "version": 3
   },
   "file_extension": ".py",
   "mimetype": "text/x-python",
   "name": "python",
   "nbconvert_exporter": "python",
   "pygments_lexer": "ipython3",
   "version": "3.8.8"
  }
 },
 "nbformat": 4,
 "nbformat_minor": 5
}
