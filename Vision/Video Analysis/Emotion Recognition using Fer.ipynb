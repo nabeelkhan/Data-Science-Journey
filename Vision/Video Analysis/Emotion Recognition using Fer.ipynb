{
 "cells": [
  {
   "cell_type": "code",
   "execution_count": null,
   "id": "b3e5e6e8",
   "metadata": {},
   "outputs": [],
   "source": [
    "!pip install fer"
   ]
  },
  {
   "cell_type": "code",
   "execution_count": null,
   "id": "27c060ad",
   "metadata": {},
   "outputs": [],
   "source": [
    "from fer import Video\n",
    "from fer import FER\n"
   ]
  },
  {
   "cell_type": "code",
   "execution_count": null,
   "id": "dcab8de3",
   "metadata": {},
   "outputs": [],
   "source": [
    "video_filename = \"zoom_Faiza.mp4\"\n"
   ]
  },
  {
   "cell_type": "code",
   "execution_count": null,
   "id": "c26b5659",
   "metadata": {},
   "outputs": [],
   "source": [
    "video = Video(video_filename)"
   ]
  },
  {
   "cell_type": "code",
   "execution_count": null,
   "id": "166ceb69",
   "metadata": {},
   "outputs": [],
   "source": [
    "#Analyze video, displaying the output\n",
    "detector = FER(mtcnn=True)\n"
   ]
  },
  {
   "cell_type": "code",
   "execution_count": null,
   "id": "0257c7bf",
   "metadata": {},
   "outputs": [],
   "source": [
    "video.analyze(detector, display=True)"
   ]
  },
  {
   "cell_type": "code",
   "execution_count": null,
   "id": "54b9c0ea",
   "metadata": {},
   "outputs": [],
   "source": []
  }
 ],
 "metadata": {
  "kernelspec": {
   "display_name": "Python 3",
   "language": "python",
   "name": "python3"
  },
  "language_info": {
   "codemirror_mode": {
    "name": "ipython",
    "version": 3
   },
   "file_extension": ".py",
   "mimetype": "text/x-python",
   "name": "python",
   "nbconvert_exporter": "python",
   "pygments_lexer": "ipython3",
   "version": "3.8.8"
  }
 },
 "nbformat": 4,
 "nbformat_minor": 5
}
