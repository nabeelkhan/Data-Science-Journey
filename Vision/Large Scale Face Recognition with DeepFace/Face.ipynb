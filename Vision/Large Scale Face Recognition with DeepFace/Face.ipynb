{
 "cells": [
  {
   "cell_type": "code",
   "execution_count": null,
   "id": "ae4ee859",
   "metadata": {},
   "outputs": [],
   "source": [
    "!pip install deepface"
   ]
  },
  {
   "cell_type": "code",
   "execution_count": null,
   "id": "b7d39bca",
   "metadata": {},
   "outputs": [],
   "source": [
    "from deepface import DeepFace\n",
    "import pandas as pd"
   ]
  },
  {
   "cell_type": "code",
   "execution_count": null,
   "id": "4659f971",
   "metadata": {},
   "outputs": [],
   "source": [
    "df = DeepFace.find(img_path = \"img4.jpg\",db_path = \"images/\")"
   ]
  },
  {
   "cell_type": "code",
   "execution_count": null,
   "id": "b0baf264",
   "metadata": {},
   "outputs": [],
   "source": [
    "df"
   ]
  },
  {
   "cell_type": "markdown",
   "id": "d682f162",
   "metadata": {},
   "source": [
    "**time Reduction**"
   ]
  },
  {
   "cell_type": "code",
   "execution_count": null,
   "id": "2004dc21",
   "metadata": {},
   "outputs": [],
   "source": [
    "from deepface.basemodels import VGGFace"
   ]
  },
  {
   "cell_type": "code",
   "execution_count": null,
   "id": "7d56e3e2",
   "metadata": {},
   "outputs": [],
   "source": [
    "model = VGGFace.loadModel()"
   ]
  },
  {
   "cell_type": "code",
   "execution_count": null,
   "id": "e3b1437d",
   "metadata": {},
   "outputs": [],
   "source": [
    "df = DeepFace.find(img_path = \"img4.jpg\",db_path = \"images/\",model = model , distance_metric = 'cosine')"
   ]
  },
  {
   "cell_type": "code",
   "execution_count": null,
   "id": "4d9e4295",
   "metadata": {},
   "outputs": [],
   "source": [
    "df"
   ]
  },
  {
   "cell_type": "code",
   "execution_count": null,
   "id": "a03d2d54",
   "metadata": {},
   "outputs": [],
   "source": []
  }
 ],
 "metadata": {
  "kernelspec": {
   "display_name": "Python 3",
   "language": "python",
   "name": "python3"
  },
  "language_info": {
   "codemirror_mode": {
    "name": "ipython",
    "version": 3
   },
   "file_extension": ".py",
   "mimetype": "text/x-python",
   "name": "python",
   "nbconvert_exporter": "python",
   "pygments_lexer": "ipython3",
   "version": "3.8.8"
  }
 },
 "nbformat": 4,
 "nbformat_minor": 5
}
