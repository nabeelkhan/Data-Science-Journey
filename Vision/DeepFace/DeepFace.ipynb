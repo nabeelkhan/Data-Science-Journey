{
 "cells": [
  {
   "cell_type": "code",
   "execution_count": null,
   "id": "85382c95",
   "metadata": {},
   "outputs": [],
   "source": []
  },
  {
   "cell_type": "code",
   "execution_count": null,
   "id": "636df462",
   "metadata": {},
   "outputs": [],
   "source": [
    "!pip install deepface"
   ]
  },
  {
   "cell_type": "code",
   "execution_count": null,
   "id": "203d375c",
   "metadata": {},
   "outputs": [],
   "source": [
    "from deepface import DeepFace"
   ]
  },
  {
   "cell_type": "code",
   "execution_count": null,
   "id": "4880f914",
   "metadata": {},
   "outputs": [],
   "source": [
    "import matplotlib.pyplot as plt"
   ]
  },
  {
   "cell_type": "code",
   "execution_count": null,
   "id": "9c92f7d8",
   "metadata": {},
   "outputs": [],
   "source": [
    "import cv2"
   ]
  },
  {
   "cell_type": "code",
   "execution_count": null,
   "id": "12dea6aa",
   "metadata": {},
   "outputs": [],
   "source": [
    "img1_path = '../deepface/img1.jpg'\n",
    "img2_path = '../deepface/img2.jpg'\n",
    "img3_path = '../deepface/img3.jpg'"
   ]
  },
  {
   "cell_type": "code",
   "execution_count": null,
   "id": "74833b5f",
   "metadata": {},
   "outputs": [],
   "source": [
    "img1 = DeepFace.detectFace(img1_path)\n",
    "img2 = DeepFace.detectFace(img2_path)\n",
    "img3 = DeepFace.detectFace(img3_path)"
   ]
  },
  {
   "cell_type": "code",
   "execution_count": null,
   "id": "f4cce4c4",
   "metadata": {},
   "outputs": [],
   "source": [
    "plt.imshow(img1)\n"
   ]
  },
  {
   "cell_type": "code",
   "execution_count": null,
   "id": "fe7397e8",
   "metadata": {},
   "outputs": [],
   "source": [
    "plt.imshow(img2)\n"
   ]
  },
  {
   "cell_type": "code",
   "execution_count": null,
   "id": "09957449",
   "metadata": {},
   "outputs": [],
   "source": [
    "plt.imshow(img3)"
   ]
  },
  {
   "cell_type": "markdown",
   "id": "0677ea90",
   "metadata": {},
   "source": [
    "**Facenet Model**"
   ]
  },
  {
   "cell_type": "code",
   "execution_count": null,
   "id": "49fde76d",
   "metadata": {},
   "outputs": [],
   "source": [
    "model_name = 'Facenet'"
   ]
  },
  {
   "cell_type": "code",
   "execution_count": null,
   "id": "842cc789",
   "metadata": {},
   "outputs": [],
   "source": [
    "result1  = DeepFace.verify(img1_path = img1_path , img2_path = img2_path ,model_name = model_name )"
   ]
  },
  {
   "cell_type": "code",
   "execution_count": null,
   "id": "bfe96f61",
   "metadata": {},
   "outputs": [],
   "source": [
    "result1"
   ]
  },
  {
   "cell_type": "markdown",
   "id": "188bcbda",
   "metadata": {},
   "source": [
    "Images are of different people"
   ]
  },
  {
   "cell_type": "markdown",
   "id": "0b0c4048",
   "metadata": {},
   "source": [
    "**VGG-Face Model**"
   ]
  },
  {
   "cell_type": "code",
   "execution_count": null,
   "id": "315c3f11",
   "metadata": {},
   "outputs": [],
   "source": [
    "model_name = 'VGG-Face'"
   ]
  },
  {
   "cell_type": "code",
   "execution_count": null,
   "id": "ab386069",
   "metadata": {},
   "outputs": [],
   "source": [
    "result2 = DeepFace.verify(img1_path = img1_path , img2_path = img2_path ,model_name = model_name )"
   ]
  },
  {
   "cell_type": "code",
   "execution_count": null,
   "id": "10b892bc",
   "metadata": {},
   "outputs": [],
   "source": [
    "result2"
   ]
  },
  {
   "cell_type": "markdown",
   "id": "b6ff51e6",
   "metadata": {},
   "source": [
    "**OpenFace Model**"
   ]
  },
  {
   "cell_type": "code",
   "execution_count": null,
   "id": "e97fcc56",
   "metadata": {},
   "outputs": [],
   "source": [
    "model_name = 'OpenFace'"
   ]
  },
  {
   "cell_type": "code",
   "execution_count": null,
   "id": "f0000a5a",
   "metadata": {},
   "outputs": [],
   "source": [
    "result3 = DeepFace.verify(img1_path = img1_path , img2_path = img2_path ,model_name = model_name )"
   ]
  },
  {
   "cell_type": "code",
   "execution_count": null,
   "id": "a4b0dcac",
   "metadata": {},
   "outputs": [],
   "source": [
    "result3"
   ]
  },
  {
   "cell_type": "markdown",
   "id": "fcd9d6e8",
   "metadata": {},
   "source": [
    "**ArcFace**"
   ]
  },
  {
   "cell_type": "code",
   "execution_count": null,
   "id": "c147f43e",
   "metadata": {},
   "outputs": [],
   "source": [
    "model_name = 'ArcFace'"
   ]
  },
  {
   "cell_type": "code",
   "execution_count": null,
   "id": "a1802f25",
   "metadata": {},
   "outputs": [],
   "source": [
    "result4 = DeepFace.verify(img1_path = img1_path , img2_path = img2_path ,model_name = model_name )"
   ]
  },
  {
   "cell_type": "code",
   "execution_count": null,
   "id": "5f06ca90",
   "metadata": {},
   "outputs": [],
   "source": [
    "result4"
   ]
  },
  {
   "cell_type": "markdown",
   "id": "c0db3425",
   "metadata": {},
   "source": [
    "**DeepFace**"
   ]
  },
  {
   "cell_type": "code",
   "execution_count": null,
   "id": "bd048779",
   "metadata": {},
   "outputs": [],
   "source": [
    "model_name = 'DeepFace'"
   ]
  },
  {
   "cell_type": "code",
   "execution_count": null,
   "id": "b83b162d",
   "metadata": {},
   "outputs": [],
   "source": [
    "result5 = DeepFace.verify(img1_path = img1_path , img2_path = img2_path ,model_name = model_name )"
   ]
  },
  {
   "cell_type": "code",
   "execution_count": null,
   "id": "f477ca41",
   "metadata": {},
   "outputs": [],
   "source": [
    "result5"
   ]
  },
  {
   "cell_type": "code",
   "execution_count": null,
   "id": "2fe3c55a",
   "metadata": {},
   "outputs": [],
   "source": []
  },
  {
   "cell_type": "code",
   "execution_count": null,
   "id": "0a0d5850",
   "metadata": {},
   "outputs": [],
   "source": []
  },
  {
   "cell_type": "code",
   "execution_count": null,
   "id": "af078fc1",
   "metadata": {},
   "outputs": [],
   "source": [
    "df = DeepFace.find(img_path = 'img5.jpg',db_path = 'deepface/', model_name = 'DeepFace')"
   ]
  },
  {
   "cell_type": "code",
   "execution_count": null,
   "id": "2ea98627",
   "metadata": {},
   "outputs": [],
   "source": [
    "df.head()"
   ]
  },
  {
   "cell_type": "code",
   "execution_count": null,
   "id": "d519d42b",
   "metadata": {},
   "outputs": [],
   "source": []
  },
  {
   "cell_type": "code",
   "execution_count": null,
   "id": "25dddc13",
   "metadata": {},
   "outputs": [],
   "source": [
    "obj1 = DeepFace.analyze('img1.jpg')\n",
    "obj1"
   ]
  },
  {
   "cell_type": "code",
   "execution_count": null,
   "id": "61545aea",
   "metadata": {},
   "outputs": [],
   "source": [
    "obj2 = DeepFace.analyze('img2.jpg')\n",
    "obj2"
   ]
  },
  {
   "cell_type": "code",
   "execution_count": null,
   "id": "5e1dfd93",
   "metadata": {},
   "outputs": [],
   "source": [
    "obj3 = DeepFace.analyze('img3.jpg')\n",
    "obj3"
   ]
  },
  {
   "cell_type": "code",
   "execution_count": null,
   "id": "6a74484c",
   "metadata": {},
   "outputs": [],
   "source": [
    "obj4 = DeepFace.analyze('img4.jpg')\n",
    "obj4"
   ]
  },
  {
   "cell_type": "code",
   "execution_count": null,
   "id": "29959a63",
   "metadata": {},
   "outputs": [],
   "source": [
    "obj5 = DeepFace.analyze('img5.jpg')\n",
    "obj5"
   ]
  },
  {
   "cell_type": "code",
   "execution_count": null,
   "id": "ff63e91d",
   "metadata": {},
   "outputs": [],
   "source": [
    "obj6 = DeepFace.analyze('img6.jpg')\n",
    "obj6"
   ]
  },
  {
   "cell_type": "code",
   "execution_count": null,
   "id": "442a7ae3",
   "metadata": {},
   "outputs": [],
   "source": []
  },
  {
   "cell_type": "code",
   "execution_count": null,
   "id": "b126f20a",
   "metadata": {},
   "outputs": [],
   "source": []
  }
 ],
 "metadata": {
  "kernelspec": {
   "display_name": "Python 3",
   "language": "python",
   "name": "python3"
  },
  "language_info": {
   "codemirror_mode": {
    "name": "ipython",
    "version": 3
   },
   "file_extension": ".py",
   "mimetype": "text/x-python",
   "name": "python",
   "nbconvert_exporter": "python",
   "pygments_lexer": "ipython3",
   "version": "3.8.8"
  }
 },
 "nbformat": 4,
 "nbformat_minor": 5
}
